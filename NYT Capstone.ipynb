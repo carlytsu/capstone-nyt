{
  "nbformat": 4,
  "nbformat_minor": 0,
  "metadata": {
    "kernelspec": {
      "name": "python3",
      "display_name": "Python 3"
    },
    "toc": {
      "base_numbering": 1,
      "nav_menu": {},
      "number_sections": true,
      "sideBar": true,
      "skip_h1_title": true,
      "title_cell": "Table of Contents",
      "title_sidebar": "Contents",
      "toc_cell": false,
      "toc_position": {
        "height": "calc(100% - 180px)",
        "left": "10px",
        "top": "150px",
        "width": "265.8px"
      },
      "toc_section_display": true,
      "toc_window_display": true
    },
    "varInspector": {
      "cols": {
        "lenName": 16,
        "lenType": 16,
        "lenVar": 40
      },
      "kernels_config": {
        "python": {
          "delete_cmd_postfix": "",
          "delete_cmd_prefix": "del ",
          "library": "var_list.py",
          "varRefreshCmd": "print(var_dic_list())"
        },
        "r": {
          "delete_cmd_postfix": ") ",
          "delete_cmd_prefix": "rm(",
          "library": "var_list.r",
          "varRefreshCmd": "cat(var_dic_list()) "
        }
      },
      "types_to_exclude": [
        "module",
        "function",
        "builtin_function_or_method",
        "instance",
        "_Feature"
      ],
      "window_display": false
    },
    "colab": {
      "name": "NYT Capstone.ipynb",
      "provenance": [],
      "machine_shape": "hm"
    },
    "language_info": {
      "name": "python"
    }
  },
  "cells": [
    {
      "cell_type": "markdown",
      "metadata": {
        "id": "f3e2Am9_HnNv"
      },
      "source": [
        "# Business Question\n",
        "\n",
        "The New York Times is reevaluating the comment moderation on its web content, in hopes of stimulating reader engagement, deepening the quality of user feedback, and identifying potentially problematic comments more quickly. They would like to use the existing recommendation tool to develop a machine learning model that will predict which comments will be most popular and which comments will be most likely to generate further engagement. The end goal will be to sort comments according to this prediction (as a third option available to users in addition to presenting comments ranked in response to recommendations or chronologically). Additionally, they would like to identify comments that are most likely to be flagged as abuse to bring these comments to the attention of moderators more quickly. "
      ]
    },
    {
      "cell_type": "markdown",
      "metadata": {
        "id": "EZq2OkcDHnN0"
      },
      "source": [
        "### Data Acquisition\n",
        "The data used for this project represents articles and comments on The New York Times website in April 2017. I downloaded the dataset from Kaggle [at this address](https://www.kaggle.com/aashita/nyt-comments). The data was originally collected using the New York Times API. The process for this collection is well-documented on the Kaggle page. "
      ]
    },
    {
      "cell_type": "code",
      "metadata": {
        "colab": {
          "base_uri": "https://localhost:8080/"
        },
        "id": "UwEWbd3LTjqX",
        "outputId": "eaa36837-898d-4aec-9868-3b324d0ed95d"
      },
      "source": [
        "from google.colab import drive\n",
        "drive.mount('/content/gdrive')"
      ],
      "execution_count": 1,
      "outputs": [
        {
          "output_type": "stream",
          "name": "stdout",
          "text": [
            "Drive already mounted at /content/gdrive; to attempt to forcibly remount, call drive.mount(\"/content/gdrive\", force_remount=True).\n"
          ]
        }
      ]
    },
    {
      "cell_type": "code",
      "metadata": {
        "colab": {
          "base_uri": "https://localhost:8080/"
        },
        "id": "5CZCtxFwHnN0",
        "outputId": "d3d83e01-ef37-459d-e1b6-e1b369fdf57d"
      },
      "source": [
        "import numpy as np\n",
        "import pandas as pd\n",
        "import matplotlib.pyplot as plt\n",
        "import plotly.express as px\n",
        "import plotly.graph_objects as go\n",
        "\n",
        "from sklearn.model_selection import train_test_split\n",
        "from sklearn.feature_extraction.text import TfidfVectorizer\n",
        "from sklearn.feature_extraction.text import CountVectorizer\n",
        "from sklearn.feature_extraction.text import TfidfTransformer\n",
        "\n",
        "from sklearn.linear_model import LogisticRegression\n",
        "from sklearn.naive_bayes import GaussianNB\n",
        "from sklearn.metrics import accuracy_score, classification_report, confusion_matrix, plot_confusion_matrix\n",
        "from sklearn.pipeline import Pipeline\n",
        "\n",
        "import nltk\n",
        "from nltk.corpus import stopwords\n",
        "from nltk.stem import WordNetLemmatizer\n",
        "from nltk.tokenize import RegexpTokenizer\n",
        "from nltk.probability import FreqDist\n",
        "\n",
        "import gc\n",
        "\n",
        "#hate speech library\n",
        "!pip install hatesonar\n",
        "from hatesonar import Sonar\n",
        "\n",
        "#toggle variable to print previews, 'sanity checks'\n",
        "print_detail = True"
      ],
      "execution_count": 2,
      "outputs": [
        {
          "output_type": "stream",
          "name": "stdout",
          "text": [
            "Requirement already satisfied: hatesonar in /usr/local/lib/python3.7/dist-packages (0.0.7)\n",
            "Requirement already satisfied: pandas>=0.22.0 in /usr/local/lib/python3.7/dist-packages (from hatesonar) (1.1.5)\n",
            "Requirement already satisfied: numpy>=1.14.0 in /usr/local/lib/python3.7/dist-packages (from hatesonar) (1.19.5)\n",
            "Requirement already satisfied: scikit-learn>=0.19.1 in /usr/local/lib/python3.7/dist-packages (from hatesonar) (0.22.2.post1)\n",
            "Requirement already satisfied: scipy>=1.0.0 in /usr/local/lib/python3.7/dist-packages (from hatesonar) (1.4.1)\n",
            "Requirement already satisfied: joblib>=0.16.0 in /usr/local/lib/python3.7/dist-packages (from hatesonar) (1.0.1)\n",
            "Requirement already satisfied: pytz>=2017.2 in /usr/local/lib/python3.7/dist-packages (from pandas>=0.22.0->hatesonar) (2018.9)\n",
            "Requirement already satisfied: python-dateutil>=2.7.3 in /usr/local/lib/python3.7/dist-packages (from pandas>=0.22.0->hatesonar) (2.8.2)\n",
            "Requirement already satisfied: six>=1.5 in /usr/local/lib/python3.7/dist-packages (from python-dateutil>=2.7.3->pandas>=0.22.0->hatesonar) (1.15.0)\n"
          ]
        }
      ]
    },
    {
      "cell_type": "markdown",
      "metadata": {
        "id": "ZqUgPfMEHnN2"
      },
      "source": [
        "## Preprocessing"
      ]
    },
    {
      "cell_type": "code",
      "metadata": {
        "colab": {
          "base_uri": "https://localhost:8080/",
          "height": 1000
        },
        "id": "kUOkgDWqHnN2",
        "outputId": "d29bdbaa-f0cb-496a-c8ff-cc609dbf4681"
      },
      "source": [
        "# DELETE ME if you end up wanting to expand and add more data to the dataset, you can combine the datasets before this cell \n",
        "# and name them art/comm and then pick up at this point.\n",
        "\n",
        "# article_paths = ['data/ArticlesApril2017.csv',\n",
        "#                  'data/ArticlesApril2018.csv',\n",
        "#                  'data/ArticlesJan2017.csv',\n",
        "#                  'data/ArticlesJan2018.csv']\n",
        "\n",
        "# comment_paths = ['data/CommentsApril2017.csv',\n",
        "#                  'data/CommentsApril2018.csv',\n",
        "#                  'data/CommentsJan2017.csv',\n",
        "#                  'data/CommentsJan2018.csv']\n",
        "\n",
        "# prefix = 'gdrive/MyDrive/'\n",
        "\n",
        "# # read in datasets of articles\n",
        "# art = pd.read_csv(prefix + article_paths[0])\n",
        "# for each in article_paths[1:]:\n",
        "#     print('appending ' + each)\n",
        "#     temp = pd.read_csv(prefix + each)\n",
        "#     art = pd.concat([art, temp])\n",
        "#     print('df shape ' + str(art.shape))\n",
        "        \n",
        "# # read in dataset of comments\n",
        "# comm = pd.read_csv(prefix + comment_paths[0])\n",
        "# for each in comment_paths[1:]:\n",
        "#     print('appending ' + each)\n",
        "#     temp = pd.read_csv(prefix + each)\n",
        "#     comm = pd.concat([comm, temp])\n",
        "#     print('df shape ' + str(comm.shape))\n",
        "\n",
        "\n",
        "art = pd.read_csv('gdrive/MyDrive/data/ArticlesApril2018.csv')\n",
        "\n",
        "comm = pd.read_csv('gdrive/MyDrive/data/CommentsApril2018.csv')\n",
        "    \n",
        "if print_detail:\n",
        "    # preview\n",
        "    display(art.info())\n",
        "    display(comm.info())"
      ],
      "execution_count": 3,
      "outputs": [
        {
          "output_type": "stream",
          "name": "stdout",
          "text": [
            "<class 'pandas.core.frame.DataFrame'>\n",
            "RangeIndex: 1324 entries, 0 to 1323\n",
            "Data columns (total 15 columns):\n",
            " #   Column            Non-Null Count  Dtype \n",
            "---  ------            --------------  ----- \n",
            " 0   articleID         1324 non-null   object\n",
            " 1   articleWordCount  1324 non-null   int64 \n",
            " 2   byline            1324 non-null   object\n",
            " 3   documentType      1324 non-null   object\n",
            " 4   headline          1324 non-null   object\n",
            " 5   keywords          1324 non-null   object\n",
            " 6   multimedia        1324 non-null   int64 \n",
            " 7   newDesk           1324 non-null   object\n",
            " 8   printPage         1324 non-null   int64 \n",
            " 9   pubDate           1324 non-null   object\n",
            " 10  sectionName       1324 non-null   object\n",
            " 11  snippet           1324 non-null   object\n",
            " 12  source            1324 non-null   object\n",
            " 13  typeOfMaterial    1324 non-null   object\n",
            " 14  webURL            1324 non-null   object\n",
            "dtypes: int64(3), object(12)\n",
            "memory usage: 155.3+ KB\n"
          ]
        },
        {
          "output_type": "stream",
          "name": "stderr",
          "text": [
            "/usr/local/lib/python3.7/dist-packages/IPython/core/interactiveshell.py:2718: DtypeWarning:\n",
            "\n",
            "Columns (32) have mixed types.Specify dtype option on import or set low_memory=False.\n",
            "\n"
          ]
        },
        {
          "output_type": "display_data",
          "data": {
            "text/plain": [
              "None"
            ]
          },
          "metadata": {}
        },
        {
          "output_type": "stream",
          "name": "stdout",
          "text": [
            "<class 'pandas.core.frame.DataFrame'>\n",
            "RangeIndex: 264924 entries, 0 to 264923\n",
            "Data columns (total 34 columns):\n",
            " #   Column                 Non-Null Count   Dtype  \n",
            "---  ------                 --------------   -----  \n",
            " 0   approveDate            264924 non-null  int64  \n",
            " 1   articleID              264924 non-null  object \n",
            " 2   articleWordCount       264924 non-null  float64\n",
            " 3   commentBody            264924 non-null  object \n",
            " 4   commentID              264924 non-null  float64\n",
            " 5   commentSequence        264924 non-null  float64\n",
            " 6   commentTitle           264911 non-null  object \n",
            " 7   commentType            264924 non-null  object \n",
            " 8   createDate             264924 non-null  int64  \n",
            " 9   depth                  264924 non-null  float64\n",
            " 10  editorsSelection       264924 non-null  bool   \n",
            " 11  inReplyTo              264924 non-null  float64\n",
            " 12  newDesk                264924 non-null  object \n",
            " 13  parentID               264924 non-null  float64\n",
            " 14  parentUserDisplayName  83875 non-null   object \n",
            " 15  permID                 264904 non-null  object \n",
            " 16  picURL                 264924 non-null  object \n",
            " 17  printPage              264924 non-null  float64\n",
            " 18  recommendations        264924 non-null  int64  \n",
            " 19  recommendedFlag        0 non-null       float64\n",
            " 20  replyCount             264924 non-null  int64  \n",
            " 21  reportAbuseFlag        0 non-null       float64\n",
            " 22  sectionName            264924 non-null  object \n",
            " 23  sharing                264924 non-null  int64  \n",
            " 24  status                 264924 non-null  object \n",
            " 25  timespeople            264924 non-null  int64  \n",
            " 26  trusted                264924 non-null  int64  \n",
            " 27  typeOfMaterial         264924 non-null  object \n",
            " 28  updateDate             264924 non-null  int64  \n",
            " 29  userDisplayName        264824 non-null  object \n",
            " 30  userID                 264924 non-null  float64\n",
            " 31  userLocation           264786 non-null  object \n",
            " 32  userTitle              100 non-null     object \n",
            " 33  userURL                0 non-null       float64\n",
            "dtypes: bool(1), float64(11), int64(8), object(14)\n",
            "memory usage: 67.0+ MB\n"
          ]
        },
        {
          "output_type": "display_data",
          "data": {
            "text/plain": [
              "None"
            ]
          },
          "metadata": {}
        }
      ]
    },
    {
      "cell_type": "code",
      "metadata": {
        "colab": {
          "base_uri": "https://localhost:8080/",
          "height": 1000
        },
        "id": "BX44u9imHnN4",
        "outputId": "9758d1dc-aadd-49d0-cb89-6f4042cbd09a"
      },
      "source": [
        "if print_detail:\n",
        "    #preview\n",
        "    display(art.head())\n",
        "    display(comm.head())"
      ],
      "execution_count": 4,
      "outputs": [
        {
          "output_type": "display_data",
          "data": {
            "text/html": [
              "<div>\n",
              "<style scoped>\n",
              "    .dataframe tbody tr th:only-of-type {\n",
              "        vertical-align: middle;\n",
              "    }\n",
              "\n",
              "    .dataframe tbody tr th {\n",
              "        vertical-align: top;\n",
              "    }\n",
              "\n",
              "    .dataframe thead th {\n",
              "        text-align: right;\n",
              "    }\n",
              "</style>\n",
              "<table border=\"1\" class=\"dataframe\">\n",
              "  <thead>\n",
              "    <tr style=\"text-align: right;\">\n",
              "      <th></th>\n",
              "      <th>articleID</th>\n",
              "      <th>articleWordCount</th>\n",
              "      <th>byline</th>\n",
              "      <th>documentType</th>\n",
              "      <th>headline</th>\n",
              "      <th>keywords</th>\n",
              "      <th>multimedia</th>\n",
              "      <th>newDesk</th>\n",
              "      <th>printPage</th>\n",
              "      <th>pubDate</th>\n",
              "      <th>sectionName</th>\n",
              "      <th>snippet</th>\n",
              "      <th>source</th>\n",
              "      <th>typeOfMaterial</th>\n",
              "      <th>webURL</th>\n",
              "    </tr>\n",
              "  </thead>\n",
              "  <tbody>\n",
              "    <tr>\n",
              "      <th>0</th>\n",
              "      <td>5adf6684068401528a2aa69b</td>\n",
              "      <td>781</td>\n",
              "      <td>By JOHN BRANCH</td>\n",
              "      <td>article</td>\n",
              "      <td>Former N.F.L. Cheerleaders’ Settlement Offer: ...</td>\n",
              "      <td>['Workplace Hazards and Violations', 'Football...</td>\n",
              "      <td>68</td>\n",
              "      <td>Sports</td>\n",
              "      <td>0</td>\n",
              "      <td>2018-04-24 17:16:49</td>\n",
              "      <td>Pro Football</td>\n",
              "      <td>“I understand that they could meet with us, pa...</td>\n",
              "      <td>The New York Times</td>\n",
              "      <td>News</td>\n",
              "      <td>https://www.nytimes.com/2018/04/24/sports/foot...</td>\n",
              "    </tr>\n",
              "    <tr>\n",
              "      <th>1</th>\n",
              "      <td>5adf653f068401528a2aa697</td>\n",
              "      <td>656</td>\n",
              "      <td>By LISA FRIEDMAN</td>\n",
              "      <td>article</td>\n",
              "      <td>E.P.A. to Unveil a New Rule. Its Effect: Less ...</td>\n",
              "      <td>['Environmental Protection Agency', 'Pruitt, S...</td>\n",
              "      <td>68</td>\n",
              "      <td>Climate</td>\n",
              "      <td>0</td>\n",
              "      <td>2018-04-24 17:11:21</td>\n",
              "      <td>Unknown</td>\n",
              "      <td>The agency plans to publish a new regulation T...</td>\n",
              "      <td>The New York Times</td>\n",
              "      <td>News</td>\n",
              "      <td>https://www.nytimes.com/2018/04/24/climate/epa...</td>\n",
              "    </tr>\n",
              "    <tr>\n",
              "      <th>2</th>\n",
              "      <td>5adf4626068401528a2aa628</td>\n",
              "      <td>2427</td>\n",
              "      <td>By PETE WELLS</td>\n",
              "      <td>article</td>\n",
              "      <td>The New Noma, Explained</td>\n",
              "      <td>['Restaurants', 'Noma (Copenhagen, Restaurant)...</td>\n",
              "      <td>66</td>\n",
              "      <td>Dining</td>\n",
              "      <td>0</td>\n",
              "      <td>2018-04-24 14:58:44</td>\n",
              "      <td>Unknown</td>\n",
              "      <td>What’s it like to eat at the second incarnatio...</td>\n",
              "      <td>The New York Times</td>\n",
              "      <td>News</td>\n",
              "      <td>https://www.nytimes.com/2018/04/24/dining/noma...</td>\n",
              "    </tr>\n",
              "    <tr>\n",
              "      <th>3</th>\n",
              "      <td>5adf40d2068401528a2aa619</td>\n",
              "      <td>626</td>\n",
              "      <td>By JULIE HIRSCHFELD DAVIS and PETER BAKER</td>\n",
              "      <td>article</td>\n",
              "      <td>Unknown</td>\n",
              "      <td>['Macron, Emmanuel (1977- )', 'Trump, Donald J...</td>\n",
              "      <td>68</td>\n",
              "      <td>Washington</td>\n",
              "      <td>0</td>\n",
              "      <td>2018-04-24 14:35:57</td>\n",
              "      <td>Europe</td>\n",
              "      <td>President Trump welcomed President Emmanuel Ma...</td>\n",
              "      <td>The New York Times</td>\n",
              "      <td>News</td>\n",
              "      <td>https://www.nytimes.com/2018/04/24/world/europ...</td>\n",
              "    </tr>\n",
              "    <tr>\n",
              "      <th>4</th>\n",
              "      <td>5adf3d64068401528a2aa60f</td>\n",
              "      <td>815</td>\n",
              "      <td>By IAN AUSTEN and DAN BILEFSKY</td>\n",
              "      <td>article</td>\n",
              "      <td>Unknown</td>\n",
              "      <td>['Toronto, Ontario, Attack (April, 2018)', 'Mu...</td>\n",
              "      <td>68</td>\n",
              "      <td>Foreign</td>\n",
              "      <td>0</td>\n",
              "      <td>2018-04-24 14:21:21</td>\n",
              "      <td>Canada</td>\n",
              "      <td>Alek Minassian, 25, a resident of Toronto’s Ri...</td>\n",
              "      <td>The New York Times</td>\n",
              "      <td>News</td>\n",
              "      <td>https://www.nytimes.com/2018/04/24/world/canad...</td>\n",
              "    </tr>\n",
              "  </tbody>\n",
              "</table>\n",
              "</div>"
            ],
            "text/plain": [
              "                  articleID  ...                                             webURL\n",
              "0  5adf6684068401528a2aa69b  ...  https://www.nytimes.com/2018/04/24/sports/foot...\n",
              "1  5adf653f068401528a2aa697  ...  https://www.nytimes.com/2018/04/24/climate/epa...\n",
              "2  5adf4626068401528a2aa628  ...  https://www.nytimes.com/2018/04/24/dining/noma...\n",
              "3  5adf40d2068401528a2aa619  ...  https://www.nytimes.com/2018/04/24/world/europ...\n",
              "4  5adf3d64068401528a2aa60f  ...  https://www.nytimes.com/2018/04/24/world/canad...\n",
              "\n",
              "[5 rows x 15 columns]"
            ]
          },
          "metadata": {}
        },
        {
          "output_type": "display_data",
          "data": {
            "text/html": [
              "<div>\n",
              "<style scoped>\n",
              "    .dataframe tbody tr th:only-of-type {\n",
              "        vertical-align: middle;\n",
              "    }\n",
              "\n",
              "    .dataframe tbody tr th {\n",
              "        vertical-align: top;\n",
              "    }\n",
              "\n",
              "    .dataframe thead th {\n",
              "        text-align: right;\n",
              "    }\n",
              "</style>\n",
              "<table border=\"1\" class=\"dataframe\">\n",
              "  <thead>\n",
              "    <tr style=\"text-align: right;\">\n",
              "      <th></th>\n",
              "      <th>approveDate</th>\n",
              "      <th>articleID</th>\n",
              "      <th>articleWordCount</th>\n",
              "      <th>commentBody</th>\n",
              "      <th>commentID</th>\n",
              "      <th>commentSequence</th>\n",
              "      <th>commentTitle</th>\n",
              "      <th>commentType</th>\n",
              "      <th>createDate</th>\n",
              "      <th>depth</th>\n",
              "      <th>editorsSelection</th>\n",
              "      <th>inReplyTo</th>\n",
              "      <th>newDesk</th>\n",
              "      <th>parentID</th>\n",
              "      <th>parentUserDisplayName</th>\n",
              "      <th>permID</th>\n",
              "      <th>picURL</th>\n",
              "      <th>printPage</th>\n",
              "      <th>recommendations</th>\n",
              "      <th>recommendedFlag</th>\n",
              "      <th>replyCount</th>\n",
              "      <th>reportAbuseFlag</th>\n",
              "      <th>sectionName</th>\n",
              "      <th>sharing</th>\n",
              "      <th>status</th>\n",
              "      <th>timespeople</th>\n",
              "      <th>trusted</th>\n",
              "      <th>typeOfMaterial</th>\n",
              "      <th>updateDate</th>\n",
              "      <th>userDisplayName</th>\n",
              "      <th>userID</th>\n",
              "      <th>userLocation</th>\n",
              "      <th>userTitle</th>\n",
              "      <th>userURL</th>\n",
              "    </tr>\n",
              "  </thead>\n",
              "  <tbody>\n",
              "    <tr>\n",
              "      <th>0</th>\n",
              "      <td>1524594282</td>\n",
              "      <td>5adf6684068401528a2aa69b</td>\n",
              "      <td>781.0</td>\n",
              "      <td>How could the league possibly refuse this offe...</td>\n",
              "      <td>26853969.0</td>\n",
              "      <td>26853969.0</td>\n",
              "      <td>&lt;br/&gt;</td>\n",
              "      <td>comment</td>\n",
              "      <td>1524594011</td>\n",
              "      <td>1.0</td>\n",
              "      <td>False</td>\n",
              "      <td>0.0</td>\n",
              "      <td>Sports</td>\n",
              "      <td>0.0</td>\n",
              "      <td>NaN</td>\n",
              "      <td>26853969</td>\n",
              "      <td>http://graphics8.nytimes.com/images/apps/times...</td>\n",
              "      <td>0.0</td>\n",
              "      <td>0</td>\n",
              "      <td>NaN</td>\n",
              "      <td>0</td>\n",
              "      <td>NaN</td>\n",
              "      <td>Pro Football</td>\n",
              "      <td>0</td>\n",
              "      <td>approved</td>\n",
              "      <td>1</td>\n",
              "      <td>0</td>\n",
              "      <td>News</td>\n",
              "      <td>1524594282</td>\n",
              "      <td>Christopher Rillo</td>\n",
              "      <td>46566740.0</td>\n",
              "      <td>San Francisco</td>\n",
              "      <td>NaN</td>\n",
              "      <td>NaN</td>\n",
              "    </tr>\n",
              "    <tr>\n",
              "      <th>1</th>\n",
              "      <td>1524594252</td>\n",
              "      <td>5adf6684068401528a2aa69b</td>\n",
              "      <td>781.0</td>\n",
              "      <td>So then the execs can be like \"yeah...we will ...</td>\n",
              "      <td>26853699.0</td>\n",
              "      <td>26853699.0</td>\n",
              "      <td>&lt;br/&gt;</td>\n",
              "      <td>comment</td>\n",
              "      <td>1524593146</td>\n",
              "      <td>1.0</td>\n",
              "      <td>False</td>\n",
              "      <td>0.0</td>\n",
              "      <td>Sports</td>\n",
              "      <td>0.0</td>\n",
              "      <td>NaN</td>\n",
              "      <td>26853699</td>\n",
              "      <td>http://graphics8.nytimes.com/images/apps/times...</td>\n",
              "      <td>0.0</td>\n",
              "      <td>0</td>\n",
              "      <td>NaN</td>\n",
              "      <td>0</td>\n",
              "      <td>NaN</td>\n",
              "      <td>Pro Football</td>\n",
              "      <td>0</td>\n",
              "      <td>approved</td>\n",
              "      <td>1</td>\n",
              "      <td>0</td>\n",
              "      <td>News</td>\n",
              "      <td>1524594252</td>\n",
              "      <td>Matt Brand</td>\n",
              "      <td>64324866.0</td>\n",
              "      <td>Williamsburg, Brooklyn</td>\n",
              "      <td>NaN</td>\n",
              "      <td>NaN</td>\n",
              "    </tr>\n",
              "    <tr>\n",
              "      <th>2</th>\n",
              "      <td>1524594250</td>\n",
              "      <td>5adf6684068401528a2aa69b</td>\n",
              "      <td>781.0</td>\n",
              "      <td>I would not want to play chess against these c...</td>\n",
              "      <td>26853677.0</td>\n",
              "      <td>26853677.0</td>\n",
              "      <td>&lt;br/&gt;</td>\n",
              "      <td>comment</td>\n",
              "      <td>1524593032</td>\n",
              "      <td>1.0</td>\n",
              "      <td>False</td>\n",
              "      <td>0.0</td>\n",
              "      <td>Sports</td>\n",
              "      <td>0.0</td>\n",
              "      <td>NaN</td>\n",
              "      <td>26853677</td>\n",
              "      <td>http://graphics8.nytimes.com/images/apps/times...</td>\n",
              "      <td>0.0</td>\n",
              "      <td>0</td>\n",
              "      <td>NaN</td>\n",
              "      <td>0</td>\n",
              "      <td>NaN</td>\n",
              "      <td>Pro Football</td>\n",
              "      <td>0</td>\n",
              "      <td>approved</td>\n",
              "      <td>1</td>\n",
              "      <td>0</td>\n",
              "      <td>News</td>\n",
              "      <td>1524594250</td>\n",
              "      <td>Joseph</td>\n",
              "      <td>78105093.0</td>\n",
              "      <td>Fayetteville, AR</td>\n",
              "      <td>NaN</td>\n",
              "      <td>NaN</td>\n",
              "    </tr>\n",
              "    <tr>\n",
              "      <th>3</th>\n",
              "      <td>1524593431</td>\n",
              "      <td>5adf6684068401528a2aa69b</td>\n",
              "      <td>781.0</td>\n",
              "      <td>Could the cheerleaders join the Actors' Equity...</td>\n",
              "      <td>26853784.0</td>\n",
              "      <td>26853784.0</td>\n",
              "      <td>&lt;br/&gt;</td>\n",
              "      <td>comment</td>\n",
              "      <td>1524593426</td>\n",
              "      <td>1.0</td>\n",
              "      <td>False</td>\n",
              "      <td>0.0</td>\n",
              "      <td>Sports</td>\n",
              "      <td>0.0</td>\n",
              "      <td>NaN</td>\n",
              "      <td>26853784</td>\n",
              "      <td>http://graphics8.nytimes.com/images/apps/times...</td>\n",
              "      <td>0.0</td>\n",
              "      <td>3</td>\n",
              "      <td>NaN</td>\n",
              "      <td>0</td>\n",
              "      <td>NaN</td>\n",
              "      <td>Pro Football</td>\n",
              "      <td>0</td>\n",
              "      <td>approved</td>\n",
              "      <td>0</td>\n",
              "      <td>0</td>\n",
              "      <td>News</td>\n",
              "      <td>1524593431</td>\n",
              "      <td>Stephen</td>\n",
              "      <td>81939618.0</td>\n",
              "      <td>Phoenix, AZ</td>\n",
              "      <td>NaN</td>\n",
              "      <td>NaN</td>\n",
              "    </tr>\n",
              "    <tr>\n",
              "      <th>4</th>\n",
              "      <td>1524595048</td>\n",
              "      <td>5adf653f068401528a2aa697</td>\n",
              "      <td>656.0</td>\n",
              "      <td>Seeking conclusions which support preconceived...</td>\n",
              "      <td>26854236.0</td>\n",
              "      <td>26854236.0</td>\n",
              "      <td>&lt;br/&gt;</td>\n",
              "      <td>comment</td>\n",
              "      <td>1524595043</td>\n",
              "      <td>1.0</td>\n",
              "      <td>False</td>\n",
              "      <td>0.0</td>\n",
              "      <td>Climate</td>\n",
              "      <td>0.0</td>\n",
              "      <td>NaN</td>\n",
              "      <td>26854236</td>\n",
              "      <td>http://graphics8.nytimes.com/images/apps/times...</td>\n",
              "      <td>0.0</td>\n",
              "      <td>0</td>\n",
              "      <td>NaN</td>\n",
              "      <td>0</td>\n",
              "      <td>NaN</td>\n",
              "      <td>Unknown</td>\n",
              "      <td>1</td>\n",
              "      <td>approved</td>\n",
              "      <td>1</td>\n",
              "      <td>0</td>\n",
              "      <td>News</td>\n",
              "      <td>1524595048</td>\n",
              "      <td>Paul Zorsky</td>\n",
              "      <td>58642997.0</td>\n",
              "      <td>Texas</td>\n",
              "      <td>NaN</td>\n",
              "      <td>NaN</td>\n",
              "    </tr>\n",
              "  </tbody>\n",
              "</table>\n",
              "</div>"
            ],
            "text/plain": [
              "   approveDate                 articleID  ...  userTitle userURL\n",
              "0   1524594282  5adf6684068401528a2aa69b  ...        NaN     NaN\n",
              "1   1524594252  5adf6684068401528a2aa69b  ...        NaN     NaN\n",
              "2   1524594250  5adf6684068401528a2aa69b  ...        NaN     NaN\n",
              "3   1524593431  5adf6684068401528a2aa69b  ...        NaN     NaN\n",
              "4   1524595048  5adf653f068401528a2aa697  ...        NaN     NaN\n",
              "\n",
              "[5 rows x 34 columns]"
            ]
          },
          "metadata": {}
        }
      ]
    },
    {
      "cell_type": "code",
      "metadata": {
        "colab": {
          "base_uri": "https://localhost:8080/",
          "height": 272
        },
        "id": "k-MMTUxMHnN5",
        "outputId": "468ea581-514a-4266-8cc6-8145c2fcd861"
      },
      "source": [
        "print('Article columns: ')\n",
        "display(art.columns)\n",
        "print('Comments columns: ')\n",
        "display(comm.columns)"
      ],
      "execution_count": 5,
      "outputs": [
        {
          "output_type": "stream",
          "name": "stdout",
          "text": [
            "Article columns: \n"
          ]
        },
        {
          "output_type": "display_data",
          "data": {
            "text/plain": [
              "Index(['articleID', 'articleWordCount', 'byline', 'documentType', 'headline',\n",
              "       'keywords', 'multimedia', 'newDesk', 'printPage', 'pubDate',\n",
              "       'sectionName', 'snippet', 'source', 'typeOfMaterial', 'webURL'],\n",
              "      dtype='object')"
            ]
          },
          "metadata": {}
        },
        {
          "output_type": "stream",
          "name": "stdout",
          "text": [
            "Comments columns: \n"
          ]
        },
        {
          "output_type": "display_data",
          "data": {
            "text/plain": [
              "Index(['approveDate', 'articleID', 'articleWordCount', 'commentBody',\n",
              "       'commentID', 'commentSequence', 'commentTitle', 'commentType',\n",
              "       'createDate', 'depth', 'editorsSelection', 'inReplyTo', 'newDesk',\n",
              "       'parentID', 'parentUserDisplayName', 'permID', 'picURL', 'printPage',\n",
              "       'recommendations', 'recommendedFlag', 'replyCount', 'reportAbuseFlag',\n",
              "       'sectionName', 'sharing', 'status', 'timespeople', 'trusted',\n",
              "       'typeOfMaterial', 'updateDate', 'userDisplayName', 'userID',\n",
              "       'userLocation', 'userTitle', 'userURL'],\n",
              "      dtype='object')"
            ]
          },
          "metadata": {}
        }
      ]
    },
    {
      "cell_type": "code",
      "metadata": {
        "id": "8LOk39IrHnN5"
      },
      "source": [
        "#combine the article and comment dataframes using articleID as an index\n",
        "df = pd.merge(comm, art, on='articleID')\n",
        "\n",
        "if print_detail:\n",
        "    df.head()\n",
        "\n"
      ],
      "execution_count": 6,
      "outputs": []
    },
    {
      "cell_type": "code",
      "metadata": {
        "colab": {
          "base_uri": "https://localhost:8080/"
        },
        "id": "5SbN5UvBnT3S",
        "outputId": "83d78c06-e9c1-43b4-b023-3c7002132cbd"
      },
      "source": [
        "del comm\n",
        "del art\n",
        "gc.collect()"
      ],
      "execution_count": 7,
      "outputs": [
        {
          "output_type": "execute_result",
          "data": {
            "text/plain": [
              "54"
            ]
          },
          "metadata": {},
          "execution_count": 7
        }
      ]
    },
    {
      "cell_type": "code",
      "metadata": {
        "colab": {
          "base_uri": "https://localhost:8080/"
        },
        "id": "81fkj9CrHnN6",
        "outputId": "9f4799ce-e944-41cc-a3c0-1bb0186d85ae"
      },
      "source": [
        "df.columns"
      ],
      "execution_count": 8,
      "outputs": [
        {
          "output_type": "execute_result",
          "data": {
            "text/plain": [
              "Index(['approveDate', 'articleID', 'articleWordCount_x', 'commentBody',\n",
              "       'commentID', 'commentSequence', 'commentTitle', 'commentType',\n",
              "       'createDate', 'depth', 'editorsSelection', 'inReplyTo', 'newDesk_x',\n",
              "       'parentID', 'parentUserDisplayName', 'permID', 'picURL', 'printPage_x',\n",
              "       'recommendations', 'recommendedFlag', 'replyCount', 'reportAbuseFlag',\n",
              "       'sectionName_x', 'sharing', 'status', 'timespeople', 'trusted',\n",
              "       'typeOfMaterial_x', 'updateDate', 'userDisplayName', 'userID',\n",
              "       'userLocation', 'userTitle', 'userURL', 'articleWordCount_y', 'byline',\n",
              "       'documentType', 'headline', 'keywords', 'multimedia', 'newDesk_y',\n",
              "       'printPage_y', 'pubDate', 'sectionName_y', 'snippet', 'source',\n",
              "       'typeOfMaterial_y', 'webURL'],\n",
              "      dtype='object')"
            ]
          },
          "metadata": {},
          "execution_count": 8
        }
      ]
    },
    {
      "cell_type": "markdown",
      "metadata": {
        "id": "ti5NrDuWHnN6"
      },
      "source": [
        "Before I start the Exploratory Data Analysis (EDA), I want to eliminate some of the columns that are duplicates, or contain information that I know won't be helpful (such as URLs). Some of these columns I'm still unsure about. "
      ]
    },
    {
      "cell_type": "code",
      "metadata": {
        "id": "T2lT5xMjHnN7"
      },
      "source": [
        "def reverse_drop(df, keep_list):\n",
        "    '''pass in a dataframe and a list of the columns to keep. Will ID all columns NOT in list\n",
        "    and drop them, returning the resulting dataframe'''\n",
        "    \n",
        "    \n",
        "    to_drop = [item for item in list(df.columns) if item not in keep_list]\n",
        "\n",
        "    # if print_detail:\n",
        "    #     print(to_drop)\n",
        "\n",
        "    return df.drop(columns=to_drop)\n"
      ],
      "execution_count": 9,
      "outputs": []
    },
    {
      "cell_type": "code",
      "metadata": {
        "colab": {
          "base_uri": "https://localhost:8080/"
        },
        "id": "GZk6ZBMTHnN8",
        "outputId": "58f3054b-2f4f-4aaf-a9f2-bd8549ca6761"
      },
      "source": [
        "keep = ['commentBody', 'commentID', 'commentType', \n",
        "        'editorsSelection','recommendations', 'replyCount', 'articleID',\n",
        "        'timespeople', 'trusted','sectionName_x', 'depth', 'inReplyTo',\n",
        "        'newDesk_x', 'articleWordCount_x', 'typeOfMaterial_x' , 'pubDate',\n",
        "        'documentType', 'headline']\n",
        "\n",
        "df = reverse_drop(df, keep)\n",
        "\n",
        "if print_detail:\n",
        "    print(df.columns)"
      ],
      "execution_count": 10,
      "outputs": [
        {
          "output_type": "stream",
          "name": "stdout",
          "text": [
            "Index(['articleID', 'articleWordCount_x', 'commentBody', 'commentID',\n",
            "       'commentType', 'depth', 'editorsSelection', 'inReplyTo', 'newDesk_x',\n",
            "       'recommendations', 'replyCount', 'sectionName_x', 'timespeople',\n",
            "       'trusted', 'typeOfMaterial_x', 'documentType', 'headline', 'pubDate'],\n",
            "      dtype='object')\n"
          ]
        }
      ]
    },
    {
      "cell_type": "code",
      "metadata": {
        "colab": {
          "base_uri": "https://localhost:8080/"
        },
        "id": "7LxP49SoHnN8",
        "outputId": "1867972a-a6a5-44ab-dd37-b73e1d721f58"
      },
      "source": [
        "df.info()"
      ],
      "execution_count": 11,
      "outputs": [
        {
          "output_type": "stream",
          "name": "stdout",
          "text": [
            "<class 'pandas.core.frame.DataFrame'>\n",
            "Int64Index: 257661 entries, 0 to 257660\n",
            "Data columns (total 18 columns):\n",
            " #   Column              Non-Null Count   Dtype  \n",
            "---  ------              --------------   -----  \n",
            " 0   articleID           257661 non-null  object \n",
            " 1   articleWordCount_x  257661 non-null  float64\n",
            " 2   commentBody         257661 non-null  object \n",
            " 3   commentID           257661 non-null  float64\n",
            " 4   commentType         257661 non-null  object \n",
            " 5   depth               257661 non-null  float64\n",
            " 6   editorsSelection    257661 non-null  bool   \n",
            " 7   inReplyTo           257661 non-null  float64\n",
            " 8   newDesk_x           257661 non-null  object \n",
            " 9   recommendations     257661 non-null  int64  \n",
            " 10  replyCount          257661 non-null  int64  \n",
            " 11  sectionName_x       257661 non-null  object \n",
            " 12  timespeople         257661 non-null  int64  \n",
            " 13  trusted             257661 non-null  int64  \n",
            " 14  typeOfMaterial_x    257661 non-null  object \n",
            " 15  documentType        257661 non-null  object \n",
            " 16  headline            257661 non-null  object \n",
            " 17  pubDate             257661 non-null  object \n",
            "dtypes: bool(1), float64(4), int64(4), object(9)\n",
            "memory usage: 35.6+ MB\n"
          ]
        }
      ]
    },
    {
      "cell_type": "markdown",
      "metadata": {
        "id": "-UvZjbplHnN9"
      },
      "source": [
        "## EDA part 1"
      ]
    },
    {
      "cell_type": "markdown",
      "metadata": {
        "id": "i7qcUCBRHnN9"
      },
      "source": [
        "### Initial Article Analysis/Feature Engineering"
      ]
    },
    {
      "cell_type": "code",
      "metadata": {
        "id": "a-XDZH22HnN-"
      },
      "source": [
        "def quick_look(frame, col, range = None, bins = 10):\n",
        "    '''displays the name, describe(), and histogram for the\n",
        "        specified column'''\n",
        "    print(col + ' description: ')\n",
        "    display(frame[col].describe())\n",
        "    display(frame[col].value_counts())\n",
        "    \n",
        "    if frame[col].nunique == 2:\n",
        "        print('Boolean variable; no histogram created')\n",
        "    \n",
        "    else:\n",
        "    \n",
        "        plt.hist(frame[col],\n",
        "                      range = range,\n",
        "                      bins = bins)\n",
        "\n",
        "        plt.title(col + ' Histogram')\n",
        "        plt.show()"
      ],
      "execution_count": 12,
      "outputs": []
    },
    {
      "cell_type": "markdown",
      "metadata": {
        "id": "tGW6PL8NHnN-"
      },
      "source": [
        "how many articles"
      ]
    },
    {
      "cell_type": "code",
      "metadata": {
        "colab": {
          "base_uri": "https://localhost:8080/"
        },
        "id": "JGEve7r2HnN-",
        "outputId": "95d200d5-5f1f-4ae9-e6d2-99b3728317c9"
      },
      "source": [
        "print('Number of Articles: ')\n",
        "print(df['articleID'].nunique())"
      ],
      "execution_count": 13,
      "outputs": [
        {
          "output_type": "stream",
          "name": "stdout",
          "text": [
            "Number of Articles: \n",
            "1324\n"
          ]
        }
      ]
    },
    {
      "cell_type": "markdown",
      "metadata": {
        "id": "EXS4Jl5THnN_"
      },
      "source": [
        "section breakdown\n",
        "\n",
        "One of the more interesting and useful ways that the data segments itself is by section. There are several variables (sectionName, newDesk, typeOfMaterial) that might end up being best for sorting the data, so I want to take a look at each of them to see which one is most helpful."
      ]
    },
    {
      "cell_type": "code",
      "metadata": {
        "colab": {
          "base_uri": "https://localhost:8080/",
          "height": 374
        },
        "id": "noq5c6eqHnN_",
        "outputId": "aba60faf-6d7b-4ce5-e63a-121653f8529d"
      },
      "source": [
        "# the saddest little helper function\n",
        "def print_categories(column):\n",
        "    '''the function will print the name of a given column as well as all of the categories in that column'''\n",
        "    print(column)\n",
        "    display(df[column].unique())\n",
        "\n",
        "#create a list of potential section variables\n",
        "potential_ys = ['sectionName_x', 'newDesk_x', 'typeOfMaterial_x']\n",
        "\n",
        "# print categories for each of the potential section variables\n",
        "for each in potential_ys:\n",
        "    print_categories(each)"
      ],
      "execution_count": 14,
      "outputs": [
        {
          "output_type": "stream",
          "name": "stdout",
          "text": [
            "sectionName_x\n"
          ]
        },
        {
          "output_type": "display_data",
          "data": {
            "text/plain": [
              "array(['Pro Football', 'Unknown', 'Europe', 'Canada', 'Politics',\n",
              "       'Book Review', 'Eat', 'DealBook', 'Asia Pacific',\n",
              "       'Wine, Beer & Cocktails', 'Family', 'Hockey', 'Africa',\n",
              "       'Television', 'Economy', 'Middle East', 'Tennis', 'Sunday Review',\n",
              "       'Live', 'The Daily', 'Move', 'Cycling', 'Americas', 'Australia',\n",
              "       'Weddings', 'Art & Design', 'Lesson Plans', 'Personal Tech',\n",
              "       'Music', 'Mind', 'Pro Basketball', 'Learning', 'Media', 'Golf',\n",
              "       'College Basketball', 'Soccer'], dtype=object)"
            ]
          },
          "metadata": {}
        },
        {
          "output_type": "stream",
          "name": "stdout",
          "text": [
            "newDesk_x\n"
          ]
        },
        {
          "output_type": "display_data",
          "data": {
            "text/plain": [
              "array(['Sports', 'Climate', 'Dining', 'Washington', 'Foreign', 'NYTNow',\n",
              "       'Express', 'Insider', 'Learning', 'Magazine', 'Metro',\n",
              "       'RealEstate', 'Business', 'Politics', 'National',\n",
              "       'SpecialSections', 'BookReview', 'Well', 'Games', 'Culture',\n",
              "       'Editorial', 'OpEd', 'Arts&Leisure', 'Science', 'Travel', 'Upshot',\n",
              "       'Metropolitan', 'Investigative', 'NewsDesk', 'Weekend',\n",
              "       'SundayBusiness', 'Styles', 'Photo', 'Society', 'Obits',\n",
              "       'Smarter Living', 'Podcasts', 'TStyle', 'Summary'], dtype=object)"
            ]
          },
          "metadata": {}
        },
        {
          "output_type": "stream",
          "name": "stdout",
          "text": [
            "typeOfMaterial_x\n"
          ]
        },
        {
          "output_type": "display_data",
          "data": {
            "text/plain": [
              "array(['News', 'briefing', 'Review', 'Editorial', 'Op-Ed',\n",
              "       'News Analysis', 'Question', 'Obituary (Obit)'], dtype=object)"
            ]
          },
          "metadata": {}
        }
      ]
    },
    {
      "cell_type": "code",
      "metadata": {
        "colab": {
          "base_uri": "https://localhost:8080/",
          "height": 1000
        },
        "id": "SRVpvRcZHnOA",
        "outputId": "0974ab15-a223-4ef1-de5c-ed40cc2ae5c3"
      },
      "source": [
        "df_sections = df.groupby(by='newDesk_x').count()\n",
        "\n",
        "display(df_sections['articleID'])\n",
        "df_sections['commentBody'].sort_values(ascending=False)"
      ],
      "execution_count": 15,
      "outputs": [
        {
          "output_type": "display_data",
          "data": {
            "text/plain": [
              "newDesk_x\n",
              "Arts&Leisure         497\n",
              "BookReview          1036\n",
              "Business           20697\n",
              "Climate             3885\n",
              "Culture             4803\n",
              "Dining              1705\n",
              "Editorial          10774\n",
              "Express             2595\n",
              "Foreign            14655\n",
              "Games               3875\n",
              "Insider              266\n",
              "Investigative       4785\n",
              "Learning            3436\n",
              "Magazine            5552\n",
              "Metro               5128\n",
              "Metropolitan        1068\n",
              "NYTNow                36\n",
              "National           12293\n",
              "NewsDesk            1429\n",
              "Obits                826\n",
              "OpEd               80574\n",
              "Photo                124\n",
              "Podcasts              14\n",
              "Politics            7582\n",
              "RealEstate          1580\n",
              "Science             3517\n",
              "Smarter Living        55\n",
              "Society               99\n",
              "SpecialSections      125\n",
              "Sports              3240\n",
              "Styles               631\n",
              "Summary                6\n",
              "SundayBusiness       422\n",
              "TStyle                10\n",
              "Travel               512\n",
              "Upshot              1659\n",
              "Washington         51576\n",
              "Weekend              468\n",
              "Well                6126\n",
              "Name: articleID, dtype: int64"
            ]
          },
          "metadata": {}
        },
        {
          "output_type": "execute_result",
          "data": {
            "text/plain": [
              "newDesk_x\n",
              "OpEd               80574\n",
              "Washington         51576\n",
              "Business           20697\n",
              "Foreign            14655\n",
              "National           12293\n",
              "Editorial          10774\n",
              "Politics            7582\n",
              "Well                6126\n",
              "Magazine            5552\n",
              "Metro               5128\n",
              "Culture             4803\n",
              "Investigative       4785\n",
              "Climate             3885\n",
              "Games               3875\n",
              "Science             3517\n",
              "Learning            3436\n",
              "Sports              3240\n",
              "Express             2595\n",
              "Dining              1705\n",
              "Upshot              1659\n",
              "RealEstate          1580\n",
              "NewsDesk            1429\n",
              "Metropolitan        1068\n",
              "BookReview          1036\n",
              "Obits                826\n",
              "Styles               631\n",
              "Travel               512\n",
              "Arts&Leisure         497\n",
              "Weekend              468\n",
              "SundayBusiness       422\n",
              "Insider              266\n",
              "SpecialSections      125\n",
              "Photo                124\n",
              "Society               99\n",
              "Smarter Living        55\n",
              "NYTNow                36\n",
              "Podcasts              14\n",
              "TStyle                10\n",
              "Summary                6\n",
              "Name: commentBody, dtype: int64"
            ]
          },
          "metadata": {},
          "execution_count": 15
        }
      ]
    },
    {
      "cell_type": "markdown",
      "metadata": {
        "id": "7WUGPxChHnOA"
      },
      "source": [
        "how many comments/article"
      ]
    },
    {
      "cell_type": "code",
      "metadata": {
        "colab": {
          "base_uri": "https://localhost:8080/",
          "height": 655
        },
        "id": "cA7_p8dUHnOA",
        "outputId": "68a1b24f-f3e3-4f49-8666-8de8cf55ec8e"
      },
      "source": [
        "article_group = df.groupby(by='articleID').count()\n",
        "\n",
        "quick_look(article_group, 'commentID', (0,3000), 20)\n"
      ],
      "execution_count": 16,
      "outputs": [
        {
          "output_type": "stream",
          "name": "stdout",
          "text": [
            "commentID description: \n"
          ]
        },
        {
          "output_type": "display_data",
          "data": {
            "text/plain": [
              "count    1324.000000\n",
              "mean      194.608006\n",
              "std       327.383266\n",
              "min         1.000000\n",
              "25%        16.000000\n",
              "50%        67.000000\n",
              "75%       215.000000\n",
              "max      3823.000000\n",
              "Name: commentID, dtype: float64"
            ]
          },
          "metadata": {}
        },
        {
          "output_type": "display_data",
          "data": {
            "text/plain": [
              "1       41\n",
              "4       31\n",
              "5       29\n",
              "3       28\n",
              "2       26\n",
              "        ..\n",
              "2245     1\n",
              "196      1\n",
              "483      1\n",
              "486      1\n",
              "2296     1\n",
              "Name: commentID, Length: 467, dtype: int64"
            ]
          },
          "metadata": {}
        },
        {
          "output_type": "display_data",
          "data": {
            "image/png": "[encoded data removed]",
            "text/plain": [
              "<Figure size 432x288 with 1 Axes>"
            ]
          },
          "metadata": {
            "needs_background": "light"
          }
        }
      ]
    },
    {
      "cell_type": "markdown",
      "metadata": {
        "id": "iRqeXmIVHnOB"
      },
      "source": [
        "create a new column that lists the total number of comments for the article"
      ]
    },
    {
      "cell_type": "code",
      "metadata": {
        "id": "zYq0t3qvHnOB"
      },
      "source": [
        "df['article_comment_total'] = df['articleID'].apply(lambda x: article_group['commentID'][x])"
      ],
      "execution_count": 17,
      "outputs": []
    },
    {
      "cell_type": "code",
      "metadata": {
        "colab": {
          "base_uri": "https://localhost:8080/"
        },
        "id": "cn90bScDHnOB",
        "outputId": "a0f6868d-8c13-4e12-b575-ccafa2440f73"
      },
      "source": [
        "article_sections =df.groupby(['newDesk_x']).mean()\n",
        "\n",
        "article_sections['article_comment_total']\n",
        "\n",
        "#quick_look(article_sections, 'commentID', (0,3000), 20)\n"
      ],
      "execution_count": 18,
      "outputs": [
        {
          "output_type": "execute_result",
          "data": {
            "text/plain": [
              "newDesk_x\n",
              "Arts&Leisure         45.241449\n",
              "BookReview          567.117761\n",
              "Business            942.381843\n",
              "Climate             659.906564\n",
              "Culture             447.141578\n",
              "Dining              173.668622\n",
              "Editorial           721.511045\n",
              "Express             727.716763\n",
              "Foreign             376.855067\n",
              "Games               115.269935\n",
              "Insider              94.669173\n",
              "Investigative       764.772205\n",
              "Learning            442.745052\n",
              "Magazine            512.066643\n",
              "Metro               278.060062\n",
              "Metropolitan        203.882022\n",
              "NYTNow               16.055556\n",
              "National            430.648418\n",
              "NewsDesk           1014.400980\n",
              "Obits               421.820823\n",
              "OpEd                692.985281\n",
              "Photo                13.967742\n",
              "Podcasts              2.142857\n",
              "Politics            950.525719\n",
              "RealEstate           79.224051\n",
              "Science             411.371908\n",
              "Smarter Living       53.036364\n",
              "Society              99.000000\n",
              "SpecialSections     119.144000\n",
              "Sports              420.493827\n",
              "Styles              239.896989\n",
              "Summary               6.000000\n",
              "SundayBusiness       91.165877\n",
              "TStyle                5.200000\n",
              "Travel               73.675781\n",
              "Upshot              146.240506\n",
              "Washington         1286.045952\n",
              "Weekend              46.423077\n",
              "Well                257.094025\n",
              "Name: article_comment_total, dtype: float64"
            ]
          },
          "metadata": {},
          "execution_count": 18
        }
      ]
    },
    {
      "cell_type": "code",
      "metadata": {
        "id": "NVxz-EdIuFou"
      },
      "source": [
        "#drop by section\n",
        "\n",
        "# top_sections = ['OpEd', \n",
        "#                 'Business', \n",
        "#                 'NewsDesk', \n",
        "#                 'Washington', \n",
        "#                 'Foreign', \n",
        "#                 'National', \n",
        "#                 'Editorial']\n",
        "\n",
        "# sections_to_drop = [item for item in list(df['newDesk_x'].unique()) if item not in top_sections]\n",
        "\n",
        "# display(len(list(df['newDesk_x'].unique())))\n",
        "# display(len(top_sections))\n",
        "# display(len(sections_to_drop))\n"
      ],
      "execution_count": 19,
      "outputs": []
    },
    {
      "cell_type": "code",
      "metadata": {
        "colab": {
          "base_uri": "https://localhost:8080/"
        },
        "id": "zgGNhjhw8viK",
        "outputId": "95532ed9-8984-4847-9f60-b9c3398c4dfe"
      },
      "source": [
        "df['pubDate'] = pd.to_datetime(df['pubDate'])\n",
        "\n",
        "df['pubDate'].describe()\n",
        "\n",
        "df = df.loc[df['pubDate'] < '2018-4-15']"
      ],
      "execution_count": 20,
      "outputs": [
        {
          "output_type": "stream",
          "name": "stderr",
          "text": [
            "/usr/local/lib/python3.7/dist-packages/ipykernel_launcher.py:3: FutureWarning:\n",
            "\n",
            "Treating datetime data as categorical rather than numeric in `.describe` is deprecated and will be removed in a future version of pandas. Specify `datetime_is_numeric=True` to silence this warning and adopt the future behavior now.\n",
            "\n"
          ]
        }
      ]
    },
    {
      "cell_type": "code",
      "metadata": {
        "colab": {
          "base_uri": "https://localhost:8080/",
          "height": 34
        },
        "id": "4woj-3zy_JT_",
        "outputId": "17c3bfaf-b4c4-4c51-b56a-2b03cc1eae0d"
      },
      "source": [
        "display(df.shape)"
      ],
      "execution_count": 21,
      "outputs": [
        {
          "output_type": "display_data",
          "data": {
            "text/plain": [
              "(123692, 19)"
            ]
          },
          "metadata": {}
        }
      ]
    },
    {
      "cell_type": "code",
      "metadata": {
        "id": "9Pcp2eWeymw4"
      },
      "source": [
        "# display(df.shape)\n",
        "\n",
        "# for each in sections_to_drop:\n",
        "#   df.drop(df.index[df['newDesk_x'] == each], inplace=True)\n",
        "\n",
        "# display(df.shape)"
      ],
      "execution_count": 22,
      "outputs": []
    },
    {
      "cell_type": "markdown",
      "metadata": {
        "id": "Q72pfjQkHnOB"
      },
      "source": [
        "comment length"
      ]
    },
    {
      "cell_type": "code",
      "metadata": {
        "colab": {
          "base_uri": "https://localhost:8080/",
          "height": 450
        },
        "id": "6CwDiVseHnOC",
        "outputId": "eed5c061-2232-497e-b4bb-c7915e837fa6"
      },
      "source": [
        "article_group_sum = df.groupby(by='articleID').sum()\n",
        "article_group_sum"
      ],
      "execution_count": 23,
      "outputs": [
        {
          "output_type": "execute_result",
          "data": {
            "text/html": [
              "<div>\n",
              "<style scoped>\n",
              "    .dataframe tbody tr th:only-of-type {\n",
              "        vertical-align: middle;\n",
              "    }\n",
              "\n",
              "    .dataframe tbody tr th {\n",
              "        vertical-align: top;\n",
              "    }\n",
              "\n",
              "    .dataframe thead th {\n",
              "        text-align: right;\n",
              "    }\n",
              "</style>\n",
              "<table border=\"1\" class=\"dataframe\">\n",
              "  <thead>\n",
              "    <tr style=\"text-align: right;\">\n",
              "      <th></th>\n",
              "      <th>articleWordCount_x</th>\n",
              "      <th>commentID</th>\n",
              "      <th>depth</th>\n",
              "      <th>editorsSelection</th>\n",
              "      <th>inReplyTo</th>\n",
              "      <th>recommendations</th>\n",
              "      <th>replyCount</th>\n",
              "      <th>timespeople</th>\n",
              "      <th>trusted</th>\n",
              "      <th>article_comment_total</th>\n",
              "    </tr>\n",
              "    <tr>\n",
              "      <th>articleID</th>\n",
              "      <th></th>\n",
              "      <th></th>\n",
              "      <th></th>\n",
              "      <th></th>\n",
              "      <th></th>\n",
              "      <th></th>\n",
              "      <th></th>\n",
              "      <th></th>\n",
              "      <th></th>\n",
              "      <th></th>\n",
              "    </tr>\n",
              "  </thead>\n",
              "  <tbody>\n",
              "    <tr>\n",
              "      <th>5abcf77c068401528a29efbe</th>\n",
              "      <td>4554.0</td>\n",
              "      <td>1.593830e+08</td>\n",
              "      <td>7.0</td>\n",
              "      <td>0</td>\n",
              "      <td>2.658183e+07</td>\n",
              "      <td>6</td>\n",
              "      <td>1</td>\n",
              "      <td>5</td>\n",
              "      <td>0</td>\n",
              "      <td>36</td>\n",
              "    </tr>\n",
              "    <tr>\n",
              "      <th>5abcfffe068401528a29f021</th>\n",
              "      <td>3501.0</td>\n",
              "      <td>2.388898e+08</td>\n",
              "      <td>10.0</td>\n",
              "      <td>0</td>\n",
              "      <td>2.653595e+07</td>\n",
              "      <td>47</td>\n",
              "      <td>1</td>\n",
              "      <td>8</td>\n",
              "      <td>0</td>\n",
              "      <td>81</td>\n",
              "    </tr>\n",
              "    <tr>\n",
              "      <th>5abd03ab068401528a29f062</th>\n",
              "      <td>202095.0</td>\n",
              "      <td>3.582519e+09</td>\n",
              "      <td>199.0</td>\n",
              "      <td>1</td>\n",
              "      <td>1.645151e+09</td>\n",
              "      <td>1029</td>\n",
              "      <td>77</td>\n",
              "      <td>130</td>\n",
              "      <td>7</td>\n",
              "      <td>18225</td>\n",
              "    </tr>\n",
              "    <tr>\n",
              "      <th>5abd080c068401528a29f099</th>\n",
              "      <td>108875.0</td>\n",
              "      <td>1.778602e+09</td>\n",
              "      <td>87.0</td>\n",
              "      <td>0</td>\n",
              "      <td>5.309005e+08</td>\n",
              "      <td>640</td>\n",
              "      <td>21</td>\n",
              "      <td>60</td>\n",
              "      <td>1</td>\n",
              "      <td>4489</td>\n",
              "    </tr>\n",
              "    <tr>\n",
              "      <th>5abd0a47068401528a29f0b3</th>\n",
              "      <td>131355.0</td>\n",
              "      <td>2.786208e+09</td>\n",
              "      <td>143.0</td>\n",
              "      <td>0</td>\n",
              "      <td>1.008292e+09</td>\n",
              "      <td>969</td>\n",
              "      <td>39</td>\n",
              "      <td>101</td>\n",
              "      <td>4</td>\n",
              "      <td>11025</td>\n",
              "    </tr>\n",
              "    <tr>\n",
              "      <th>...</th>\n",
              "      <td>...</td>\n",
              "      <td>...</td>\n",
              "      <td>...</td>\n",
              "      <td>...</td>\n",
              "      <td>...</td>\n",
              "      <td>...</td>\n",
              "      <td>...</td>\n",
              "      <td>...</td>\n",
              "      <td>...</td>\n",
              "      <td>...</td>\n",
              "    </tr>\n",
              "    <tr>\n",
              "      <th>5ad248af068401528a2a8b82</th>\n",
              "      <td>401246.0</td>\n",
              "      <td>1.173989e+10</td>\n",
              "      <td>585.0</td>\n",
              "      <td>7</td>\n",
              "      <td>3.636853e+09</td>\n",
              "      <td>9757</td>\n",
              "      <td>170</td>\n",
              "      <td>414</td>\n",
              "      <td>12</td>\n",
              "      <td>192721</td>\n",
              "    </tr>\n",
              "    <tr>\n",
              "      <th>5ad248b3068401528a2a8b84</th>\n",
              "      <td>1275185.0</td>\n",
              "      <td>1.575088e+10</td>\n",
              "      <td>749.0</td>\n",
              "      <td>8</td>\n",
              "      <td>3.930893e+09</td>\n",
              "      <td>10716</td>\n",
              "      <td>172</td>\n",
              "      <td>552</td>\n",
              "      <td>15</td>\n",
              "      <td>346921</td>\n",
              "    </tr>\n",
              "    <tr>\n",
              "      <th>5ad248b8068401528a2a8b85</th>\n",
              "      <td>130402.0</td>\n",
              "      <td>3.022206e+09</td>\n",
              "      <td>159.0</td>\n",
              "      <td>6</td>\n",
              "      <td>1.230138e+09</td>\n",
              "      <td>1674</td>\n",
              "      <td>62</td>\n",
              "      <td>103</td>\n",
              "      <td>6</td>\n",
              "      <td>12769</td>\n",
              "    </tr>\n",
              "    <tr>\n",
              "      <th>5ad279e4068401528a2a8bbc</th>\n",
              "      <td>158184.0</td>\n",
              "      <td>3.129619e+09</td>\n",
              "      <td>180.0</td>\n",
              "      <td>0</td>\n",
              "      <td>1.684969e+09</td>\n",
              "      <td>282</td>\n",
              "      <td>97</td>\n",
              "      <td>102</td>\n",
              "      <td>28</td>\n",
              "      <td>13689</td>\n",
              "    </tr>\n",
              "    <tr>\n",
              "      <th>5ad2b324068401528a2a8bea</th>\n",
              "      <td>173004.0</td>\n",
              "      <td>4.171681e+09</td>\n",
              "      <td>235.0</td>\n",
              "      <td>15</td>\n",
              "      <td>1.443900e+09</td>\n",
              "      <td>978</td>\n",
              "      <td>53</td>\n",
              "      <td>143</td>\n",
              "      <td>6</td>\n",
              "      <td>24336</td>\n",
              "    </tr>\n",
              "  </tbody>\n",
              "</table>\n",
              "<p>676 rows × 10 columns</p>\n",
              "</div>"
            ],
            "text/plain": [
              "                          articleWordCount_x  ...  article_comment_total\n",
              "articleID                                     ...                       \n",
              "5abcf77c068401528a29efbe              4554.0  ...                     36\n",
              "5abcfffe068401528a29f021              3501.0  ...                     81\n",
              "5abd03ab068401528a29f062            202095.0  ...                  18225\n",
              "5abd080c068401528a29f099            108875.0  ...                   4489\n",
              "5abd0a47068401528a29f0b3            131355.0  ...                  11025\n",
              "...                                      ...  ...                    ...\n",
              "5ad248af068401528a2a8b82            401246.0  ...                 192721\n",
              "5ad248b3068401528a2a8b84           1275185.0  ...                 346921\n",
              "5ad248b8068401528a2a8b85            130402.0  ...                  12769\n",
              "5ad279e4068401528a2a8bbc            158184.0  ...                  13689\n",
              "5ad2b324068401528a2a8bea            173004.0  ...                  24336\n",
              "\n",
              "[676 rows x 10 columns]"
            ]
          },
          "metadata": {},
          "execution_count": 23
        }
      ]
    },
    {
      "cell_type": "markdown",
      "metadata": {
        "id": "3EXxia6JHnOC"
      },
      "source": [
        "replyCount: replies to that comment\n",
        "article_reply_total: total number of replies"
      ]
    },
    {
      "cell_type": "code",
      "metadata": {
        "id": "6hdoUav1HnOC"
      },
      "source": [
        "df['article_rec_total'] = df['articleID'].apply(lambda x: article_group_sum['recommendations'][x])\n",
        "df['article_reply_total'] = df['articleID'].apply(lambda x: article_group_sum['replyCount'][x])"
      ],
      "execution_count": 24,
      "outputs": []
    },
    {
      "cell_type": "code",
      "metadata": {
        "colab": {
          "base_uri": "https://localhost:8080/"
        },
        "id": "PI1tyRv5HnOD",
        "outputId": "0bf3e1a7-b755-44cb-ae46-583d0655fb79"
      },
      "source": [
        "df.columns"
      ],
      "execution_count": 25,
      "outputs": [
        {
          "output_type": "execute_result",
          "data": {
            "text/plain": [
              "Index(['articleID', 'articleWordCount_x', 'commentBody', 'commentID',\n",
              "       'commentType', 'depth', 'editorsSelection', 'inReplyTo', 'newDesk_x',\n",
              "       'recommendations', 'replyCount', 'sectionName_x', 'timespeople',\n",
              "       'trusted', 'typeOfMaterial_x', 'documentType', 'headline', 'pubDate',\n",
              "       'article_comment_total', 'article_rec_total', 'article_reply_total'],\n",
              "      dtype='object')"
            ]
          },
          "metadata": {},
          "execution_count": 25
        }
      ]
    },
    {
      "cell_type": "code",
      "metadata": {
        "id": "gUYx1RU2HnOD"
      },
      "source": [
        "def flag_highest_adjusted(group_col, new_col, continuous_col):\n",
        "\n",
        "    #create a list of all sections\n",
        "    sections = list(df['newDesk_x'].unique())\n",
        "\n",
        "    #create an empty dictionary\n",
        "    percentiles = {}\n",
        "\n",
        "    #populate with section names and the 90th percentile value of total comments\n",
        "    for i in sections:\n",
        "        percentiles[i] = df.loc[df['newDesk_x'] == i].groupby(group_col).mean()[continuous_col].quantile(0.9)\n",
        "\n",
        "    # function to label articles as highly commented if they fall in the 90th percentile of comments for their section\n",
        "    def flag_upper_percentile(section, value):\n",
        "        '''accepts a section title and total number of comments for a given article as parameters\n",
        "        uses the above dictionary to determine whether the given article's total comment count is\n",
        "        in the 90th percentile\n",
        "        if so, flags as true''' \n",
        "        if value > percentiles[section]:\n",
        "            return True\n",
        "        else:\n",
        "            return False\n",
        "\n",
        "    df[new_col] = df.apply(lambda x: flag_upper_percentile(x['newDesk_x'], x[continuous_col]), axis=1)"
      ],
      "execution_count": 26,
      "outputs": []
    },
    {
      "cell_type": "code",
      "metadata": {
        "id": "_iE_rrGTHnOE"
      },
      "source": [
        "flag_highest_adjusted('articleID', 'highly_commented', 'article_comment_total')\n",
        "flag_highest_adjusted('articleID', 'high_total_recommendations', 'article_rec_total')\n",
        "flag_highest_adjusted('articleID', 'high_total_reply', 'article_reply_total')"
      ],
      "execution_count": 27,
      "outputs": []
    },
    {
      "cell_type": "markdown",
      "metadata": {
        "id": "dyQDoxPPHnOE"
      },
      "source": [
        "### High-Engagement Articles"
      ]
    },
    {
      "cell_type": "markdown",
      "metadata": {
        "id": "WLegZbkUHnOF"
      },
      "source": [
        "### Comment Analysis"
      ]
    },
    {
      "cell_type": "code",
      "metadata": {
        "colab": {
          "base_uri": "https://localhost:8080/",
          "height": 1000
        },
        "id": "sKV5uLm6HnOF",
        "outputId": "b6a4d54d-41f5-4c05-e6dc-8e925960c58b"
      },
      "source": [
        "df['commentLength'] = df['commentBody'].apply(lambda x: len(x.split()))\n",
        "\n",
        "if print_detail:\n",
        "    display(df[['commentLength', 'commentBody']])\n",
        "\n",
        "quick_look(df, 'commentLength', (0, 300), 20)"
      ],
      "execution_count": 28,
      "outputs": [
        {
          "output_type": "display_data",
          "data": {
            "text/html": [
              "<div>\n",
              "<style scoped>\n",
              "    .dataframe tbody tr th:only-of-type {\n",
              "        vertical-align: middle;\n",
              "    }\n",
              "\n",
              "    .dataframe tbody tr th {\n",
              "        vertical-align: top;\n",
              "    }\n",
              "\n",
              "    .dataframe thead th {\n",
              "        text-align: right;\n",
              "    }\n",
              "</style>\n",
              "<table border=\"1\" class=\"dataframe\">\n",
              "  <thead>\n",
              "    <tr style=\"text-align: right;\">\n",
              "      <th></th>\n",
              "      <th>commentLength</th>\n",
              "      <th>commentBody</th>\n",
              "    </tr>\n",
              "  </thead>\n",
              "  <tbody>\n",
              "    <tr>\n",
              "      <th>48395</th>\n",
              "      <td>10</td>\n",
              "      <td>Am I the only one who doesn’t get 29D? Help!</td>\n",
              "    </tr>\n",
              "    <tr>\n",
              "      <th>48396</th>\n",
              "      <td>26</td>\n",
              "      <td>Thought answer to 39 down — Proceed well enoug...</td>\n",
              "    </tr>\n",
              "    <tr>\n",
              "      <th>48397</th>\n",
              "      <td>20</td>\n",
              "      <td>Though the theme answers were quite easy, as w...</td>\n",
              "    </tr>\n",
              "    <tr>\n",
              "      <th>48398</th>\n",
              "      <td>52</td>\n",
              "      <td>The issue with 39D could have been completely ...</td>\n",
              "    </tr>\n",
              "    <tr>\n",
              "      <th>48399</th>\n",
              "      <td>36</td>\n",
              "      <td>Alex&lt;br/&gt;&lt;br/&gt;I really enjoyed this puzzle. &lt;b...</td>\n",
              "    </tr>\n",
              "    <tr>\n",
              "      <th>...</th>\n",
              "      <td>...</td>\n",
              "      <td>...</td>\n",
              "    </tr>\n",
              "    <tr>\n",
              "      <th>203982</th>\n",
              "      <td>4</td>\n",
              "      <td>One word: Wade Boggs</td>\n",
              "    </tr>\n",
              "    <tr>\n",
              "      <th>203983</th>\n",
              "      <td>66</td>\n",
              "      <td>I feel like I just lost my right to claim I'm ...</td>\n",
              "    </tr>\n",
              "    <tr>\n",
              "      <th>203984</th>\n",
              "      <td>241</td>\n",
              "      <td>It's not only steroids, it's the glitz and noi...</td>\n",
              "    </tr>\n",
              "    <tr>\n",
              "      <th>203985</th>\n",
              "      <td>41</td>\n",
              "      <td>Bill,&lt;br/&gt;&lt;br/&gt;I know. I grew up watching Wade...</td>\n",
              "    </tr>\n",
              "    <tr>\n",
              "      <th>203986</th>\n",
              "      <td>67</td>\n",
              "      <td>While I’m sure Barbaro wasn’t too put out by C...</td>\n",
              "    </tr>\n",
              "  </tbody>\n",
              "</table>\n",
              "<p>123692 rows × 2 columns</p>\n",
              "</div>"
            ],
            "text/plain": [
              "        commentLength                                        commentBody\n",
              "48395              10      Am I the only one who doesn’t get 29D? Help! \n",
              "48396              26  Thought answer to 39 down — Proceed well enoug...\n",
              "48397              20  Though the theme answers were quite easy, as w...\n",
              "48398              52  The issue with 39D could have been completely ...\n",
              "48399              36  Alex<br/><br/>I really enjoyed this puzzle. <b...\n",
              "...               ...                                                ...\n",
              "203982              4                               One word: Wade Boggs\n",
              "203983             66  I feel like I just lost my right to claim I'm ...\n",
              "203984            241  It's not only steroids, it's the glitz and noi...\n",
              "203985             41  Bill,<br/><br/>I know. I grew up watching Wade...\n",
              "203986             67  While I’m sure Barbaro wasn’t too put out by C...\n",
              "\n",
              "[123692 rows x 2 columns]"
            ]
          },
          "metadata": {}
        },
        {
          "output_type": "stream",
          "name": "stdout",
          "text": [
            "commentLength description: \n"
          ]
        },
        {
          "output_type": "display_data",
          "data": {
            "text/plain": [
              "count    123692.000000\n",
              "mean         66.098333\n",
              "std          59.213225\n",
              "min           1.000000\n",
              "25%          23.000000\n",
              "50%          47.000000\n",
              "75%          89.000000\n",
              "max         305.000000\n",
              "Name: commentLength, dtype: float64"
            ]
          },
          "metadata": {}
        },
        {
          "output_type": "display_data",
          "data": {
            "text/plain": [
              "14     1686\n",
              "13     1679\n",
              "15     1675\n",
              "20     1666\n",
              "16     1659\n",
              "       ... \n",
              "290       1\n",
              "296       1\n",
              "300       1\n",
              "303       1\n",
              "305       1\n",
              "Name: commentLength, Length: 297, dtype: int64"
            ]
          },
          "metadata": {}
        },
        {
          "output_type": "display_data",
          "data": {
            "image/png": "[encoded data removed]",
            "text/plain": [
              "<Figure size 432x288 with 1 Axes>"
            ]
          },
          "metadata": {
            "needs_background": "light"
          }
        }
      ]
    },
    {
      "cell_type": "code",
      "metadata": {
        "colab": {
          "base_uri": "https://localhost:8080/",
          "height": 655
        },
        "id": "CEn1qSwEHnOF",
        "outputId": "178645d1-b3e5-4c80-cfa7-957857f3d85b"
      },
      "source": [
        "quick_look(df, 'recommendations', (0, 100))"
      ],
      "execution_count": 29,
      "outputs": [
        {
          "output_type": "stream",
          "name": "stdout",
          "text": [
            "recommendations description: \n"
          ]
        },
        {
          "output_type": "display_data",
          "data": {
            "text/plain": [
              "count    123692.000000\n",
              "mean         19.421620\n",
              "std          99.624274\n",
              "min           0.000000\n",
              "25%           1.000000\n",
              "50%           4.000000\n",
              "75%          11.000000\n",
              "max        8713.000000\n",
              "Name: recommendations, dtype: float64"
            ]
          },
          "metadata": {}
        },
        {
          "output_type": "display_data",
          "data": {
            "text/plain": [
              "0       19672\n",
              "1       15767\n",
              "2       12280\n",
              "3        9728\n",
              "4        7863\n",
              "        ...  \n",
              "2144        1\n",
              "481         1\n",
              "673         1\n",
              "801         1\n",
              "2783        1\n",
              "Name: recommendations, Length: 955, dtype: int64"
            ]
          },
          "metadata": {}
        },
        {
          "output_type": "display_data",
          "data": {
            "image/png": "[encoded data removed]",
            "text/plain": [
              "<Figure size 432x288 with 1 Axes>"
            ]
          },
          "metadata": {
            "needs_background": "light"
          }
        }
      ]
    },
    {
      "cell_type": "code",
      "metadata": {
        "colab": {
          "base_uri": "https://localhost:8080/",
          "height": 119
        },
        "id": "NoCom2GeHnOG",
        "outputId": "99d27d8c-75a4-44c7-eae8-2755dea6b508"
      },
      "source": [
        "#feature engineer recommendations into highly recommended\n",
        "recommendations_threshold = df['recommendations'].quantile(0.9)\n",
        "df['highly_recommended'] = df['recommendations'].apply(lambda x: True if x > recommendations_threshold else False)\n",
        "df['recommended'] = df['recommendations'].apply(lambda x: True if x > 0 else False)\n",
        "if print_detail:\n",
        "    display(df['recommended'].value_counts())\n",
        "    display(df['highly_recommended'].value_counts())"
      ],
      "execution_count": 30,
      "outputs": [
        {
          "output_type": "display_data",
          "data": {
            "text/plain": [
              "True     104020\n",
              "False     19672\n",
              "Name: recommended, dtype: int64"
            ]
          },
          "metadata": {}
        },
        {
          "output_type": "display_data",
          "data": {
            "text/plain": [
              "False    111710\n",
              "True      11982\n",
              "Name: highly_recommended, dtype: int64"
            ]
          },
          "metadata": {}
        }
      ]
    },
    {
      "cell_type": "code",
      "metadata": {
        "colab": {
          "base_uri": "https://localhost:8080/",
          "height": 1000
        },
        "id": "GMhWXy2-HnOG",
        "outputId": "46ed16fe-510e-4a2a-f316-2400dc4a62a9"
      },
      "source": [
        "#reply count\n",
        "quick_look(df, 'replyCount', (1, 10), 20)"
      ],
      "execution_count": 31,
      "outputs": [
        {
          "output_type": "stream",
          "name": "stdout",
          "text": [
            "replyCount description: \n"
          ]
        },
        {
          "output_type": "display_data",
          "data": {
            "text/plain": [
              "count    123692.000000\n",
              "mean          0.420270\n",
              "std           2.955607\n",
              "min           0.000000\n",
              "25%           0.000000\n",
              "50%           0.000000\n",
              "75%           0.000000\n",
              "max         668.000000\n",
              "Name: replyCount, dtype: float64"
            ]
          },
          "metadata": {}
        },
        {
          "output_type": "display_data",
          "data": {
            "text/plain": [
              "0      100609\n",
              "1       13339\n",
              "2        4596\n",
              "3        2060\n",
              "4        1040\n",
              "5         643\n",
              "6         372\n",
              "7         243\n",
              "8         183\n",
              "9         125\n",
              "10         98\n",
              "11         78\n",
              "12         52\n",
              "13         43\n",
              "14         28\n",
              "15         26\n",
              "17         22\n",
              "16         13\n",
              "18         13\n",
              "22         10\n",
              "21         10\n",
              "23         10\n",
              "20          9\n",
              "19          7\n",
              "25          6\n",
              "24          5\n",
              "29          5\n",
              "30          5\n",
              "36          4\n",
              "28          3\n",
              "31          3\n",
              "26          3\n",
              "32          2\n",
              "54          2\n",
              "45          2\n",
              "37          2\n",
              "35          2\n",
              "55          2\n",
              "33          1\n",
              "208         1\n",
              "89          1\n",
              "52          1\n",
              "130         1\n",
              "113         1\n",
              "46          1\n",
              "69          1\n",
              "42          1\n",
              "105         1\n",
              "41          1\n",
              "40          1\n",
              "39          1\n",
              "38          1\n",
              "668         1\n",
              "530         1\n",
              "61          1\n",
              "Name: replyCount, dtype: int64"
            ]
          },
          "metadata": {}
        },
        {
          "output_type": "display_data",
          "data": {
            "image/png": "[encoded data removed]",
            "text/plain": [
              "<Figure size 432x288 with 1 Axes>"
            ]
          },
          "metadata": {
            "needs_background": "light"
          }
        }
      ]
    },
    {
      "cell_type": "code",
      "metadata": {
        "colab": {
          "base_uri": "https://localhost:8080/",
          "height": 119
        },
        "id": "ors5JujnHnOG",
        "outputId": "98df5c67-9dc1-4a3e-c965-a6a463563db9"
      },
      "source": [
        "#feature engineering reply count into categorical\n",
        "\n",
        "df['replied_to'] = df['replyCount'].apply(lambda x: True if x > 0 else False)\n",
        "df['highly_replied_to'] = df['replyCount'].apply(lambda x: True if x > 5 else False)\n",
        "\n",
        "if print_detail:\n",
        "    display(df['replied_to'].value_counts())\n",
        "    display(df['highly_replied_to'].value_counts())"
      ],
      "execution_count": 32,
      "outputs": [
        {
          "output_type": "display_data",
          "data": {
            "text/plain": [
              "False    100609\n",
              "True      23083\n",
              "Name: replied_to, dtype: int64"
            ]
          },
          "metadata": {}
        },
        {
          "output_type": "display_data",
          "data": {
            "text/plain": [
              "False    122287\n",
              "True       1405\n",
              "Name: highly_replied_to, dtype: int64"
            ]
          },
          "metadata": {}
        }
      ]
    },
    {
      "cell_type": "code",
      "metadata": {
        "colab": {
          "base_uri": "https://localhost:8080/",
          "height": 69
        },
        "id": "1A5Rw7phHnOH",
        "outputId": "cb9462a3-debf-4179-bd05-79af52a7cbcd"
      },
      "source": [
        "df.loc[df['replyCount'] < 0]"
      ],
      "execution_count": 33,
      "outputs": [
        {
          "output_type": "execute_result",
          "data": {
            "text/html": [
              "<div>\n",
              "<style scoped>\n",
              "    .dataframe tbody tr th:only-of-type {\n",
              "        vertical-align: middle;\n",
              "    }\n",
              "\n",
              "    .dataframe tbody tr th {\n",
              "        vertical-align: top;\n",
              "    }\n",
              "\n",
              "    .dataframe thead th {\n",
              "        text-align: right;\n",
              "    }\n",
              "</style>\n",
              "<table border=\"1\" class=\"dataframe\">\n",
              "  <thead>\n",
              "    <tr style=\"text-align: right;\">\n",
              "      <th></th>\n",
              "      <th>articleID</th>\n",
              "      <th>articleWordCount_x</th>\n",
              "      <th>commentBody</th>\n",
              "      <th>commentID</th>\n",
              "      <th>commentType</th>\n",
              "      <th>depth</th>\n",
              "      <th>editorsSelection</th>\n",
              "      <th>inReplyTo</th>\n",
              "      <th>newDesk_x</th>\n",
              "      <th>recommendations</th>\n",
              "      <th>replyCount</th>\n",
              "      <th>sectionName_x</th>\n",
              "      <th>timespeople</th>\n",
              "      <th>trusted</th>\n",
              "      <th>typeOfMaterial_x</th>\n",
              "      <th>documentType</th>\n",
              "      <th>headline</th>\n",
              "      <th>pubDate</th>\n",
              "      <th>article_comment_total</th>\n",
              "      <th>article_rec_total</th>\n",
              "      <th>article_reply_total</th>\n",
              "      <th>highly_commented</th>\n",
              "      <th>high_total_recommendations</th>\n",
              "      <th>high_total_reply</th>\n",
              "      <th>commentLength</th>\n",
              "      <th>highly_recommended</th>\n",
              "      <th>recommended</th>\n",
              "      <th>replied_to</th>\n",
              "      <th>highly_replied_to</th>\n",
              "    </tr>\n",
              "  </thead>\n",
              "  <tbody>\n",
              "  </tbody>\n",
              "</table>\n",
              "</div>"
            ],
            "text/plain": [
              "Empty DataFrame\n",
              "Columns: [articleID, articleWordCount_x, commentBody, commentID, commentType, depth, editorsSelection, inReplyTo, newDesk_x, recommendations, replyCount, sectionName_x, timespeople, trusted, typeOfMaterial_x, documentType, headline, pubDate, article_comment_total, article_rec_total, article_reply_total, highly_commented, high_total_recommendations, high_total_reply, commentLength, highly_recommended, recommended, replied_to, highly_replied_to]\n",
              "Index: []"
            ]
          },
          "metadata": {},
          "execution_count": 33
        }
      ]
    },
    {
      "cell_type": "code",
      "metadata": {
        "colab": {
          "base_uri": "https://localhost:8080/",
          "height": 536
        },
        "id": "zQsNGAVFHnOH",
        "outputId": "baa16754-6c60-4e32-99f0-599f1f741ab2"
      },
      "source": [
        "#depth\n",
        "quick_look(df, 'depth', (1, 5))"
      ],
      "execution_count": 34,
      "outputs": [
        {
          "output_type": "stream",
          "name": "stdout",
          "text": [
            "depth description: \n"
          ]
        },
        {
          "output_type": "display_data",
          "data": {
            "text/plain": [
              "count    123692.000000\n",
              "mean          1.323877\n",
              "std           0.503636\n",
              "min           1.000000\n",
              "25%           1.000000\n",
              "50%           1.000000\n",
              "75%           2.000000\n",
              "max           4.000000\n",
              "Name: depth, dtype: float64"
            ]
          },
          "metadata": {}
        },
        {
          "output_type": "display_data",
          "data": {
            "text/plain": [
              "1.0    85768\n",
              "2.0    35794\n",
              "3.0     2123\n",
              "4.0        7\n",
              "Name: depth, dtype: int64"
            ]
          },
          "metadata": {}
        },
        {
          "output_type": "display_data",
          "data": {
            "image/png": "[encoded data removed]",
            "text/plain": [
              "<Figure size 432x288 with 1 Axes>"
            ]
          },
          "metadata": {
            "needs_background": "light"
          }
        }
      ]
    },
    {
      "cell_type": "code",
      "metadata": {
        "colab": {
          "base_uri": "https://localhost:8080/",
          "height": 502
        },
        "id": "d0T8ag_uHnOI",
        "outputId": "75c41a36-3825-46db-88c6-b536f5c787df"
      },
      "source": [
        "#editor selected\n",
        "quick_look(df, 'editorsSelection', (0, 100))"
      ],
      "execution_count": 35,
      "outputs": [
        {
          "output_type": "stream",
          "name": "stdout",
          "text": [
            "editorsSelection description: \n"
          ]
        },
        {
          "output_type": "display_data",
          "data": {
            "text/plain": [
              "count     123692\n",
              "unique         2\n",
              "top        False\n",
              "freq      121825\n",
              "Name: editorsSelection, dtype: object"
            ]
          },
          "metadata": {}
        },
        {
          "output_type": "display_data",
          "data": {
            "text/plain": [
              "False    121825\n",
              "True       1867\n",
              "Name: editorsSelection, dtype: int64"
            ]
          },
          "metadata": {}
        },
        {
          "output_type": "stream",
          "name": "stderr",
          "text": [
            "<string>:6: RuntimeWarning:\n",
            "\n",
            "Converting input from bool to <class 'numpy.uint8'> for compatibility.\n",
            "\n"
          ]
        },
        {
          "output_type": "display_data",
          "data": {
            "image/png": "[encoded data removed]",
            "text/plain": [
              "<Figure size 432x288 with 1 Axes>"
            ]
          },
          "metadata": {
            "needs_background": "light"
          }
        }
      ]
    },
    {
      "cell_type": "code",
      "metadata": {
        "colab": {
          "base_uri": "https://localhost:8080/",
          "height": 502
        },
        "id": "ZQ2rjPtdHnOI",
        "outputId": "561378ee-48f1-4a5f-accf-a9ab6cd49f88"
      },
      "source": [
        "#timespeople\n",
        "quick_look(df, 'timespeople', (0, 100))"
      ],
      "execution_count": 36,
      "outputs": [
        {
          "output_type": "stream",
          "name": "stdout",
          "text": [
            "timespeople description: \n"
          ]
        },
        {
          "output_type": "display_data",
          "data": {
            "text/plain": [
              "count    123692.000000\n",
              "mean          0.915726\n",
              "std           0.277799\n",
              "min           0.000000\n",
              "25%           1.000000\n",
              "50%           1.000000\n",
              "75%           1.000000\n",
              "max           1.000000\n",
              "Name: timespeople, dtype: float64"
            ]
          },
          "metadata": {}
        },
        {
          "output_type": "display_data",
          "data": {
            "text/plain": [
              "1    113268\n",
              "0     10424\n",
              "Name: timespeople, dtype: int64"
            ]
          },
          "metadata": {}
        },
        {
          "output_type": "display_data",
          "data": {
            "image/png": "[encoded data removed]",
            "text/plain": [
              "<Figure size 432x288 with 1 Axes>"
            ]
          },
          "metadata": {
            "needs_background": "light"
          }
        }
      ]
    },
    {
      "cell_type": "code",
      "metadata": {
        "colab": {
          "base_uri": "https://localhost:8080/",
          "height": 502
        },
        "id": "4NslU8jVHnOI",
        "outputId": "67aaac3e-1d12-4840-ab63-3ae3b26ce11c"
      },
      "source": [
        "#trusted\n",
        "quick_look(df, 'trusted', (0, 100))"
      ],
      "execution_count": 37,
      "outputs": [
        {
          "output_type": "stream",
          "name": "stdout",
          "text": [
            "trusted description: \n"
          ]
        },
        {
          "output_type": "display_data",
          "data": {
            "text/plain": [
              "count    123692.000000\n",
              "mean          0.033082\n",
              "std           0.178852\n",
              "min           0.000000\n",
              "25%           0.000000\n",
              "50%           0.000000\n",
              "75%           0.000000\n",
              "max           1.000000\n",
              "Name: trusted, dtype: float64"
            ]
          },
          "metadata": {}
        },
        {
          "output_type": "display_data",
          "data": {
            "text/plain": [
              "0    119600\n",
              "1      4092\n",
              "Name: trusted, dtype: int64"
            ]
          },
          "metadata": {}
        },
        {
          "output_type": "display_data",
          "data": {
            "image/png": "[encoded data removed]",
            "text/plain": [
              "<Figure size 432x288 with 1 Axes>"
            ]
          },
          "metadata": {
            "needs_background": "light"
          }
        }
      ]
    },
    {
      "cell_type": "markdown",
      "metadata": {
        "id": "P-YE54DmHnOI"
      },
      "source": [
        "### Feature Engineering Abuse Flag"
      ]
    },
    {
      "cell_type": "code",
      "metadata": {
        "id": "4qlNQ3TPHnOJ"
      },
      "source": [
        "# using this function to detect if we have any abusive comments\n",
        "\n",
        "# def get_top_hs_class(sonar_obj, comment):\n",
        "#     '''accepts a HateSonar Sonar object and a string comment (unprocessed) and returns the class with \n",
        "#     the highest confidence score.\n",
        "#     Class options are: hate speech, offensive language, neither'''\n",
        "#     results = sonar_obj.ping(text=comment)\n",
        "\n",
        "#     # hs_conf = results['classes']['class_name' == 'hate_speech']['confidence']\n",
        "#     # off_conf = results['classes']['class_name' == 'offensive_language']['confidence']\n",
        "#     # none_conf = results['classes']['class_name' == 'neither']['confidence']\n",
        "\n",
        "#     return results['top_class']"
      ],
      "execution_count": 38,
      "outputs": []
    },
    {
      "cell_type": "code",
      "metadata": {
        "id": "Xo1smKpkHnOJ"
      },
      "source": [
        "# sonar = Sonar()\n",
        "# df['hateSonar_result'] = df['commentBody'].apply(lambda x: get_top_hs_class(sonar, x))"
      ],
      "execution_count": 39,
      "outputs": []
    },
    {
      "cell_type": "code",
      "metadata": {
        "id": "gl-4T5vdHnOJ"
      },
      "source": [
        "# pd.set_option('display.max_colwidth', 0)\n",
        "\n",
        "# # display(df['hateSonar_result'].value_counts())\n",
        "\n",
        "# # display(df['commentBody'].loc[df['hateSonar_result'] == 'hate_speech'])\n",
        "# # display(df['commentBody'].loc[df['hateSonar_result'] == 'offensive_language'])"
      ],
      "execution_count": 40,
      "outputs": []
    },
    {
      "cell_type": "code",
      "metadata": {
        "id": "wPkuuzcnHnOK"
      },
      "source": [
        "# # using this function to detect if we have any abusive comments\n",
        "\n",
        "# def refine_top_hs_class(sonar_obj, comment):\n",
        "#     '''accepts a HateSonar Sonar object and a string comment (unprocessed) and runs the hateSonar program.\n",
        "#     If the comment is more likely than not to be either hate speech or offensive language, the program will \n",
        "#     revert the flag to neither (this is due to the high rate of false identifications)\n",
        "#     Class options are: hate speech, offensive language, neither'''\n",
        "#     #run hateSonar\n",
        "#     results = sonar_obj.ping(text=comment)\n",
        "    \n",
        "#     #initially save top result as the label\n",
        "#     label = results['top_class']\n",
        "\n",
        "#     #if the initial label is hate speech or offensive language\n",
        "#     if label != 'neither' and results['classes']['class_name' == 'neither']['confidence'] > 0.33:\n",
        "#         label = 'neither'\n",
        "        \n",
        "#     if label == 'offensive_speech' and results['classes']['class_name' == 'hate_speech']['confidence'] > 0.2:\n",
        "#         label = 'hate_speech'\n",
        "        \n",
        "#     return label"
      ],
      "execution_count": 41,
      "outputs": []
    },
    {
      "cell_type": "code",
      "metadata": {
        "id": "LChf3UVmHnOK"
      },
      "source": [
        "# df['hateSonar_refined'] = df['commentBody'].apply(lambda x: refine_top_hs_class(sonar, x))"
      ],
      "execution_count": 42,
      "outputs": []
    },
    {
      "cell_type": "code",
      "metadata": {
        "id": "gheFXkxXHnOK"
      },
      "source": [
        "# df['hateSonar_refined'].value_counts()"
      ],
      "execution_count": 43,
      "outputs": []
    },
    {
      "cell_type": "code",
      "metadata": {
        "id": "-J_ffkESHnOK"
      },
      "source": [
        "# # using this function to detect if we have any abusive comments\n",
        "\n",
        "# def bool_top_hs_class(sonar_obj, comment):\n",
        "#     '''accepts a HateSonar Sonar object and a string comment (unprocessed) and runs the hateSonar program.\n",
        "#     If the comment is more likely than not to be either hate speech or offensive language, the program will \n",
        "#     Class options are: hate speech, offensive language, neither'''\n",
        "    \n",
        "#     #likelihood that speech is NOT hate speech must be lower than this value to be flagged\n",
        "#     threshold = 0.03\n",
        "    \n",
        "#     #run hateSonar\n",
        "#     results = sonar_obj.ping(text=comment)\n",
        "\n",
        "#     #initially save top result as the label\n",
        "#     label = results['top_class']\n",
        "\n",
        "#     #if the initial label is hate speech or offensive language\n",
        "#     if label == 'neither':\n",
        "#         label = False\n",
        "#     elif results['classes']['class_name' == 'neither']['confidence'] > threshold:\n",
        "#         label = False\n",
        "#     else:\n",
        "#         label = True\n",
        "        \n",
        "#     return label"
      ],
      "execution_count": 44,
      "outputs": []
    },
    {
      "cell_type": "code",
      "metadata": {
        "id": "sYm1-tYBHnOL"
      },
      "source": [
        "# df['hateSonar_abuse_flag'] = df['commentBody'].apply(lambda x: bool_top_hs_class(sonar, x))"
      ],
      "execution_count": 45,
      "outputs": []
    },
    {
      "cell_type": "code",
      "metadata": {
        "id": "pfrwIntrHnOM"
      },
      "source": [
        "# df['hateSonar_abuse_flag'].value_counts()"
      ],
      "execution_count": 46,
      "outputs": []
    },
    {
      "cell_type": "code",
      "metadata": {
        "id": "rYq9XOzJHnOM"
      },
      "source": [
        "# df['commentBody'].loc[df['hateSonar_abuse_flag'] == True]"
      ],
      "execution_count": 47,
      "outputs": []
    },
    {
      "cell_type": "code",
      "metadata": {
        "id": "jEEttPohHnOM"
      },
      "source": [
        "# df_sections = df.groupby(by='newDesk_x').sum()\n",
        "# df_sections['hateSonar_abuse_flag']"
      ],
      "execution_count": 48,
      "outputs": []
    },
    {
      "cell_type": "code",
      "metadata": {
        "id": "2iPSnJFUHnON"
      },
      "source": [
        "# df.columns"
      ],
      "execution_count": 49,
      "outputs": []
    },
    {
      "cell_type": "markdown",
      "metadata": {
        "id": "O35eYjCwHnON"
      },
      "source": [
        "Limitations: hate sonar detects problematic speech where there isn't any. It flags good-faith discussions of race, faith, sex/gender, suicide, and other topics sensitive topics. It also (understandably) struggles with quotes and sarcasm. \n",
        "It could also be missing problematic speech.\n",
        "An interesting takeaway from this is that context is incredibly important for training hate speech detection tools. Hate speech in the comments of New York Times articles is likely to look very different from objectionable speech on Twitter at large, for example. "
      ]
    },
    {
      "cell_type": "markdown",
      "metadata": {
        "id": "4AMw8HYkHnOQ"
      },
      "source": [
        "## Text Preprocessing"
      ]
    },
    {
      "cell_type": "code",
      "metadata": {
        "colab": {
          "base_uri": "https://localhost:8080/"
        },
        "id": "VaEnXfJDHnOR",
        "outputId": "d61c88d4-9fcd-4f70-9ce3-f64a05537057"
      },
      "source": [
        "nltk.download('stopwords')\n",
        "nltk.download('wordnet')\n",
        "#create stopwords set for computational efficiency\n",
        "stopwords_set = set(stopwords.words('english'))"
      ],
      "execution_count": 50,
      "outputs": [
        {
          "output_type": "stream",
          "name": "stdout",
          "text": [
            "[nltk_data] Downloading package stopwords to /root/nltk_data...\n",
            "[nltk_data]   Package stopwords is already up-to-date!\n",
            "[nltk_data] Downloading package wordnet to /root/nltk_data...\n",
            "[nltk_data]   Package wordnet is already up-to-date!\n"
          ]
        }
      ]
    },
    {
      "cell_type": "code",
      "metadata": {
        "id": "CeJ-phs2HnOR"
      },
      "source": [
        "from io import StringIO\n",
        "from html.parser import HTMLParser\n",
        "\n",
        "class MLStripper(HTMLParser):\n",
        "    def __init__(self):\n",
        "        super().__init__()\n",
        "        self.reset()\n",
        "        self.strict = False\n",
        "        self.convert_charrefs= True\n",
        "        self.text = StringIO()\n",
        "    def handle_data(self, d):\n",
        "        self.text.write(d)\n",
        "    def get_data(self):\n",
        "        return self.text.getvalue()\n",
        "\n",
        "def strip_tags(html):\n",
        "    s = MLStripper()\n",
        "    s.feed(html)\n",
        "    return s.get_data()"
      ],
      "execution_count": 51,
      "outputs": []
    },
    {
      "cell_type": "code",
      "metadata": {
        "id": "EyodmT1hHnOR"
      },
      "source": [
        "#test run for processing a single string - want to functionalize\n",
        "#integers = []\n",
        "\n",
        "def lower_and_sw_filter(comment_str):\n",
        "    ''' this function returns a string with all the characters converted to lowercase\n",
        "    and all stopwords and punctuation removed'''\n",
        "    \n",
        "    #strip html tags\n",
        "    comment_str = strip_tags(comment_str)\n",
        "    \n",
        "    #lowercase\n",
        "    comment_str = comment_str.lower()\n",
        "\n",
        "    #tokenize\n",
        "    tokenizer = RegexpTokenizer(r'[a-zA-Z0-9]+')\n",
        "\n",
        "    comment_str = tokenizer.tokenize(comment_str)\n",
        "\n",
        "    #stopwords\n",
        "\n",
        "    filtered = list(filter(lambda x: x.lower() not in stopwords_set, comment_str))\n",
        "\n",
        "    #lemmatize\n",
        "\n",
        "    lemmatizer = WordNetLemmatizer()\n",
        "    lemma = []\n",
        "    for word in filtered:\n",
        "#         #print(word)\n",
        "#         if word.isdigit():\n",
        "#             int_list.append(word)\n",
        "        \n",
        "        lemmatized_word = lemmatizer.lemmatize(word)\n",
        "        lemma.append(lemmatized_word)\n",
        "    \n",
        "    lemma = ' '.join(lemma)\n",
        "    \n",
        "    return lemma"
      ],
      "execution_count": 52,
      "outputs": []
    },
    {
      "cell_type": "code",
      "metadata": {
        "colab": {
          "base_uri": "https://localhost:8080/"
        },
        "id": "wQNqUGePHnOS",
        "outputId": "c6f1e077-37af-403d-9cf3-d7d9ab29f615"
      },
      "source": [
        "df['processed_comment'] = df['commentBody'].apply(lambda x: lower_and_sw_filter(x))\n",
        "df.drop('commentBody', axis=1, inplace=True)\n",
        "df.columns"
      ],
      "execution_count": 53,
      "outputs": [
        {
          "output_type": "execute_result",
          "data": {
            "text/plain": [
              "Index(['articleID', 'articleWordCount_x', 'commentID', 'commentType', 'depth',\n",
              "       'editorsSelection', 'inReplyTo', 'newDesk_x', 'recommendations',\n",
              "       'replyCount', 'sectionName_x', 'timespeople', 'trusted',\n",
              "       'typeOfMaterial_x', 'documentType', 'headline', 'pubDate',\n",
              "       'article_comment_total', 'article_rec_total', 'article_reply_total',\n",
              "       'highly_commented', 'high_total_recommendations', 'high_total_reply',\n",
              "       'commentLength', 'highly_recommended', 'recommended', 'replied_to',\n",
              "       'highly_replied_to', 'processed_comment'],\n",
              "      dtype='object')"
            ]
          },
          "metadata": {},
          "execution_count": 53
        }
      ]
    },
    {
      "cell_type": "markdown",
      "metadata": {
        "id": "23ECTY5VHnOS"
      },
      "source": [
        "## Modeling "
      ]
    },
    {
      "cell_type": "markdown",
      "metadata": {
        "id": "doDXwqO-t7ku"
      },
      "source": [
        "Aside, data size issue"
      ]
    },
    {
      "cell_type": "markdown",
      "metadata": {
        "id": "l6n6KSSdHnOS"
      },
      "source": [
        "### Additional text preprocessing for modeling"
      ]
    },
    {
      "cell_type": "markdown",
      "metadata": {
        "id": "71ZG8P-mHnOS"
      },
      "source": [
        "Remove extra features"
      ]
    },
    {
      "cell_type": "code",
      "metadata": {
        "colab": {
          "base_uri": "https://localhost:8080/",
          "height": 221
        },
        "id": "CUqzdjHLHnOS",
        "outputId": "74fed15f-a1d7-402a-b859-b5a6c9775392"
      },
      "source": [
        "display(df.columns)\n",
        "\n",
        "keep = ['recommendations',\n",
        "        'highly_recommended', \n",
        "        'replyCount',\n",
        "        'replied_to', \n",
        "        'editorsSelection', \n",
        "        'processed_comment']\n",
        "\n",
        "df = reverse_drop(df, keep)\n",
        "df.columns"
      ],
      "execution_count": 54,
      "outputs": [
        {
          "output_type": "display_data",
          "data": {
            "text/plain": [
              "Index(['articleID', 'articleWordCount_x', 'commentID', 'commentType', 'depth',\n",
              "       'editorsSelection', 'inReplyTo', 'newDesk_x', 'recommendations',\n",
              "       'replyCount', 'sectionName_x', 'timespeople', 'trusted',\n",
              "       'typeOfMaterial_x', 'documentType', 'headline', 'pubDate',\n",
              "       'article_comment_total', 'article_rec_total', 'article_reply_total',\n",
              "       'highly_commented', 'high_total_recommendations', 'high_total_reply',\n",
              "       'commentLength', 'highly_recommended', 'recommended', 'replied_to',\n",
              "       'highly_replied_to', 'processed_comment'],\n",
              "      dtype='object')"
            ]
          },
          "metadata": {}
        },
        {
          "output_type": "execute_result",
          "data": {
            "text/plain": [
              "Index(['editorsSelection', 'recommendations', 'replyCount',\n",
              "       'highly_recommended', 'replied_to', 'processed_comment'],\n",
              "      dtype='object')"
            ]
          },
          "metadata": {},
          "execution_count": 54
        }
      ]
    },
    {
      "cell_type": "markdown",
      "metadata": {
        "id": "Y9izPrrDY591"
      },
      "source": [
        "Predicting Recommendations"
      ]
    },
    {
      "cell_type": "markdown",
      "metadata": {
        "id": "59ApfmgxHnOT"
      },
      "source": [
        "test-train split"
      ]
    },
    {
      "cell_type": "code",
      "metadata": {
        "id": "P0XFNL6THnOT"
      },
      "source": [
        "X_train, X_test, y_train, y_test = train_test_split(df.drop('highly_recommended', axis=1), \n",
        "                                                    df['highly_recommended'], \n",
        "                                                    random_state=714)"
      ],
      "execution_count": 55,
      "outputs": []
    },
    {
      "cell_type": "markdown",
      "metadata": {
        "id": "aDxpn1H0HnOT"
      },
      "source": [
        "TF-IDF"
      ]
    },
    {
      "cell_type": "code",
      "metadata": {
        "id": "U2Rpy71QHnOT"
      },
      "source": [
        "def tfidfify(train_text, test_text, tfidf=None):\n",
        "    if not tfidf:\n",
        "        tfidf = TfidfVectorizer(stop_words='english', dtype=np.float32, max_features = 10000)\n",
        "    tfidf.fit(train_text)\n",
        "    train_processed = tfidf.transform(train_text)\n",
        "    \n",
        "    test_processed = tfidf.transform(test_text)\n",
        "\n",
        "    columns = tfidf.get_feature_names()\n",
        "    return (\n",
        "        pd.DataFrame(train_processed.toarray()),\n",
        "        pd.DataFrame(test_processed.toarray()),\n",
        "        columns\n",
        "    )"
      ],
      "execution_count": 56,
      "outputs": []
    },
    {
      "cell_type": "code",
      "metadata": {
        "colab": {
          "base_uri": "https://localhost:8080/",
          "height": 85
        },
        "id": "FBhB7VNnHnOU",
        "outputId": "8d50776a-38ef-4469-c453-7af502cd5f07"
      },
      "source": [
        "vect = TfidfVectorizer(stop_words='english', dtype=np.float32, max_features = 30000)\n",
        "train_processed, test_processed, feat_names = tfidfify(X_train['processed_comment'], X_test['processed_comment'], vect)\n",
        "\n",
        "print('Training Data shape:')\n",
        "display(train_processed.shape)\n",
        "print('Testing Data shape:')\n",
        "display(test_processed.shape)"
      ],
      "execution_count": 57,
      "outputs": [
        {
          "output_type": "stream",
          "name": "stdout",
          "text": [
            "Training Data shape:\n"
          ]
        },
        {
          "output_type": "display_data",
          "data": {
            "text/plain": [
              "(92769, 30000)"
            ]
          },
          "metadata": {}
        },
        {
          "output_type": "stream",
          "name": "stdout",
          "text": [
            "Testing Data shape:\n"
          ]
        },
        {
          "output_type": "display_data",
          "data": {
            "text/plain": [
              "(30923, 30000)"
            ]
          },
          "metadata": {}
        }
      ]
    },
    {
      "cell_type": "code",
      "metadata": {
        "id": "MwdZVsbtHnOU"
      },
      "source": [
        "text_processing = Pipeline([\n",
        "    ('vect', CountVectorizer(max_features=30000)),\n",
        "    ('tfidf', TfidfTransformer())\n",
        "])"
      ],
      "execution_count": 59,
      "outputs": []
    },
    {
      "cell_type": "code",
      "metadata": {
        "colab": {
          "base_uri": "https://localhost:8080/",
          "height": 85
        },
        "id": "SYZXwuWg3g4j",
        "outputId": "4da4bbbb-ac4a-419d-e47b-51e29e62b391"
      },
      "source": [
        "text_processing.fit(X_train['processed_comment'])\n",
        "\n",
        "processed_train = text_processing.transform(X_train['processed_comment'])\n",
        "processed_test = text_processing.transform(X_test['processed_comment'])\n",
        "\n",
        "print('Training Data shape:')\n",
        "display(processed_train.shape)\n",
        "print('Testing Data shape:')\n",
        "display(processed_test.shape)"
      ],
      "execution_count": 60,
      "outputs": [
        {
          "output_type": "stream",
          "name": "stdout",
          "text": [
            "Training Data shape:\n"
          ]
        },
        {
          "output_type": "display_data",
          "data": {
            "text/plain": [
              "(92769, 30000)"
            ]
          },
          "metadata": {}
        },
        {
          "output_type": "stream",
          "name": "stdout",
          "text": [
            "Testing Data shape:\n"
          ]
        },
        {
          "output_type": "display_data",
          "data": {
            "text/plain": [
              "(30923, 30000)"
            ]
          },
          "metadata": {}
        }
      ]
    },
    {
      "cell_type": "code",
      "metadata": {
        "id": "giTub_5DJy4X"
      },
      "source": [
        "# from sklearn.decomposition import PCA\n",
        "\n",
        "# pca = PCA(n_components = 10000)\n",
        "# pca.fit_transform(train_processed)\n",
        "# print(np.sum(pca.explained_variance_ratio_))"
      ],
      "execution_count": 61,
      "outputs": []
    },
    {
      "cell_type": "code",
      "metadata": {
        "colab": {
          "base_uri": "https://localhost:8080/",
          "height": 367
        },
        "id": "CbNK3HTDHnOU",
        "outputId": "f50f92d5-3115-4c79-8683-715d6d259384"
      },
      "source": [
        "nb_model = LogisticRegression()\n",
        "\n",
        "nb_model.fit(processed_train.toarray(), y_train.values.ravel())\n",
        "\n",
        "y_hat_test = nb_model.predict(processed_test)\n",
        "print(classification_report(y_test, y_hat_test))"
      ],
      "execution_count": 62,
      "outputs": [
        {
          "output_type": "stream",
          "name": "stderr",
          "text": [
            "/usr/local/lib/python3.7/dist-packages/sklearn/linear_model/_logistic.py:940: ConvergenceWarning:\n",
            "\n",
            "lbfgs failed to converge (status=1):\n",
            "STOP: TOTAL NO. of ITERATIONS REACHED LIMIT.\n",
            "\n",
            "Increase the number of iterations (max_iter) or scale the data as shown in:\n",
            "    https://scikit-learn.org/stable/modules/preprocessing.html\n",
            "Please also refer to the documentation for alternative solver options:\n",
            "    https://scikit-learn.org/stable/modules/linear_model.html#logistic-regression\n",
            "\n"
          ]
        },
        {
          "output_type": "error",
          "ename": "NameError",
          "evalue": "ignored",
          "traceback": [
            "\u001b[0;31m---------------------------------------------------------------------------\u001b[0m",
            "\u001b[0;31mNameError\u001b[0m                                 Traceback (most recent call last)",
            "\u001b[0;32m<ipython-input-62-2ea5730394fa>\u001b[0m in \u001b[0;36m<module>\u001b[0;34m()\u001b[0m\n\u001b[1;32m      4\u001b[0m \u001b[0;34m\u001b[0m\u001b[0m\n\u001b[1;32m      5\u001b[0m \u001b[0my_hat_test\u001b[0m \u001b[0;34m=\u001b[0m \u001b[0mnb_model\u001b[0m\u001b[0;34m.\u001b[0m\u001b[0mpredict\u001b[0m\u001b[0;34m(\u001b[0m\u001b[0mprocessed_test\u001b[0m\u001b[0;34m)\u001b[0m\u001b[0;34m\u001b[0m\u001b[0;34m\u001b[0m\u001b[0m\n\u001b[0;32m----> 6\u001b[0;31m \u001b[0mprint\u001b[0m\u001b[0;34m(\u001b[0m\u001b[0mclassification_report\u001b[0m\u001b[0;34m(\u001b[0m\u001b[0my_test\u001b[0m\u001b[0;34m,\u001b[0m \u001b[0my_hat_test\u001b[0m\u001b[0;34m)\u001b[0m\u001b[0;34m)\u001b[0m\u001b[0;34m\u001b[0m\u001b[0;34m\u001b[0m\u001b[0m\n\u001b[0m",
            "\u001b[0;31mNameError\u001b[0m: name 'classification_report' is not defined"
          ]
        }
      ]
    },
    {
      "cell_type": "markdown",
      "metadata": {
        "id": "RY9NSYscHnOU"
      },
      "source": [
        "## Evaluation"
      ]
    },
    {
      "cell_type": "code",
      "metadata": {
        "id": "xA5ITiuqZJgI"
      },
      "source": [
        ""
      ],
      "execution_count": null,
      "outputs": []
    },
    {
      "cell_type": "markdown",
      "metadata": {
        "id": "rp8QjigyHnOV"
      },
      "source": [
        "## Conclusions"
      ]
    },
    {
      "cell_type": "code",
      "metadata": {
        "id": "Hsq0rE0lHnOV"
      },
      "source": [
        ""
      ],
      "execution_count": null,
      "outputs": []
    }
  ]
}