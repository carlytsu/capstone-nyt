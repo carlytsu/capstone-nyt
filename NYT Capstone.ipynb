{
  "nbformat": 4,
  "nbformat_minor": 0,
  "metadata": {
    "kernelspec": {
      "name": "python3",
      "display_name": "Python 3"
    },
    "toc": {
      "base_numbering": 1,
      "nav_menu": {},
      "number_sections": true,
      "sideBar": true,
      "skip_h1_title": true,
      "title_cell": "Table of Contents",
      "title_sidebar": "Contents",
      "toc_cell": false,
      "toc_position": {
        "height": "calc(100% - 180px)",
        "left": "10px",
        "top": "150px",
        "width": "265.8px"
      },
      "toc_section_display": true,
      "toc_window_display": true
    },
    "varInspector": {
      "cols": {
        "lenName": 16,
        "lenType": 16,
        "lenVar": 40
      },
      "kernels_config": {
        "python": {
          "delete_cmd_postfix": "",
          "delete_cmd_prefix": "del ",
          "library": "var_list.py",
          "varRefreshCmd": "print(var_dic_list())"
        },
        "r": {
          "delete_cmd_postfix": ") ",
          "delete_cmd_prefix": "rm(",
          "library": "var_list.r",
          "varRefreshCmd": "cat(var_dic_list()) "
        }
      },
      "types_to_exclude": [
        "module",
        "function",
        "builtin_function_or_method",
        "instance",
        "_Feature"
      ],
      "window_display": false
    },
    "colab": {
      "name": "NYT Capstone.ipynb",
      "provenance": [],
      "machine_shape": "hm"
    },
    "language_info": {
      "name": "python"
    }
  },
  "cells": [
    {
      "cell_type": "markdown",
      "metadata": {
        "id": "f3e2Am9_HnNv"
      },
      "source": [
        "# Business Question\n",
        "\n",
        "The New York Times is reevaluating the comment moderation on its web content, in hopes of stimulating reader engagement, deepening the quality of user feedback, and identifying potentially problematic comments more quickly. They would like to use the existing recommendation tool to develop a machine learning model that will predict which comments will be most popular and which comments will be most likely to generate further engagement. The end goal will be to sort comments according to this prediction (as a third option available to users in addition to presenting comments ranked in response to recommendations or chronologically). Additionally, they would like to identify comments that are most likely to be flagged as abuse to bring these comments to the attention of moderators more quickly. "
      ]
    },
    {
      "cell_type": "markdown",
      "metadata": {
        "id": "EZq2OkcDHnN0"
      },
      "source": [
        "### Data Acquisition\n",
        "The data used for this project represents articles and comments on The New York Times website in April 2017. I downloaded the dataset from Kaggle [at this address](https://www.kaggle.com/aashita/nyt-comments). The data was originally collected using the New York Times API. The process for this collection is well-documented on the Kaggle page. "
      ]
    },
    {
      "cell_type": "code",
      "metadata": {
        "colab": {
          "base_uri": "https://localhost:8080/",
          "height": 0
        },
        "id": "UwEWbd3LTjqX",
        "outputId": "00df22e7-ce77-4130-e105-af6d46b6eaef"
      },
      "source": [
        "from google.colab import drive\n",
        "drive.mount('/content/gdrive')"
      ],
      "execution_count": 31,
      "outputs": [
        {
          "output_type": "stream",
          "name": "stdout",
          "text": [
            "Drive already mounted at /content/gdrive; to attempt to forcibly remount, call drive.mount(\"/content/gdrive\", force_remount=True).\n"
          ]
        }
      ]
    },
    {
      "cell_type": "code",
      "metadata": {
        "colab": {
          "base_uri": "https://localhost:8080/",
          "height": 0
        },
        "id": "5CZCtxFwHnN0",
        "outputId": "d23c280d-8381-4a6c-be0c-82de7e1307aa"
      },
      "source": [
        "import numpy as np\n",
        "import pandas as pd\n",
        "import matplotlib.pyplot as plt\n",
        "import plotly.express as px\n",
        "import plotly.graph_objects as go\n",
        "\n",
        "from sklearn.model_selection import train_test_split\n",
        "from sklearn.feature_extraction.text import TfidfVectorizer\n",
        "from sklearn.feature_extraction.text import CountVectorizer\n",
        "from sklearn.feature_extraction.text import TfidfTransformer\n",
        "\n",
        "from sklearn.linear_model import LogisticRegression\n",
        "from sklearn.naive_bayes import GaussianNB\n",
        "from sklearn.svm import SVC\n",
        "from sklearn.ensemble import RandomForestClassifier\n",
        "from sklearn.metrics import accuracy_score, classification_report, confusion_matrix, plot_confusion_matrix\n",
        "from sklearn.pipeline import Pipeline\n",
        "\n",
        "import nltk\n",
        "from nltk.corpus import stopwords\n",
        "from nltk.stem import WordNetLemmatizer\n",
        "from nltk.tokenize import RegexpTokenizer\n",
        "from nltk.probability import FreqDist\n",
        "\n",
        "import gc\n",
        "\n",
        "#hate speech library\n",
        "!pip install hatesonar\n",
        "from hatesonar import Sonar\n",
        "\n",
        "#toggle variable to print previews, 'sanity checks'\n",
        "print_detail = True"
      ],
      "execution_count": 32,
      "outputs": [
        {
          "output_type": "stream",
          "name": "stdout",
          "text": [
            "Requirement already satisfied: hatesonar in /usr/local/lib/python3.7/dist-packages (0.0.7)\n",
            "Requirement already satisfied: scikit-learn>=0.19.1 in /usr/local/lib/python3.7/dist-packages (from hatesonar) (0.22.2.post1)\n",
            "Requirement already satisfied: numpy>=1.14.0 in /usr/local/lib/python3.7/dist-packages (from hatesonar) (1.19.5)\n",
            "Requirement already satisfied: scipy>=1.0.0 in /usr/local/lib/python3.7/dist-packages (from hatesonar) (1.4.1)\n",
            "Requirement already satisfied: joblib>=0.16.0 in /usr/local/lib/python3.7/dist-packages (from hatesonar) (1.0.1)\n",
            "Requirement already satisfied: pandas>=0.22.0 in /usr/local/lib/python3.7/dist-packages (from hatesonar) (1.1.5)\n",
            "Requirement already satisfied: python-dateutil>=2.7.3 in /usr/local/lib/python3.7/dist-packages (from pandas>=0.22.0->hatesonar) (2.8.2)\n",
            "Requirement already satisfied: pytz>=2017.2 in /usr/local/lib/python3.7/dist-packages (from pandas>=0.22.0->hatesonar) (2018.9)\n",
            "Requirement already satisfied: six>=1.5 in /usr/local/lib/python3.7/dist-packages (from python-dateutil>=2.7.3->pandas>=0.22.0->hatesonar) (1.15.0)\n"
          ]
        }
      ]
    },
    {
      "cell_type": "code",
      "metadata": {
        "colab": {
          "base_uri": "https://localhost:8080/",
          "height": 0
        },
        "id": "VaEnXfJDHnOR",
        "outputId": "cbb9314d-005f-4742-fd67-e8336a8839c6"
      },
      "source": [
        "#load stopwords for NLP\n",
        "nltk.download('stopwords')\n",
        "nltk.download('wordnet')\n",
        "#create stopwords set for computational efficiency\n",
        "stopwords_set = set(stopwords.words('english'))"
      ],
      "execution_count": 33,
      "outputs": [
        {
          "output_type": "stream",
          "name": "stdout",
          "text": [
            "[nltk_data] Downloading package stopwords to /root/nltk_data...\n",
            "[nltk_data]   Package stopwords is already up-to-date!\n",
            "[nltk_data] Downloading package wordnet to /root/nltk_data...\n",
            "[nltk_data]   Package wordnet is already up-to-date!\n"
          ]
        }
      ]
    },
    {
      "cell_type": "markdown",
      "metadata": {
        "id": "ZqUgPfMEHnN2"
      },
      "source": [
        "## Preprocessing"
      ]
    },
    {
      "cell_type": "code",
      "metadata": {
        "colab": {
          "base_uri": "https://localhost:8080/",
          "height": 2305
        },
        "id": "kUOkgDWqHnN2",
        "outputId": "8cad9463-ad58-438a-a4d1-b73a5f8abe28"
      },
      "source": [
        "#load in datasets\n",
        "#articles dataset\n",
        "art = pd.read_csv('gdrive/MyDrive/data/ArticlesApril2018.csv')\n",
        "#comments dataset\n",
        "comm = pd.read_csv('gdrive/MyDrive/data/CommentsApril2018.csv')\n",
        "    \n",
        "if print_detail:\n",
        "    # preview\n",
        "    display(art.info())\n",
        "    display(comm.info())\n",
        "    display(art.head())\n",
        "    display(comm.head())"
      ],
      "execution_count": 34,
      "outputs": [
        {
          "output_type": "stream",
          "name": "stderr",
          "text": [
            "/usr/local/lib/python3.7/dist-packages/IPython/core/interactiveshell.py:2718: DtypeWarning:\n",
            "\n",
            "Columns (32) have mixed types.Specify dtype option on import or set low_memory=False.\n",
            "\n"
          ]
        },
        {
          "output_type": "stream",
          "name": "stdout",
          "text": [
            "<class 'pandas.core.frame.DataFrame'>\n",
            "RangeIndex: 1324 entries, 0 to 1323\n",
            "Data columns (total 15 columns):\n",
            " #   Column            Non-Null Count  Dtype \n",
            "---  ------            --------------  ----- \n",
            " 0   articleID         1324 non-null   object\n",
            " 1   articleWordCount  1324 non-null   int64 \n",
            " 2   byline            1324 non-null   object\n",
            " 3   documentType      1324 non-null   object\n",
            " 4   headline          1324 non-null   object\n",
            " 5   keywords          1324 non-null   object\n",
            " 6   multimedia        1324 non-null   int64 \n",
            " 7   newDesk           1324 non-null   object\n",
            " 8   printPage         1324 non-null   int64 \n",
            " 9   pubDate           1324 non-null   object\n",
            " 10  sectionName       1324 non-null   object\n",
            " 11  snippet           1324 non-null   object\n",
            " 12  source            1324 non-null   object\n",
            " 13  typeOfMaterial    1324 non-null   object\n",
            " 14  webURL            1324 non-null   object\n",
            "dtypes: int64(3), object(12)\n",
            "memory usage: 155.3+ KB\n"
          ]
        },
        {
          "output_type": "display_data",
          "data": {
            "text/plain": [
              "None"
            ]
          },
          "metadata": {}
        },
        {
          "output_type": "stream",
          "name": "stdout",
          "text": [
            "<class 'pandas.core.frame.DataFrame'>\n",
            "RangeIndex: 264924 entries, 0 to 264923\n",
            "Data columns (total 34 columns):\n",
            " #   Column                 Non-Null Count   Dtype  \n",
            "---  ------                 --------------   -----  \n",
            " 0   approveDate            264924 non-null  int64  \n",
            " 1   articleID              264924 non-null  object \n",
            " 2   articleWordCount       264924 non-null  float64\n",
            " 3   commentBody            264924 non-null  object \n",
            " 4   commentID              264924 non-null  float64\n",
            " 5   commentSequence        264924 non-null  float64\n",
            " 6   commentTitle           264911 non-null  object \n",
            " 7   commentType            264924 non-null  object \n",
            " 8   createDate             264924 non-null  int64  \n",
            " 9   depth                  264924 non-null  float64\n",
            " 10  editorsSelection       264924 non-null  bool   \n",
            " 11  inReplyTo              264924 non-null  float64\n",
            " 12  newDesk                264924 non-null  object \n",
            " 13  parentID               264924 non-null  float64\n",
            " 14  parentUserDisplayName  83875 non-null   object \n",
            " 15  permID                 264904 non-null  object \n",
            " 16  picURL                 264924 non-null  object \n",
            " 17  printPage              264924 non-null  float64\n",
            " 18  recommendations        264924 non-null  int64  \n",
            " 19  recommendedFlag        0 non-null       float64\n",
            " 20  replyCount             264924 non-null  int64  \n",
            " 21  reportAbuseFlag        0 non-null       float64\n",
            " 22  sectionName            264924 non-null  object \n",
            " 23  sharing                264924 non-null  int64  \n",
            " 24  status                 264924 non-null  object \n",
            " 25  timespeople            264924 non-null  int64  \n",
            " 26  trusted                264924 non-null  int64  \n",
            " 27  typeOfMaterial         264924 non-null  object \n",
            " 28  updateDate             264924 non-null  int64  \n",
            " 29  userDisplayName        264824 non-null  object \n",
            " 30  userID                 264924 non-null  float64\n",
            " 31  userLocation           264786 non-null  object \n",
            " 32  userTitle              100 non-null     object \n",
            " 33  userURL                0 non-null       float64\n",
            "dtypes: bool(1), float64(11), int64(8), object(14)\n",
            "memory usage: 67.0+ MB\n"
          ]
        },
        {
          "output_type": "display_data",
          "data": {
            "text/plain": [
              "None"
            ]
          },
          "metadata": {}
        },
        {
          "output_type": "display_data",
          "data": {
            "text/html": [
              "<div>\n",
              "<style scoped>\n",
              "    .dataframe tbody tr th:only-of-type {\n",
              "        vertical-align: middle;\n",
              "    }\n",
              "\n",
              "    .dataframe tbody tr th {\n",
              "        vertical-align: top;\n",
              "    }\n",
              "\n",
              "    .dataframe thead th {\n",
              "        text-align: right;\n",
              "    }\n",
              "</style>\n",
              "<table border=\"1\" class=\"dataframe\">\n",
              "  <thead>\n",
              "    <tr style=\"text-align: right;\">\n",
              "      <th></th>\n",
              "      <th>articleID</th>\n",
              "      <th>articleWordCount</th>\n",
              "      <th>byline</th>\n",
              "      <th>documentType</th>\n",
              "      <th>headline</th>\n",
              "      <th>keywords</th>\n",
              "      <th>multimedia</th>\n",
              "      <th>newDesk</th>\n",
              "      <th>printPage</th>\n",
              "      <th>pubDate</th>\n",
              "      <th>sectionName</th>\n",
              "      <th>snippet</th>\n",
              "      <th>source</th>\n",
              "      <th>typeOfMaterial</th>\n",
              "      <th>webURL</th>\n",
              "    </tr>\n",
              "  </thead>\n",
              "  <tbody>\n",
              "    <tr>\n",
              "      <th>0</th>\n",
              "      <td>5adf6684068401528a2aa69b</td>\n",
              "      <td>781</td>\n",
              "      <td>By JOHN BRANCH</td>\n",
              "      <td>article</td>\n",
              "      <td>Former N.F.L. Cheerleaders’ Settlement Offer: ...</td>\n",
              "      <td>['Workplace Hazards and Violations', 'Football...</td>\n",
              "      <td>68</td>\n",
              "      <td>Sports</td>\n",
              "      <td>0</td>\n",
              "      <td>2018-04-24 17:16:49</td>\n",
              "      <td>Pro Football</td>\n",
              "      <td>“I understand that they could meet with us, pa...</td>\n",
              "      <td>The New York Times</td>\n",
              "      <td>News</td>\n",
              "      <td>https://www.nytimes.com/2018/04/24/sports/foot...</td>\n",
              "    </tr>\n",
              "    <tr>\n",
              "      <th>1</th>\n",
              "      <td>5adf653f068401528a2aa697</td>\n",
              "      <td>656</td>\n",
              "      <td>By LISA FRIEDMAN</td>\n",
              "      <td>article</td>\n",
              "      <td>E.P.A. to Unveil a New Rule. Its Effect: Less ...</td>\n",
              "      <td>['Environmental Protection Agency', 'Pruitt, S...</td>\n",
              "      <td>68</td>\n",
              "      <td>Climate</td>\n",
              "      <td>0</td>\n",
              "      <td>2018-04-24 17:11:21</td>\n",
              "      <td>Unknown</td>\n",
              "      <td>The agency plans to publish a new regulation T...</td>\n",
              "      <td>The New York Times</td>\n",
              "      <td>News</td>\n",
              "      <td>https://www.nytimes.com/2018/04/24/climate/epa...</td>\n",
              "    </tr>\n",
              "    <tr>\n",
              "      <th>2</th>\n",
              "      <td>5adf4626068401528a2aa628</td>\n",
              "      <td>2427</td>\n",
              "      <td>By PETE WELLS</td>\n",
              "      <td>article</td>\n",
              "      <td>The New Noma, Explained</td>\n",
              "      <td>['Restaurants', 'Noma (Copenhagen, Restaurant)...</td>\n",
              "      <td>66</td>\n",
              "      <td>Dining</td>\n",
              "      <td>0</td>\n",
              "      <td>2018-04-24 14:58:44</td>\n",
              "      <td>Unknown</td>\n",
              "      <td>What’s it like to eat at the second incarnatio...</td>\n",
              "      <td>The New York Times</td>\n",
              "      <td>News</td>\n",
              "      <td>https://www.nytimes.com/2018/04/24/dining/noma...</td>\n",
              "    </tr>\n",
              "    <tr>\n",
              "      <th>3</th>\n",
              "      <td>5adf40d2068401528a2aa619</td>\n",
              "      <td>626</td>\n",
              "      <td>By JULIE HIRSCHFELD DAVIS and PETER BAKER</td>\n",
              "      <td>article</td>\n",
              "      <td>Unknown</td>\n",
              "      <td>['Macron, Emmanuel (1977- )', 'Trump, Donald J...</td>\n",
              "      <td>68</td>\n",
              "      <td>Washington</td>\n",
              "      <td>0</td>\n",
              "      <td>2018-04-24 14:35:57</td>\n",
              "      <td>Europe</td>\n",
              "      <td>President Trump welcomed President Emmanuel Ma...</td>\n",
              "      <td>The New York Times</td>\n",
              "      <td>News</td>\n",
              "      <td>https://www.nytimes.com/2018/04/24/world/europ...</td>\n",
              "    </tr>\n",
              "    <tr>\n",
              "      <th>4</th>\n",
              "      <td>5adf3d64068401528a2aa60f</td>\n",
              "      <td>815</td>\n",
              "      <td>By IAN AUSTEN and DAN BILEFSKY</td>\n",
              "      <td>article</td>\n",
              "      <td>Unknown</td>\n",
              "      <td>['Toronto, Ontario, Attack (April, 2018)', 'Mu...</td>\n",
              "      <td>68</td>\n",
              "      <td>Foreign</td>\n",
              "      <td>0</td>\n",
              "      <td>2018-04-24 14:21:21</td>\n",
              "      <td>Canada</td>\n",
              "      <td>Alek Minassian, 25, a resident of Toronto’s Ri...</td>\n",
              "      <td>The New York Times</td>\n",
              "      <td>News</td>\n",
              "      <td>https://www.nytimes.com/2018/04/24/world/canad...</td>\n",
              "    </tr>\n",
              "  </tbody>\n",
              "</table>\n",
              "</div>"
            ],
            "text/plain": [
              "                  articleID  ...                                             webURL\n",
              "0  5adf6684068401528a2aa69b  ...  https://www.nytimes.com/2018/04/24/sports/foot...\n",
              "1  5adf653f068401528a2aa697  ...  https://www.nytimes.com/2018/04/24/climate/epa...\n",
              "2  5adf4626068401528a2aa628  ...  https://www.nytimes.com/2018/04/24/dining/noma...\n",
              "3  5adf40d2068401528a2aa619  ...  https://www.nytimes.com/2018/04/24/world/europ...\n",
              "4  5adf3d64068401528a2aa60f  ...  https://www.nytimes.com/2018/04/24/world/canad...\n",
              "\n",
              "[5 rows x 15 columns]"
            ]
          },
          "metadata": {}
        },
        {
          "output_type": "display_data",
          "data": {
            "text/html": [
              "<div>\n",
              "<style scoped>\n",
              "    .dataframe tbody tr th:only-of-type {\n",
              "        vertical-align: middle;\n",
              "    }\n",
              "\n",
              "    .dataframe tbody tr th {\n",
              "        vertical-align: top;\n",
              "    }\n",
              "\n",
              "    .dataframe thead th {\n",
              "        text-align: right;\n",
              "    }\n",
              "</style>\n",
              "<table border=\"1\" class=\"dataframe\">\n",
              "  <thead>\n",
              "    <tr style=\"text-align: right;\">\n",
              "      <th></th>\n",
              "      <th>approveDate</th>\n",
              "      <th>articleID</th>\n",
              "      <th>articleWordCount</th>\n",
              "      <th>commentBody</th>\n",
              "      <th>commentID</th>\n",
              "      <th>commentSequence</th>\n",
              "      <th>commentTitle</th>\n",
              "      <th>commentType</th>\n",
              "      <th>createDate</th>\n",
              "      <th>depth</th>\n",
              "      <th>editorsSelection</th>\n",
              "      <th>inReplyTo</th>\n",
              "      <th>newDesk</th>\n",
              "      <th>parentID</th>\n",
              "      <th>parentUserDisplayName</th>\n",
              "      <th>permID</th>\n",
              "      <th>picURL</th>\n",
              "      <th>printPage</th>\n",
              "      <th>recommendations</th>\n",
              "      <th>recommendedFlag</th>\n",
              "      <th>replyCount</th>\n",
              "      <th>reportAbuseFlag</th>\n",
              "      <th>sectionName</th>\n",
              "      <th>sharing</th>\n",
              "      <th>status</th>\n",
              "      <th>timespeople</th>\n",
              "      <th>trusted</th>\n",
              "      <th>typeOfMaterial</th>\n",
              "      <th>updateDate</th>\n",
              "      <th>userDisplayName</th>\n",
              "      <th>userID</th>\n",
              "      <th>userLocation</th>\n",
              "      <th>userTitle</th>\n",
              "      <th>userURL</th>\n",
              "    </tr>\n",
              "  </thead>\n",
              "  <tbody>\n",
              "    <tr>\n",
              "      <th>0</th>\n",
              "      <td>1524594282</td>\n",
              "      <td>5adf6684068401528a2aa69b</td>\n",
              "      <td>781.0</td>\n",
              "      <td>How could the league possibly refuse this offe...</td>\n",
              "      <td>26853969.0</td>\n",
              "      <td>26853969.0</td>\n",
              "      <td>&lt;br/&gt;</td>\n",
              "      <td>comment</td>\n",
              "      <td>1524594011</td>\n",
              "      <td>1.0</td>\n",
              "      <td>False</td>\n",
              "      <td>0.0</td>\n",
              "      <td>Sports</td>\n",
              "      <td>0.0</td>\n",
              "      <td>NaN</td>\n",
              "      <td>26853969</td>\n",
              "      <td>http://graphics8.nytimes.com/images/apps/times...</td>\n",
              "      <td>0.0</td>\n",
              "      <td>0</td>\n",
              "      <td>NaN</td>\n",
              "      <td>0</td>\n",
              "      <td>NaN</td>\n",
              "      <td>Pro Football</td>\n",
              "      <td>0</td>\n",
              "      <td>approved</td>\n",
              "      <td>1</td>\n",
              "      <td>0</td>\n",
              "      <td>News</td>\n",
              "      <td>1524594282</td>\n",
              "      <td>Christopher Rillo</td>\n",
              "      <td>46566740.0</td>\n",
              "      <td>San Francisco</td>\n",
              "      <td>NaN</td>\n",
              "      <td>NaN</td>\n",
              "    </tr>\n",
              "    <tr>\n",
              "      <th>1</th>\n",
              "      <td>1524594252</td>\n",
              "      <td>5adf6684068401528a2aa69b</td>\n",
              "      <td>781.0</td>\n",
              "      <td>So then the execs can be like \"yeah...we will ...</td>\n",
              "      <td>26853699.0</td>\n",
              "      <td>26853699.0</td>\n",
              "      <td>&lt;br/&gt;</td>\n",
              "      <td>comment</td>\n",
              "      <td>1524593146</td>\n",
              "      <td>1.0</td>\n",
              "      <td>False</td>\n",
              "      <td>0.0</td>\n",
              "      <td>Sports</td>\n",
              "      <td>0.0</td>\n",
              "      <td>NaN</td>\n",
              "      <td>26853699</td>\n",
              "      <td>http://graphics8.nytimes.com/images/apps/times...</td>\n",
              "      <td>0.0</td>\n",
              "      <td>0</td>\n",
              "      <td>NaN</td>\n",
              "      <td>0</td>\n",
              "      <td>NaN</td>\n",
              "      <td>Pro Football</td>\n",
              "      <td>0</td>\n",
              "      <td>approved</td>\n",
              "      <td>1</td>\n",
              "      <td>0</td>\n",
              "      <td>News</td>\n",
              "      <td>1524594252</td>\n",
              "      <td>Matt Brand</td>\n",
              "      <td>64324866.0</td>\n",
              "      <td>Williamsburg, Brooklyn</td>\n",
              "      <td>NaN</td>\n",
              "      <td>NaN</td>\n",
              "    </tr>\n",
              "    <tr>\n",
              "      <th>2</th>\n",
              "      <td>1524594250</td>\n",
              "      <td>5adf6684068401528a2aa69b</td>\n",
              "      <td>781.0</td>\n",
              "      <td>I would not want to play chess against these c...</td>\n",
              "      <td>26853677.0</td>\n",
              "      <td>26853677.0</td>\n",
              "      <td>&lt;br/&gt;</td>\n",
              "      <td>comment</td>\n",
              "      <td>1524593032</td>\n",
              "      <td>1.0</td>\n",
              "      <td>False</td>\n",
              "      <td>0.0</td>\n",
              "      <td>Sports</td>\n",
              "      <td>0.0</td>\n",
              "      <td>NaN</td>\n",
              "      <td>26853677</td>\n",
              "      <td>http://graphics8.nytimes.com/images/apps/times...</td>\n",
              "      <td>0.0</td>\n",
              "      <td>0</td>\n",
              "      <td>NaN</td>\n",
              "      <td>0</td>\n",
              "      <td>NaN</td>\n",
              "      <td>Pro Football</td>\n",
              "      <td>0</td>\n",
              "      <td>approved</td>\n",
              "      <td>1</td>\n",
              "      <td>0</td>\n",
              "      <td>News</td>\n",
              "      <td>1524594250</td>\n",
              "      <td>Joseph</td>\n",
              "      <td>78105093.0</td>\n",
              "      <td>Fayetteville, AR</td>\n",
              "      <td>NaN</td>\n",
              "      <td>NaN</td>\n",
              "    </tr>\n",
              "    <tr>\n",
              "      <th>3</th>\n",
              "      <td>1524593431</td>\n",
              "      <td>5adf6684068401528a2aa69b</td>\n",
              "      <td>781.0</td>\n",
              "      <td>Could the cheerleaders join the Actors' Equity...</td>\n",
              "      <td>26853784.0</td>\n",
              "      <td>26853784.0</td>\n",
              "      <td>&lt;br/&gt;</td>\n",
              "      <td>comment</td>\n",
              "      <td>1524593426</td>\n",
              "      <td>1.0</td>\n",
              "      <td>False</td>\n",
              "      <td>0.0</td>\n",
              "      <td>Sports</td>\n",
              "      <td>0.0</td>\n",
              "      <td>NaN</td>\n",
              "      <td>26853784</td>\n",
              "      <td>http://graphics8.nytimes.com/images/apps/times...</td>\n",
              "      <td>0.0</td>\n",
              "      <td>3</td>\n",
              "      <td>NaN</td>\n",
              "      <td>0</td>\n",
              "      <td>NaN</td>\n",
              "      <td>Pro Football</td>\n",
              "      <td>0</td>\n",
              "      <td>approved</td>\n",
              "      <td>0</td>\n",
              "      <td>0</td>\n",
              "      <td>News</td>\n",
              "      <td>1524593431</td>\n",
              "      <td>Stephen</td>\n",
              "      <td>81939618.0</td>\n",
              "      <td>Phoenix, AZ</td>\n",
              "      <td>NaN</td>\n",
              "      <td>NaN</td>\n",
              "    </tr>\n",
              "    <tr>\n",
              "      <th>4</th>\n",
              "      <td>1524595048</td>\n",
              "      <td>5adf653f068401528a2aa697</td>\n",
              "      <td>656.0</td>\n",
              "      <td>Seeking conclusions which support preconceived...</td>\n",
              "      <td>26854236.0</td>\n",
              "      <td>26854236.0</td>\n",
              "      <td>&lt;br/&gt;</td>\n",
              "      <td>comment</td>\n",
              "      <td>1524595043</td>\n",
              "      <td>1.0</td>\n",
              "      <td>False</td>\n",
              "      <td>0.0</td>\n",
              "      <td>Climate</td>\n",
              "      <td>0.0</td>\n",
              "      <td>NaN</td>\n",
              "      <td>26854236</td>\n",
              "      <td>http://graphics8.nytimes.com/images/apps/times...</td>\n",
              "      <td>0.0</td>\n",
              "      <td>0</td>\n",
              "      <td>NaN</td>\n",
              "      <td>0</td>\n",
              "      <td>NaN</td>\n",
              "      <td>Unknown</td>\n",
              "      <td>1</td>\n",
              "      <td>approved</td>\n",
              "      <td>1</td>\n",
              "      <td>0</td>\n",
              "      <td>News</td>\n",
              "      <td>1524595048</td>\n",
              "      <td>Paul Zorsky</td>\n",
              "      <td>58642997.0</td>\n",
              "      <td>Texas</td>\n",
              "      <td>NaN</td>\n",
              "      <td>NaN</td>\n",
              "    </tr>\n",
              "  </tbody>\n",
              "</table>\n",
              "</div>"
            ],
            "text/plain": [
              "   approveDate                 articleID  ...  userTitle userURL\n",
              "0   1524594282  5adf6684068401528a2aa69b  ...        NaN     NaN\n",
              "1   1524594252  5adf6684068401528a2aa69b  ...        NaN     NaN\n",
              "2   1524594250  5adf6684068401528a2aa69b  ...        NaN     NaN\n",
              "3   1524593431  5adf6684068401528a2aa69b  ...        NaN     NaN\n",
              "4   1524595048  5adf653f068401528a2aa697  ...        NaN     NaN\n",
              "\n",
              "[5 rows x 34 columns]"
            ]
          },
          "metadata": {}
        }
      ]
    },
    {
      "cell_type": "code",
      "metadata": {
        "colab": {
          "base_uri": "https://localhost:8080/",
          "height": 277
        },
        "id": "k-MMTUxMHnN5",
        "outputId": "0089c438-3f7b-471d-b6de-631a0833c428"
      },
      "source": [
        "#check out the columns for each dataframe to determine the best index to join on\n",
        "if print_detail:\n",
        "  print('Article columns: ')\n",
        "  display(art.columns)\n",
        "  print('Comments columns: ')\n",
        "  display(comm.columns)"
      ],
      "execution_count": 35,
      "outputs": [
        {
          "output_type": "stream",
          "name": "stdout",
          "text": [
            "Article columns: \n"
          ]
        },
        {
          "output_type": "display_data",
          "data": {
            "text/plain": [
              "Index(['articleID', 'articleWordCount', 'byline', 'documentType', 'headline',\n",
              "       'keywords', 'multimedia', 'newDesk', 'printPage', 'pubDate',\n",
              "       'sectionName', 'snippet', 'source', 'typeOfMaterial', 'webURL'],\n",
              "      dtype='object')"
            ]
          },
          "metadata": {}
        },
        {
          "output_type": "stream",
          "name": "stdout",
          "text": [
            "Comments columns: \n"
          ]
        },
        {
          "output_type": "display_data",
          "data": {
            "text/plain": [
              "Index(['approveDate', 'articleID', 'articleWordCount', 'commentBody',\n",
              "       'commentID', 'commentSequence', 'commentTitle', 'commentType',\n",
              "       'createDate', 'depth', 'editorsSelection', 'inReplyTo', 'newDesk',\n",
              "       'parentID', 'parentUserDisplayName', 'permID', 'picURL', 'printPage',\n",
              "       'recommendations', 'recommendedFlag', 'replyCount', 'reportAbuseFlag',\n",
              "       'sectionName', 'sharing', 'status', 'timespeople', 'trusted',\n",
              "       'typeOfMaterial', 'updateDate', 'userDisplayName', 'userID',\n",
              "       'userLocation', 'userTitle', 'userURL'],\n",
              "      dtype='object')"
            ]
          },
          "metadata": {}
        }
      ]
    },
    {
      "cell_type": "code",
      "metadata": {
        "id": "8LOk39IrHnN5",
        "colab": {
          "base_uri": "https://localhost:8080/",
          "height": 867
        },
        "outputId": "a9bc179d-3a65-45a4-c4b6-95f6edf2f9d5"
      },
      "source": [
        "#combine the article and comment dataframes using articleID as an index\n",
        "df = pd.merge(comm, art, on='articleID')\n",
        "\n",
        "if print_detail:\n",
        "    display(df.head())\n",
        "    display(df.columns)"
      ],
      "execution_count": 36,
      "outputs": [
        {
          "output_type": "display_data",
          "data": {
            "text/html": [
              "<div>\n",
              "<style scoped>\n",
              "    .dataframe tbody tr th:only-of-type {\n",
              "        vertical-align: middle;\n",
              "    }\n",
              "\n",
              "    .dataframe tbody tr th {\n",
              "        vertical-align: top;\n",
              "    }\n",
              "\n",
              "    .dataframe thead th {\n",
              "        text-align: right;\n",
              "    }\n",
              "</style>\n",
              "<table border=\"1\" class=\"dataframe\">\n",
              "  <thead>\n",
              "    <tr style=\"text-align: right;\">\n",
              "      <th></th>\n",
              "      <th>approveDate</th>\n",
              "      <th>articleID</th>\n",
              "      <th>articleWordCount_x</th>\n",
              "      <th>commentBody</th>\n",
              "      <th>commentID</th>\n",
              "      <th>commentSequence</th>\n",
              "      <th>commentTitle</th>\n",
              "      <th>commentType</th>\n",
              "      <th>createDate</th>\n",
              "      <th>depth</th>\n",
              "      <th>editorsSelection</th>\n",
              "      <th>inReplyTo</th>\n",
              "      <th>newDesk_x</th>\n",
              "      <th>parentID</th>\n",
              "      <th>parentUserDisplayName</th>\n",
              "      <th>permID</th>\n",
              "      <th>picURL</th>\n",
              "      <th>printPage_x</th>\n",
              "      <th>recommendations</th>\n",
              "      <th>recommendedFlag</th>\n",
              "      <th>replyCount</th>\n",
              "      <th>reportAbuseFlag</th>\n",
              "      <th>sectionName_x</th>\n",
              "      <th>sharing</th>\n",
              "      <th>status</th>\n",
              "      <th>timespeople</th>\n",
              "      <th>trusted</th>\n",
              "      <th>typeOfMaterial_x</th>\n",
              "      <th>updateDate</th>\n",
              "      <th>userDisplayName</th>\n",
              "      <th>userID</th>\n",
              "      <th>userLocation</th>\n",
              "      <th>userTitle</th>\n",
              "      <th>userURL</th>\n",
              "      <th>articleWordCount_y</th>\n",
              "      <th>byline</th>\n",
              "      <th>documentType</th>\n",
              "      <th>headline</th>\n",
              "      <th>keywords</th>\n",
              "      <th>multimedia</th>\n",
              "      <th>newDesk_y</th>\n",
              "      <th>printPage_y</th>\n",
              "      <th>pubDate</th>\n",
              "      <th>sectionName_y</th>\n",
              "      <th>snippet</th>\n",
              "      <th>source</th>\n",
              "      <th>typeOfMaterial_y</th>\n",
              "      <th>webURL</th>\n",
              "    </tr>\n",
              "  </thead>\n",
              "  <tbody>\n",
              "    <tr>\n",
              "      <th>0</th>\n",
              "      <td>1524594282</td>\n",
              "      <td>5adf6684068401528a2aa69b</td>\n",
              "      <td>781.0</td>\n",
              "      <td>How could the league possibly refuse this offe...</td>\n",
              "      <td>26853969.0</td>\n",
              "      <td>26853969.0</td>\n",
              "      <td>&lt;br/&gt;</td>\n",
              "      <td>comment</td>\n",
              "      <td>1524594011</td>\n",
              "      <td>1.0</td>\n",
              "      <td>False</td>\n",
              "      <td>0.0</td>\n",
              "      <td>Sports</td>\n",
              "      <td>0.0</td>\n",
              "      <td>NaN</td>\n",
              "      <td>26853969</td>\n",
              "      <td>http://graphics8.nytimes.com/images/apps/times...</td>\n",
              "      <td>0.0</td>\n",
              "      <td>0</td>\n",
              "      <td>NaN</td>\n",
              "      <td>0</td>\n",
              "      <td>NaN</td>\n",
              "      <td>Pro Football</td>\n",
              "      <td>0</td>\n",
              "      <td>approved</td>\n",
              "      <td>1</td>\n",
              "      <td>0</td>\n",
              "      <td>News</td>\n",
              "      <td>1524594282</td>\n",
              "      <td>Christopher Rillo</td>\n",
              "      <td>46566740.0</td>\n",
              "      <td>San Francisco</td>\n",
              "      <td>NaN</td>\n",
              "      <td>NaN</td>\n",
              "      <td>781</td>\n",
              "      <td>By JOHN BRANCH</td>\n",
              "      <td>article</td>\n",
              "      <td>Former N.F.L. Cheerleaders’ Settlement Offer: ...</td>\n",
              "      <td>['Workplace Hazards and Violations', 'Football...</td>\n",
              "      <td>68</td>\n",
              "      <td>Sports</td>\n",
              "      <td>0</td>\n",
              "      <td>2018-04-24 17:16:49</td>\n",
              "      <td>Pro Football</td>\n",
              "      <td>“I understand that they could meet with us, pa...</td>\n",
              "      <td>The New York Times</td>\n",
              "      <td>News</td>\n",
              "      <td>https://www.nytimes.com/2018/04/24/sports/foot...</td>\n",
              "    </tr>\n",
              "    <tr>\n",
              "      <th>1</th>\n",
              "      <td>1524594252</td>\n",
              "      <td>5adf6684068401528a2aa69b</td>\n",
              "      <td>781.0</td>\n",
              "      <td>So then the execs can be like \"yeah...we will ...</td>\n",
              "      <td>26853699.0</td>\n",
              "      <td>26853699.0</td>\n",
              "      <td>&lt;br/&gt;</td>\n",
              "      <td>comment</td>\n",
              "      <td>1524593146</td>\n",
              "      <td>1.0</td>\n",
              "      <td>False</td>\n",
              "      <td>0.0</td>\n",
              "      <td>Sports</td>\n",
              "      <td>0.0</td>\n",
              "      <td>NaN</td>\n",
              "      <td>26853699</td>\n",
              "      <td>http://graphics8.nytimes.com/images/apps/times...</td>\n",
              "      <td>0.0</td>\n",
              "      <td>0</td>\n",
              "      <td>NaN</td>\n",
              "      <td>0</td>\n",
              "      <td>NaN</td>\n",
              "      <td>Pro Football</td>\n",
              "      <td>0</td>\n",
              "      <td>approved</td>\n",
              "      <td>1</td>\n",
              "      <td>0</td>\n",
              "      <td>News</td>\n",
              "      <td>1524594252</td>\n",
              "      <td>Matt Brand</td>\n",
              "      <td>64324866.0</td>\n",
              "      <td>Williamsburg, Brooklyn</td>\n",
              "      <td>NaN</td>\n",
              "      <td>NaN</td>\n",
              "      <td>781</td>\n",
              "      <td>By JOHN BRANCH</td>\n",
              "      <td>article</td>\n",
              "      <td>Former N.F.L. Cheerleaders’ Settlement Offer: ...</td>\n",
              "      <td>['Workplace Hazards and Violations', 'Football...</td>\n",
              "      <td>68</td>\n",
              "      <td>Sports</td>\n",
              "      <td>0</td>\n",
              "      <td>2018-04-24 17:16:49</td>\n",
              "      <td>Pro Football</td>\n",
              "      <td>“I understand that they could meet with us, pa...</td>\n",
              "      <td>The New York Times</td>\n",
              "      <td>News</td>\n",
              "      <td>https://www.nytimes.com/2018/04/24/sports/foot...</td>\n",
              "    </tr>\n",
              "    <tr>\n",
              "      <th>2</th>\n",
              "      <td>1524594250</td>\n",
              "      <td>5adf6684068401528a2aa69b</td>\n",
              "      <td>781.0</td>\n",
              "      <td>I would not want to play chess against these c...</td>\n",
              "      <td>26853677.0</td>\n",
              "      <td>26853677.0</td>\n",
              "      <td>&lt;br/&gt;</td>\n",
              "      <td>comment</td>\n",
              "      <td>1524593032</td>\n",
              "      <td>1.0</td>\n",
              "      <td>False</td>\n",
              "      <td>0.0</td>\n",
              "      <td>Sports</td>\n",
              "      <td>0.0</td>\n",
              "      <td>NaN</td>\n",
              "      <td>26853677</td>\n",
              "      <td>http://graphics8.nytimes.com/images/apps/times...</td>\n",
              "      <td>0.0</td>\n",
              "      <td>0</td>\n",
              "      <td>NaN</td>\n",
              "      <td>0</td>\n",
              "      <td>NaN</td>\n",
              "      <td>Pro Football</td>\n",
              "      <td>0</td>\n",
              "      <td>approved</td>\n",
              "      <td>1</td>\n",
              "      <td>0</td>\n",
              "      <td>News</td>\n",
              "      <td>1524594250</td>\n",
              "      <td>Joseph</td>\n",
              "      <td>78105093.0</td>\n",
              "      <td>Fayetteville, AR</td>\n",
              "      <td>NaN</td>\n",
              "      <td>NaN</td>\n",
              "      <td>781</td>\n",
              "      <td>By JOHN BRANCH</td>\n",
              "      <td>article</td>\n",
              "      <td>Former N.F.L. Cheerleaders’ Settlement Offer: ...</td>\n",
              "      <td>['Workplace Hazards and Violations', 'Football...</td>\n",
              "      <td>68</td>\n",
              "      <td>Sports</td>\n",
              "      <td>0</td>\n",
              "      <td>2018-04-24 17:16:49</td>\n",
              "      <td>Pro Football</td>\n",
              "      <td>“I understand that they could meet with us, pa...</td>\n",
              "      <td>The New York Times</td>\n",
              "      <td>News</td>\n",
              "      <td>https://www.nytimes.com/2018/04/24/sports/foot...</td>\n",
              "    </tr>\n",
              "    <tr>\n",
              "      <th>3</th>\n",
              "      <td>1524593431</td>\n",
              "      <td>5adf6684068401528a2aa69b</td>\n",
              "      <td>781.0</td>\n",
              "      <td>Could the cheerleaders join the Actors' Equity...</td>\n",
              "      <td>26853784.0</td>\n",
              "      <td>26853784.0</td>\n",
              "      <td>&lt;br/&gt;</td>\n",
              "      <td>comment</td>\n",
              "      <td>1524593426</td>\n",
              "      <td>1.0</td>\n",
              "      <td>False</td>\n",
              "      <td>0.0</td>\n",
              "      <td>Sports</td>\n",
              "      <td>0.0</td>\n",
              "      <td>NaN</td>\n",
              "      <td>26853784</td>\n",
              "      <td>http://graphics8.nytimes.com/images/apps/times...</td>\n",
              "      <td>0.0</td>\n",
              "      <td>3</td>\n",
              "      <td>NaN</td>\n",
              "      <td>0</td>\n",
              "      <td>NaN</td>\n",
              "      <td>Pro Football</td>\n",
              "      <td>0</td>\n",
              "      <td>approved</td>\n",
              "      <td>0</td>\n",
              "      <td>0</td>\n",
              "      <td>News</td>\n",
              "      <td>1524593431</td>\n",
              "      <td>Stephen</td>\n",
              "      <td>81939618.0</td>\n",
              "      <td>Phoenix, AZ</td>\n",
              "      <td>NaN</td>\n",
              "      <td>NaN</td>\n",
              "      <td>781</td>\n",
              "      <td>By JOHN BRANCH</td>\n",
              "      <td>article</td>\n",
              "      <td>Former N.F.L. Cheerleaders’ Settlement Offer: ...</td>\n",
              "      <td>['Workplace Hazards and Violations', 'Football...</td>\n",
              "      <td>68</td>\n",
              "      <td>Sports</td>\n",
              "      <td>0</td>\n",
              "      <td>2018-04-24 17:16:49</td>\n",
              "      <td>Pro Football</td>\n",
              "      <td>“I understand that they could meet with us, pa...</td>\n",
              "      <td>The New York Times</td>\n",
              "      <td>News</td>\n",
              "      <td>https://www.nytimes.com/2018/04/24/sports/foot...</td>\n",
              "    </tr>\n",
              "    <tr>\n",
              "      <th>4</th>\n",
              "      <td>1524684840</td>\n",
              "      <td>5adf6684068401528a2aa69b</td>\n",
              "      <td>781.0</td>\n",
              "      <td>We all know that if the cheerleaders were all ...</td>\n",
              "      <td>26864805.0</td>\n",
              "      <td>26864805.0</td>\n",
              "      <td>&lt;br/&gt;</td>\n",
              "      <td>comment</td>\n",
              "      <td>1524668120</td>\n",
              "      <td>1.0</td>\n",
              "      <td>False</td>\n",
              "      <td>0.0</td>\n",
              "      <td>Sports</td>\n",
              "      <td>0.0</td>\n",
              "      <td>NaN</td>\n",
              "      <td>26864805</td>\n",
              "      <td>http://graphics8.nytimes.com/images/apps/times...</td>\n",
              "      <td>9.0</td>\n",
              "      <td>2</td>\n",
              "      <td>NaN</td>\n",
              "      <td>0</td>\n",
              "      <td>NaN</td>\n",
              "      <td>Pro Football</td>\n",
              "      <td>0</td>\n",
              "      <td>approved</td>\n",
              "      <td>1</td>\n",
              "      <td>0</td>\n",
              "      <td>News</td>\n",
              "      <td>1524684840</td>\n",
              "      <td>Greg</td>\n",
              "      <td>37201321.0</td>\n",
              "      <td>Seattle</td>\n",
              "      <td>NaN</td>\n",
              "      <td>NaN</td>\n",
              "      <td>781</td>\n",
              "      <td>By JOHN BRANCH</td>\n",
              "      <td>article</td>\n",
              "      <td>Former N.F.L. Cheerleaders’ Settlement Offer: ...</td>\n",
              "      <td>['Workplace Hazards and Violations', 'Football...</td>\n",
              "      <td>68</td>\n",
              "      <td>Sports</td>\n",
              "      <td>0</td>\n",
              "      <td>2018-04-24 17:16:49</td>\n",
              "      <td>Pro Football</td>\n",
              "      <td>“I understand that they could meet with us, pa...</td>\n",
              "      <td>The New York Times</td>\n",
              "      <td>News</td>\n",
              "      <td>https://www.nytimes.com/2018/04/24/sports/foot...</td>\n",
              "    </tr>\n",
              "  </tbody>\n",
              "</table>\n",
              "</div>"
            ],
            "text/plain": [
              "   approveDate  ...                                             webURL\n",
              "0   1524594282  ...  https://www.nytimes.com/2018/04/24/sports/foot...\n",
              "1   1524594252  ...  https://www.nytimes.com/2018/04/24/sports/foot...\n",
              "2   1524594250  ...  https://www.nytimes.com/2018/04/24/sports/foot...\n",
              "3   1524593431  ...  https://www.nytimes.com/2018/04/24/sports/foot...\n",
              "4   1524684840  ...  https://www.nytimes.com/2018/04/24/sports/foot...\n",
              "\n",
              "[5 rows x 48 columns]"
            ]
          },
          "metadata": {}
        },
        {
          "output_type": "display_data",
          "data": {
            "text/plain": [
              "Index(['approveDate', 'articleID', 'articleWordCount_x', 'commentBody',\n",
              "       'commentID', 'commentSequence', 'commentTitle', 'commentType',\n",
              "       'createDate', 'depth', 'editorsSelection', 'inReplyTo', 'newDesk_x',\n",
              "       'parentID', 'parentUserDisplayName', 'permID', 'picURL', 'printPage_x',\n",
              "       'recommendations', 'recommendedFlag', 'replyCount', 'reportAbuseFlag',\n",
              "       'sectionName_x', 'sharing', 'status', 'timespeople', 'trusted',\n",
              "       'typeOfMaterial_x', 'updateDate', 'userDisplayName', 'userID',\n",
              "       'userLocation', 'userTitle', 'userURL', 'articleWordCount_y', 'byline',\n",
              "       'documentType', 'headline', 'keywords', 'multimedia', 'newDesk_y',\n",
              "       'printPage_y', 'pubDate', 'sectionName_y', 'snippet', 'source',\n",
              "       'typeOfMaterial_y', 'webURL'],\n",
              "      dtype='object')"
            ]
          },
          "metadata": {}
        }
      ]
    },
    {
      "cell_type": "markdown",
      "metadata": {
        "id": "ti5NrDuWHnN6"
      },
      "source": [
        "Before I start the Exploratory Data Analysis (EDA), I want to eliminate some of the columns that are duplicates, or contain information that I know won't be helpful (such as URLs). Some of these columns I'm still unsure about. "
      ]
    },
    {
      "cell_type": "code",
      "metadata": {
        "id": "T2lT5xMjHnN7"
      },
      "source": [
        "def reverse_drop(df, keep_list):\n",
        "    '''pass in a dataframe and a list of the columns to keep. Will ID all columns NOT in list\n",
        "    and drop them, returning the resulting dataframe'''\n",
        "    \n",
        "    \n",
        "    to_drop = [item for item in list(df.columns) if item not in keep_list]\n",
        "\n",
        "    # if print_detail:\n",
        "    #     print(to_drop)\n",
        "\n",
        "    return df.drop(columns=to_drop)\n"
      ],
      "execution_count": 37,
      "outputs": []
    },
    {
      "cell_type": "code",
      "metadata": {
        "colab": {
          "base_uri": "https://localhost:8080/",
          "height": 537
        },
        "id": "GZk6ZBMTHnN8",
        "outputId": "b2edcf67-7692-45c0-e29d-8d0f10ba28ac"
      },
      "source": [
        "#columns to keep\n",
        "keep = ['commentBody', 'commentID', 'commentType', \n",
        "        'editorsSelection','recommendations', 'replyCount', 'articleID',\n",
        "        'timespeople', 'trusted','sectionName_x', 'depth',\n",
        "        'newDesk_x', 'articleWordCount_x', 'typeOfMaterial_x' , 'pubDate',\n",
        "        'documentType', 'headline']\n",
        "\n",
        "df = reverse_drop(df, keep)\n",
        "\n",
        "if print_detail:\n",
        "    display(df.columns)\n",
        "    display(df.info())"
      ],
      "execution_count": 38,
      "outputs": [
        {
          "output_type": "display_data",
          "data": {
            "text/plain": [
              "Index(['articleID', 'articleWordCount_x', 'commentBody', 'commentID',\n",
              "       'commentType', 'depth', 'editorsSelection', 'newDesk_x',\n",
              "       'recommendations', 'replyCount', 'sectionName_x', 'timespeople',\n",
              "       'trusted', 'typeOfMaterial_x', 'documentType', 'headline', 'pubDate'],\n",
              "      dtype='object')"
            ]
          },
          "metadata": {}
        },
        {
          "output_type": "stream",
          "name": "stdout",
          "text": [
            "<class 'pandas.core.frame.DataFrame'>\n",
            "Int64Index: 257661 entries, 0 to 257660\n",
            "Data columns (total 17 columns):\n",
            " #   Column              Non-Null Count   Dtype  \n",
            "---  ------              --------------   -----  \n",
            " 0   articleID           257661 non-null  object \n",
            " 1   articleWordCount_x  257661 non-null  float64\n",
            " 2   commentBody         257661 non-null  object \n",
            " 3   commentID           257661 non-null  float64\n",
            " 4   commentType         257661 non-null  object \n",
            " 5   depth               257661 non-null  float64\n",
            " 6   editorsSelection    257661 non-null  bool   \n",
            " 7   newDesk_x           257661 non-null  object \n",
            " 8   recommendations     257661 non-null  int64  \n",
            " 9   replyCount          257661 non-null  int64  \n",
            " 10  sectionName_x       257661 non-null  object \n",
            " 11  timespeople         257661 non-null  int64  \n",
            " 12  trusted             257661 non-null  int64  \n",
            " 13  typeOfMaterial_x    257661 non-null  object \n",
            " 14  documentType        257661 non-null  object \n",
            " 15  headline            257661 non-null  object \n",
            " 16  pubDate             257661 non-null  object \n",
            "dtypes: bool(1), float64(3), int64(4), object(9)\n",
            "memory usage: 33.7+ MB\n"
          ]
        },
        {
          "output_type": "display_data",
          "data": {
            "text/plain": [
              "None"
            ]
          },
          "metadata": {}
        }
      ]
    },
    {
      "cell_type": "markdown",
      "metadata": {
        "id": "-UvZjbplHnN9"
      },
      "source": [
        "## EDA part 1"
      ]
    },
    {
      "cell_type": "markdown",
      "metadata": {
        "id": "i7qcUCBRHnN9"
      },
      "source": [
        "### Initial Article Analysis/Feature Engineering"
      ]
    },
    {
      "cell_type": "code",
      "metadata": {
        "id": "a-XDZH22HnN-"
      },
      "source": [
        "def quick_look(frame, col, range = None, bins = 10):\n",
        "    '''displays the name, describe(), and histogram for the\n",
        "        specified column'''\n",
        "    print(col + ' description: ')\n",
        "    display(frame[col].describe())\n",
        "    display(frame[col].value_counts())\n",
        "    \n",
        "    if frame[col].nunique == 2:\n",
        "        print('Boolean variable; no histogram created')\n",
        "    \n",
        "    else:\n",
        "    \n",
        "        plt.hist(frame[col],\n",
        "                      range = range,\n",
        "                      bins = bins)\n",
        "\n",
        "        plt.title(col + ' Histogram')\n",
        "        plt.show()"
      ],
      "execution_count": 39,
      "outputs": []
    },
    {
      "cell_type": "markdown",
      "metadata": {
        "id": "tGW6PL8NHnN-"
      },
      "source": [
        "how many articles"
      ]
    },
    {
      "cell_type": "code",
      "metadata": {
        "colab": {
          "base_uri": "https://localhost:8080/",
          "height": 0
        },
        "id": "JGEve7r2HnN-",
        "outputId": "5b193f19-c141-40ae-bf7a-b76cfc1d9603"
      },
      "source": [
        "print('Number of Articles: ')\n",
        "print(df['articleID'].nunique())"
      ],
      "execution_count": 40,
      "outputs": [
        {
          "output_type": "stream",
          "name": "stdout",
          "text": [
            "Number of Articles: \n",
            "1324\n"
          ]
        }
      ]
    },
    {
      "cell_type": "markdown",
      "metadata": {
        "id": "EXS4Jl5THnN_"
      },
      "source": [
        "There are several variables (sectionName, newDesk, typeOfMaterial) that could be used for sorting the data, so I wanted to take a look at each of them to see which one is most helpful. After reviewing the three types of sections, it looks like newDesk_x contains the most useful categorization of articles into sections in that it's general enough to contain a significant number of articles, yet specific enough to create meaningful distinctions."
      ]
    },
    {
      "cell_type": "code",
      "metadata": {
        "colab": {
          "base_uri": "https://localhost:8080/",
          "height": 381
        },
        "id": "noq5c6eqHnN_",
        "outputId": "0b51cb42-a5d6-4079-b7a8-bc70406cdcc3"
      },
      "source": [
        "# the saddest little helper function\n",
        "def print_categories(column):\n",
        "    '''the function will print the name of a given column as well as all of the categories in that column'''\n",
        "    print(column)\n",
        "    display(df[column].unique())\n",
        "\n",
        "#create a list of potential section variables\n",
        "potential_ys = ['sectionName_x', 'newDesk_x', 'typeOfMaterial_x']\n",
        "\n",
        "# print categories for each of the potential section variables\n",
        "for each in potential_ys:\n",
        "    print_categories(each)"
      ],
      "execution_count": 41,
      "outputs": [
        {
          "output_type": "stream",
          "name": "stdout",
          "text": [
            "sectionName_x\n"
          ]
        },
        {
          "output_type": "display_data",
          "data": {
            "text/plain": [
              "array(['Pro Football', 'Unknown', 'Europe', 'Canada', 'Politics',\n",
              "       'Book Review', 'Eat', 'DealBook', 'Asia Pacific',\n",
              "       'Wine, Beer & Cocktails', 'Family', 'Hockey', 'Africa',\n",
              "       'Television', 'Economy', 'Middle East', 'Tennis', 'Sunday Review',\n",
              "       'Live', 'The Daily', 'Move', 'Cycling', 'Americas', 'Australia',\n",
              "       'Weddings', 'Art & Design', 'Lesson Plans', 'Personal Tech',\n",
              "       'Music', 'Mind', 'Pro Basketball', 'Learning', 'Media', 'Golf',\n",
              "       'College Basketball', 'Soccer'], dtype=object)"
            ]
          },
          "metadata": {}
        },
        {
          "output_type": "stream",
          "name": "stdout",
          "text": [
            "newDesk_x\n"
          ]
        },
        {
          "output_type": "display_data",
          "data": {
            "text/plain": [
              "array(['Sports', 'Climate', 'Dining', 'Washington', 'Foreign', 'NYTNow',\n",
              "       'Express', 'Insider', 'Learning', 'Magazine', 'Metro',\n",
              "       'RealEstate', 'Business', 'Politics', 'National',\n",
              "       'SpecialSections', 'BookReview', 'Well', 'Games', 'Culture',\n",
              "       'Editorial', 'OpEd', 'Arts&Leisure', 'Science', 'Travel', 'Upshot',\n",
              "       'Metropolitan', 'Investigative', 'NewsDesk', 'Weekend',\n",
              "       'SundayBusiness', 'Styles', 'Photo', 'Society', 'Obits',\n",
              "       'Smarter Living', 'Podcasts', 'TStyle', 'Summary'], dtype=object)"
            ]
          },
          "metadata": {}
        },
        {
          "output_type": "stream",
          "name": "stdout",
          "text": [
            "typeOfMaterial_x\n"
          ]
        },
        {
          "output_type": "display_data",
          "data": {
            "text/plain": [
              "array(['News', 'briefing', 'Review', 'Editorial', 'Op-Ed',\n",
              "       'News Analysis', 'Question', 'Obituary (Obit)'], dtype=object)"
            ]
          },
          "metadata": {}
        }
      ]
    },
    {
      "cell_type": "code",
      "metadata": {
        "colab": {
          "base_uri": "https://localhost:8080/",
          "height": 1439
        },
        "id": "SRVpvRcZHnOA",
        "outputId": "c6fe4d37-fda2-412c-99b9-8feced8d122f"
      },
      "source": [
        "df.drop(['typeOfMaterial_x', 'sectionName_x'], axis=1, inplace=True)\n",
        "\n",
        "#group the data by section and save\n",
        "df_sections = df.groupby(by='newDesk_x').count()\n",
        "\n",
        "display(df_sections['articleID'])\n",
        "\n",
        "#count comments per section\n",
        "df_sections['commentBody'].sort_values(ascending=False)"
      ],
      "execution_count": 42,
      "outputs": [
        {
          "output_type": "display_data",
          "data": {
            "text/plain": [
              "newDesk_x\n",
              "Arts&Leisure         497\n",
              "BookReview          1036\n",
              "Business           20697\n",
              "Climate             3885\n",
              "Culture             4803\n",
              "Dining              1705\n",
              "Editorial          10774\n",
              "Express             2595\n",
              "Foreign            14655\n",
              "Games               3875\n",
              "Insider              266\n",
              "Investigative       4785\n",
              "Learning            3436\n",
              "Magazine            5552\n",
              "Metro               5128\n",
              "Metropolitan        1068\n",
              "NYTNow                36\n",
              "National           12293\n",
              "NewsDesk            1429\n",
              "Obits                826\n",
              "OpEd               80574\n",
              "Photo                124\n",
              "Podcasts              14\n",
              "Politics            7582\n",
              "RealEstate          1580\n",
              "Science             3517\n",
              "Smarter Living        55\n",
              "Society               99\n",
              "SpecialSections      125\n",
              "Sports              3240\n",
              "Styles               631\n",
              "Summary                6\n",
              "SundayBusiness       422\n",
              "TStyle                10\n",
              "Travel               512\n",
              "Upshot              1659\n",
              "Washington         51576\n",
              "Weekend              468\n",
              "Well                6126\n",
              "Name: articleID, dtype: int64"
            ]
          },
          "metadata": {}
        },
        {
          "output_type": "execute_result",
          "data": {
            "text/plain": [
              "newDesk_x\n",
              "OpEd               80574\n",
              "Washington         51576\n",
              "Business           20697\n",
              "Foreign            14655\n",
              "National           12293\n",
              "Editorial          10774\n",
              "Politics            7582\n",
              "Well                6126\n",
              "Magazine            5552\n",
              "Metro               5128\n",
              "Culture             4803\n",
              "Investigative       4785\n",
              "Climate             3885\n",
              "Games               3875\n",
              "Science             3517\n",
              "Learning            3436\n",
              "Sports              3240\n",
              "Express             2595\n",
              "Dining              1705\n",
              "Upshot              1659\n",
              "RealEstate          1580\n",
              "NewsDesk            1429\n",
              "Metropolitan        1068\n",
              "BookReview          1036\n",
              "Obits                826\n",
              "Styles               631\n",
              "Travel               512\n",
              "Arts&Leisure         497\n",
              "Weekend              468\n",
              "SundayBusiness       422\n",
              "Insider              266\n",
              "SpecialSections      125\n",
              "Photo                124\n",
              "Society               99\n",
              "Smarter Living        55\n",
              "NYTNow                36\n",
              "Podcasts              14\n",
              "TStyle                10\n",
              "Summary                6\n",
              "Name: commentBody, dtype: int64"
            ]
          },
          "metadata": {},
          "execution_count": 42
        }
      ]
    },
    {
      "cell_type": "markdown",
      "metadata": {
        "id": "3VqVLGXx6VWP"
      },
      "source": [
        "Next, I wanted a sense of how many comments, on average, I could expect for each article. "
      ]
    },
    {
      "cell_type": "markdown",
      "metadata": {
        "id": "7WUGPxChHnOA"
      },
      "source": [
        "how many comments/article"
      ]
    },
    {
      "cell_type": "code",
      "metadata": {
        "colab": {
          "base_uri": "https://localhost:8080/",
          "height": 681
        },
        "id": "cA7_p8dUHnOA",
        "outputId": "64361983-cb0c-4928-f596-c7b63e3c6bdd"
      },
      "source": [
        "#since each row represents a comment, group by article and save\n",
        "article_group = df.groupby(by='articleID').count()\n",
        "\n",
        "quick_look(article_group, 'commentID', (0,3000), 20)"
      ],
      "execution_count": 43,
      "outputs": [
        {
          "output_type": "stream",
          "name": "stdout",
          "text": [
            "commentID description: \n"
          ]
        },
        {
          "output_type": "display_data",
          "data": {
            "text/plain": [
              "count    1324.000000\n",
              "mean      194.608006\n",
              "std       327.383266\n",
              "min         1.000000\n",
              "25%        16.000000\n",
              "50%        67.000000\n",
              "75%       215.000000\n",
              "max      3823.000000\n",
              "Name: commentID, dtype: float64"
            ]
          },
          "metadata": {}
        },
        {
          "output_type": "display_data",
          "data": {
            "text/plain": [
              "1       41\n",
              "4       31\n",
              "5       29\n",
              "3       28\n",
              "2       26\n",
              "        ..\n",
              "2245     1\n",
              "196      1\n",
              "483      1\n",
              "486      1\n",
              "2296     1\n",
              "Name: commentID, Length: 467, dtype: int64"
            ]
          },
          "metadata": {}
        },
        {
          "output_type": "display_data",
          "data": {
            "image/png": "[encoded data removed]",
            "text/plain": [
              "<Figure size 432x288 with 1 Axes>"
            ]
          },
          "metadata": {
            "needs_background": "light"
          }
        }
      ]
    },
    {
      "cell_type": "markdown",
      "metadata": {
        "id": "iRqeXmIVHnOB"
      },
      "source": [
        "In understanding what metrics make articles successful, I want to look at how many total comments a given article has. Although each row represents a comment"
      ]
    },
    {
      "cell_type": "code",
      "metadata": {
        "id": "zYq0t3qvHnOB"
      },
      "source": [
        "#save the total number of comments for the given article\n",
        "df['article_comment_total'] = df['articleID'].apply(lambda x: article_group['commentID'][x])"
      ],
      "execution_count": 44,
      "outputs": []
    },
    {
      "cell_type": "code",
      "metadata": {
        "colab": {
          "base_uri": "https://localhost:8080/",
          "height": 0
        },
        "id": "cn90bScDHnOB",
        "outputId": "3428fb2b-0d55-4284-ae00-b365db696f66"
      },
      "source": [
        "#group data by articles, aggregated by mean\n",
        "article_sections = df.groupby(['newDesk_x']).mean()\n",
        "\n",
        "#find out how many comments on average per section\n",
        "article_sections['article_comment_total']\n",
        "\n",
        "#quick_look(article_sections, 'commentID', (0,3000), 20)"
      ],
      "execution_count": 45,
      "outputs": [
        {
          "output_type": "execute_result",
          "data": {
            "text/plain": [
              "newDesk_x\n",
              "Arts&Leisure         45.241449\n",
              "BookReview          567.117761\n",
              "Business            942.381843\n",
              "Climate             659.906564\n",
              "Culture             447.141578\n",
              "Dining              173.668622\n",
              "Editorial           721.511045\n",
              "Express             727.716763\n",
              "Foreign             376.855067\n",
              "Games               115.269935\n",
              "Insider              94.669173\n",
              "Investigative       764.772205\n",
              "Learning            442.745052\n",
              "Magazine            512.066643\n",
              "Metro               278.060062\n",
              "Metropolitan        203.882022\n",
              "NYTNow               16.055556\n",
              "National            430.648418\n",
              "NewsDesk           1014.400980\n",
              "Obits               421.820823\n",
              "OpEd                692.985281\n",
              "Photo                13.967742\n",
              "Podcasts              2.142857\n",
              "Politics            950.525719\n",
              "RealEstate           79.224051\n",
              "Science             411.371908\n",
              "Smarter Living       53.036364\n",
              "Society              99.000000\n",
              "SpecialSections     119.144000\n",
              "Sports              420.493827\n",
              "Styles              239.896989\n",
              "Summary               6.000000\n",
              "SundayBusiness       91.165877\n",
              "TStyle                5.200000\n",
              "Travel               73.675781\n",
              "Upshot              146.240506\n",
              "Washington         1286.045952\n",
              "Weekend              46.423077\n",
              "Well                257.094025\n",
              "Name: article_comment_total, dtype: float64"
            ]
          },
          "metadata": {},
          "execution_count": 45
        }
      ]
    },
    {
      "cell_type": "code",
      "metadata": {
        "id": "NVxz-EdIuFou"
      },
      "source": [
        "#drop by section\n",
        "\n",
        "# top_sections = ['OpEd', \n",
        "#                 'Business', \n",
        "#                 'NewsDesk', \n",
        "#                 'Washington', \n",
        "#                 'Foreign', \n",
        "#                 'National', \n",
        "#                 'Editorial']\n",
        "\n",
        "# sections_to_drop = [item for item in list(df['newDesk_x'].unique()) if item not in top_sections]\n",
        "\n",
        "# display(len(list(df['newDesk_x'].unique())))\n",
        "# display(len(top_sections))\n",
        "# display(len(sections_to_drop))\n"
      ],
      "execution_count": 46,
      "outputs": []
    },
    {
      "cell_type": "code",
      "metadata": {
        "colab": {
          "base_uri": "https://localhost:8080/",
          "height": 35
        },
        "id": "zgGNhjhw8viK",
        "outputId": "ccdfd324-8630-4215-d439-37d8c4fd607e"
      },
      "source": [
        "#update the publication date to a datetime object\n",
        "df['pubDate'] = pd.to_datetime(df['pubDate'])\n",
        "\n",
        "#divide data in half by date, taking the articles that were published in the first half of the month\n",
        "df = df.loc[df['pubDate'] < '2018-4-15']\n",
        "\n",
        "if print_detail:\n",
        "  display(df.shape)"
      ],
      "execution_count": 47,
      "outputs": [
        {
          "output_type": "display_data",
          "data": {
            "text/plain": [
              "(123692, 16)"
            ]
          },
          "metadata": {}
        }
      ]
    },
    {
      "cell_type": "markdown",
      "metadata": {
        "id": "Q72pfjQkHnOB"
      },
      "source": [
        "comment length"
      ]
    },
    {
      "cell_type": "code",
      "metadata": {
        "colab": {
          "base_uri": "https://localhost:8080/",
          "height": 0
        },
        "id": "o7Hlh8xhO8VZ",
        "outputId": "818104d4-db71-4185-e2b4-6fb68434a519"
      },
      "source": [
        "df.columns"
      ],
      "execution_count": 48,
      "outputs": [
        {
          "output_type": "execute_result",
          "data": {
            "text/plain": [
              "Index(['articleID', 'articleWordCount_x', 'commentBody', 'commentID',\n",
              "       'commentType', 'depth', 'editorsSelection', 'newDesk_x',\n",
              "       'recommendations', 'replyCount', 'timespeople', 'trusted',\n",
              "       'documentType', 'headline', 'pubDate', 'article_comment_total'],\n",
              "      dtype='object')"
            ]
          },
          "metadata": {},
          "execution_count": 48
        }
      ]
    },
    {
      "cell_type": "code",
      "metadata": {
        "id": "xOVWy-wTObs9"
      },
      "source": [
        "df['comment_length'] = df['commentBody'].apply(lambda x: len(x.split()))"
      ],
      "execution_count": 49,
      "outputs": []
    },
    {
      "cell_type": "code",
      "metadata": {
        "colab": {
          "base_uri": "https://localhost:8080/",
          "height": 475
        },
        "id": "6CwDiVseHnOC",
        "outputId": "17c7e0ec-2feb-4ef5-a6c7-fb2315d2c6cd"
      },
      "source": [
        "article_group_sum = df.groupby(by='articleID').sum()\n",
        "article_group_sum"
      ],
      "execution_count": 50,
      "outputs": [
        {
          "output_type": "execute_result",
          "data": {
            "text/html": [
              "<div>\n",
              "<style scoped>\n",
              "    .dataframe tbody tr th:only-of-type {\n",
              "        vertical-align: middle;\n",
              "    }\n",
              "\n",
              "    .dataframe tbody tr th {\n",
              "        vertical-align: top;\n",
              "    }\n",
              "\n",
              "    .dataframe thead th {\n",
              "        text-align: right;\n",
              "    }\n",
              "</style>\n",
              "<table border=\"1\" class=\"dataframe\">\n",
              "  <thead>\n",
              "    <tr style=\"text-align: right;\">\n",
              "      <th></th>\n",
              "      <th>articleWordCount_x</th>\n",
              "      <th>commentID</th>\n",
              "      <th>depth</th>\n",
              "      <th>editorsSelection</th>\n",
              "      <th>recommendations</th>\n",
              "      <th>replyCount</th>\n",
              "      <th>timespeople</th>\n",
              "      <th>trusted</th>\n",
              "      <th>article_comment_total</th>\n",
              "      <th>comment_length</th>\n",
              "    </tr>\n",
              "    <tr>\n",
              "      <th>articleID</th>\n",
              "      <th></th>\n",
              "      <th></th>\n",
              "      <th></th>\n",
              "      <th></th>\n",
              "      <th></th>\n",
              "      <th></th>\n",
              "      <th></th>\n",
              "      <th></th>\n",
              "      <th></th>\n",
              "      <th></th>\n",
              "    </tr>\n",
              "  </thead>\n",
              "  <tbody>\n",
              "    <tr>\n",
              "      <th>5abcf77c068401528a29efbe</th>\n",
              "      <td>4554.0</td>\n",
              "      <td>1.593830e+08</td>\n",
              "      <td>7.0</td>\n",
              "      <td>0</td>\n",
              "      <td>6</td>\n",
              "      <td>1</td>\n",
              "      <td>5</td>\n",
              "      <td>0</td>\n",
              "      <td>36</td>\n",
              "      <td>451</td>\n",
              "    </tr>\n",
              "    <tr>\n",
              "      <th>5abcfffe068401528a29f021</th>\n",
              "      <td>3501.0</td>\n",
              "      <td>2.388898e+08</td>\n",
              "      <td>10.0</td>\n",
              "      <td>0</td>\n",
              "      <td>47</td>\n",
              "      <td>1</td>\n",
              "      <td>8</td>\n",
              "      <td>0</td>\n",
              "      <td>81</td>\n",
              "      <td>200</td>\n",
              "    </tr>\n",
              "    <tr>\n",
              "      <th>5abd03ab068401528a29f062</th>\n",
              "      <td>202095.0</td>\n",
              "      <td>3.582519e+09</td>\n",
              "      <td>199.0</td>\n",
              "      <td>1</td>\n",
              "      <td>1029</td>\n",
              "      <td>77</td>\n",
              "      <td>130</td>\n",
              "      <td>7</td>\n",
              "      <td>18225</td>\n",
              "      <td>7348</td>\n",
              "    </tr>\n",
              "    <tr>\n",
              "      <th>5abd080c068401528a29f099</th>\n",
              "      <td>108875.0</td>\n",
              "      <td>1.778602e+09</td>\n",
              "      <td>87.0</td>\n",
              "      <td>0</td>\n",
              "      <td>640</td>\n",
              "      <td>21</td>\n",
              "      <td>60</td>\n",
              "      <td>1</td>\n",
              "      <td>4489</td>\n",
              "      <td>6248</td>\n",
              "    </tr>\n",
              "    <tr>\n",
              "      <th>5abd0a47068401528a29f0b3</th>\n",
              "      <td>131355.0</td>\n",
              "      <td>2.786208e+09</td>\n",
              "      <td>143.0</td>\n",
              "      <td>0</td>\n",
              "      <td>969</td>\n",
              "      <td>39</td>\n",
              "      <td>101</td>\n",
              "      <td>4</td>\n",
              "      <td>11025</td>\n",
              "      <td>7365</td>\n",
              "    </tr>\n",
              "    <tr>\n",
              "      <th>...</th>\n",
              "      <td>...</td>\n",
              "      <td>...</td>\n",
              "      <td>...</td>\n",
              "      <td>...</td>\n",
              "      <td>...</td>\n",
              "      <td>...</td>\n",
              "      <td>...</td>\n",
              "      <td>...</td>\n",
              "      <td>...</td>\n",
              "      <td>...</td>\n",
              "    </tr>\n",
              "    <tr>\n",
              "      <th>5ad248af068401528a2a8b82</th>\n",
              "      <td>401246.0</td>\n",
              "      <td>1.173989e+10</td>\n",
              "      <td>585.0</td>\n",
              "      <td>7</td>\n",
              "      <td>9757</td>\n",
              "      <td>170</td>\n",
              "      <td>414</td>\n",
              "      <td>12</td>\n",
              "      <td>192721</td>\n",
              "      <td>33259</td>\n",
              "    </tr>\n",
              "    <tr>\n",
              "      <th>5ad248b3068401528a2a8b84</th>\n",
              "      <td>1275185.0</td>\n",
              "      <td>1.575088e+10</td>\n",
              "      <td>749.0</td>\n",
              "      <td>8</td>\n",
              "      <td>10716</td>\n",
              "      <td>172</td>\n",
              "      <td>552</td>\n",
              "      <td>15</td>\n",
              "      <td>346921</td>\n",
              "      <td>52291</td>\n",
              "    </tr>\n",
              "    <tr>\n",
              "      <th>5ad248b8068401528a2a8b85</th>\n",
              "      <td>130402.0</td>\n",
              "      <td>3.022206e+09</td>\n",
              "      <td>159.0</td>\n",
              "      <td>6</td>\n",
              "      <td>1674</td>\n",
              "      <td>62</td>\n",
              "      <td>103</td>\n",
              "      <td>6</td>\n",
              "      <td>12769</td>\n",
              "      <td>8995</td>\n",
              "    </tr>\n",
              "    <tr>\n",
              "      <th>5ad279e4068401528a2a8bbc</th>\n",
              "      <td>158184.0</td>\n",
              "      <td>3.129619e+09</td>\n",
              "      <td>180.0</td>\n",
              "      <td>0</td>\n",
              "      <td>282</td>\n",
              "      <td>97</td>\n",
              "      <td>102</td>\n",
              "      <td>28</td>\n",
              "      <td>13689</td>\n",
              "      <td>5440</td>\n",
              "    </tr>\n",
              "    <tr>\n",
              "      <th>5ad2b324068401528a2a8bea</th>\n",
              "      <td>173004.0</td>\n",
              "      <td>4.171681e+09</td>\n",
              "      <td>235.0</td>\n",
              "      <td>15</td>\n",
              "      <td>978</td>\n",
              "      <td>53</td>\n",
              "      <td>143</td>\n",
              "      <td>6</td>\n",
              "      <td>24336</td>\n",
              "      <td>13606</td>\n",
              "    </tr>\n",
              "  </tbody>\n",
              "</table>\n",
              "<p>676 rows × 10 columns</p>\n",
              "</div>"
            ],
            "text/plain": [
              "                          articleWordCount_x  ...  comment_length\n",
              "articleID                                     ...                \n",
              "5abcf77c068401528a29efbe              4554.0  ...             451\n",
              "5abcfffe068401528a29f021              3501.0  ...             200\n",
              "5abd03ab068401528a29f062            202095.0  ...            7348\n",
              "5abd080c068401528a29f099            108875.0  ...            6248\n",
              "5abd0a47068401528a29f0b3            131355.0  ...            7365\n",
              "...                                      ...  ...             ...\n",
              "5ad248af068401528a2a8b82            401246.0  ...           33259\n",
              "5ad248b3068401528a2a8b84           1275185.0  ...           52291\n",
              "5ad248b8068401528a2a8b85            130402.0  ...            8995\n",
              "5ad279e4068401528a2a8bbc            158184.0  ...            5440\n",
              "5ad2b324068401528a2a8bea            173004.0  ...           13606\n",
              "\n",
              "[676 rows x 10 columns]"
            ]
          },
          "metadata": {},
          "execution_count": 50
        }
      ]
    },
    {
      "cell_type": "markdown",
      "metadata": {
        "id": "3EXxia6JHnOC"
      },
      "source": [
        "replyCount: replies to that comment\n",
        "article_reply_total: total number of replies"
      ]
    },
    {
      "cell_type": "code",
      "metadata": {
        "id": "pCRopWwO-ZlX"
      },
      "source": [
        "#save the total number of comments for the given article\n",
        "df['article_reply_total'] = df['articleID'].apply(lambda x: article_group_sum['replyCount'][x])\n",
        "df['article_rec_total'] = df['articleID'].apply(lambda x: article_group_sum['recommendations'][x])"
      ],
      "execution_count": 51,
      "outputs": []
    },
    {
      "cell_type": "code",
      "metadata": {
        "id": "gUYx1RU2HnOD"
      },
      "source": [
        "def flag_highest_adjusted(new_col, continuous_col, group_col='articleID', quant_val = 0.9):\n",
        "    '''new_col = name of the column to be created\n",
        "        continuous_col = name of the column to be turned into a binary flag\n",
        "        group_call = (optional) name of the column to aggregate on, default is article\n",
        "        quant_val = percentile value to use as threshold for flagging variable'''\n",
        "    #create a list of all sections\n",
        "    sections = list(df['newDesk_x'].unique())\n",
        "\n",
        "    #create an empty dictionary\n",
        "    percentiles = {}\n",
        "\n",
        "    #populate with section names and the 90th percentile value of given parameter\n",
        "    for i in sections:\n",
        "        percentiles[i] = df.loc[df['newDesk_x'] == i].groupby(group_col).mean()[continuous_col].quantile(quant_val)\n",
        "\n",
        "    # function to label articles as highly commented if they fall in the 90th percentile of comments for their section\n",
        "    def flag_upper_percentile(section, value):\n",
        "        '''accepts a section title and total number of comments for a given article as parameters\n",
        "        uses the above dictionary to determine whether the given article's total comment count is\n",
        "        in the 90th percentile\n",
        "        if so, flags as true''' \n",
        "        if value > percentiles[section]:\n",
        "            return True\n",
        "        else:\n",
        "            return False\n",
        "    #create new column from flagged variable\n",
        "    df[new_col] = df.apply(lambda x: flag_upper_percentile(x['newDesk_x'], x[continuous_col]), axis=1)"
      ],
      "execution_count": 52,
      "outputs": []
    },
    {
      "cell_type": "code",
      "metadata": {
        "id": "_iE_rrGTHnOE"
      },
      "source": [
        "#at the article level, turn total comments, total recommendations, and total replies into boolean variables\n",
        "flag_highest_adjusted('highly_commented', 'article_comment_total')\n",
        "flag_highest_adjusted('high_total_recommendations', 'article_rec_total')\n",
        "flag_highest_adjusted('high_total_reply', 'article_reply_total')"
      ],
      "execution_count": 53,
      "outputs": []
    },
    {
      "cell_type": "code",
      "metadata": {
        "id": "6hdoUav1HnOC",
        "colab": {
          "base_uri": "https://localhost:8080/",
          "height": 0
        },
        "outputId": "fa91a436-5464-41b8-a2ea-665f3430f4a1"
      },
      "source": [
        "#add in the article reccomendation total and article reply total\n",
        "df['article_rec_total'] = df['articleID'].apply(lambda x: article_group_sum['recommendations'][x])\n",
        "df['article_reply_total'] = df['articleID'].apply(lambda x: article_group_sum['replyCount'][x])\n",
        "\n",
        "df['depth_total'] = df['articleID'].apply(lambda x: article_group_sum['depth'][x])\n",
        "df.info()"
      ],
      "execution_count": 54,
      "outputs": [
        {
          "output_type": "stream",
          "name": "stdout",
          "text": [
            "<class 'pandas.core.frame.DataFrame'>\n",
            "Int64Index: 123692 entries, 48395 to 203986\n",
            "Data columns (total 23 columns):\n",
            " #   Column                      Non-Null Count   Dtype         \n",
            "---  ------                      --------------   -----         \n",
            " 0   articleID                   123692 non-null  object        \n",
            " 1   articleWordCount_x          123692 non-null  float64       \n",
            " 2   commentBody                 123692 non-null  object        \n",
            " 3   commentID                   123692 non-null  float64       \n",
            " 4   commentType                 123692 non-null  object        \n",
            " 5   depth                       123692 non-null  float64       \n",
            " 6   editorsSelection            123692 non-null  bool          \n",
            " 7   newDesk_x                   123692 non-null  object        \n",
            " 8   recommendations             123692 non-null  int64         \n",
            " 9   replyCount                  123692 non-null  int64         \n",
            " 10  timespeople                 123692 non-null  int64         \n",
            " 11  trusted                     123692 non-null  int64         \n",
            " 12  documentType                123692 non-null  object        \n",
            " 13  headline                    123692 non-null  object        \n",
            " 14  pubDate                     123692 non-null  datetime64[ns]\n",
            " 15  article_comment_total       123692 non-null  int64         \n",
            " 16  comment_length              123692 non-null  int64         \n",
            " 17  article_reply_total         123692 non-null  int64         \n",
            " 18  article_rec_total           123692 non-null  int64         \n",
            " 19  highly_commented            123692 non-null  bool          \n",
            " 20  high_total_recommendations  123692 non-null  bool          \n",
            " 21  high_total_reply            123692 non-null  bool          \n",
            " 22  depth_total                 123692 non-null  float64       \n",
            "dtypes: bool(4), datetime64[ns](1), float64(4), int64(8), object(6)\n",
            "memory usage: 19.3+ MB\n"
          ]
        }
      ]
    },
    {
      "cell_type": "code",
      "metadata": {
        "id": "5SY-0v0FAvxa"
      },
      "source": [
        "df['depth_ratio'] = df.apply(lambda x: int(x['depth_total']) / x['article_comment_total'], axis=1)"
      ],
      "execution_count": 55,
      "outputs": []
    },
    {
      "cell_type": "code",
      "metadata": {
        "colab": {
          "base_uri": "https://localhost:8080/",
          "height": 339
        },
        "id": "U8nLscakLm79",
        "outputId": "50616d52-0a40-4b0d-e721-3a91b620fa54"
      },
      "source": [
        "import seaborn as sns\n",
        "sns.set_context('talk')\n",
        "ax = sns.scatterplot(data=df, x='comment_length', y='recommendations')\n",
        "ax.set(title ='Recommendations by comment length')\n",
        "ax.set(ylim = (0,4000))"
      ],
      "execution_count": 56,
      "outputs": [
        {
          "output_type": "execute_result",
          "data": {
            "text/plain": [
              "[(0.0, 4000.0)]"
            ]
          },
          "metadata": {},
          "execution_count": 56
        },
        {
          "output_type": "display_data",
          "data": {
            "image/png": "[encoded data removed]",
            "text/plain": [
              "<Figure size 432x288 with 1 Axes>"
            ]
          },
          "metadata": {
            "needs_background": "light"
          }
        }
      ]
    },
    {
      "cell_type": "markdown",
      "metadata": {
        "id": "dyQDoxPPHnOE"
      },
      "source": [
        "### High-Engagement Articles"
      ]
    },
    {
      "cell_type": "markdown",
      "metadata": {
        "id": "9oAgP_JXFgNH"
      },
      "source": [
        "list of visualizations:\n",
        "\n",
        "by section: articles that are highly rated, highly commented, and high total reply\n",
        "\n",
        "replace reply count w average depth"
      ]
    },
    {
      "cell_type": "markdown",
      "metadata": {
        "id": "WLegZbkUHnOF"
      },
      "source": [
        "### Comment Analysis"
      ]
    },
    {
      "cell_type": "markdown",
      "metadata": {
        "id": "5BGV3U7cbM77"
      },
      "source": [
        "In understanding what kind of comments generate the most engagement, I anticipate a wide range of variation in terms of how long comments are. I'm interested to understand how the length of a comment plays into how many replies or recommendations the comment gets. Here I engineer the commentLength feature, which measures the number of words in a given comment."
      ]
    },
    {
      "cell_type": "code",
      "metadata": {
        "colab": {
          "base_uri": "https://localhost:8080/",
          "height": 0
        },
        "id": "sKV5uLm6HnOF",
        "outputId": "7d52f03a-db19-41bd-f135-819ac5fd0340"
      },
      "source": [
        "#engineer comment length feature. \n",
        "df['commentLength'] = df['commentBody'].apply(lambda x: len(x.split()))\n",
        "\n",
        "if print_detail:\n",
        "    display(df[['commentLength', 'commentBody']])\n",
        "\n",
        "quick_look(df, 'commentLength', (0, 300), 20)"
      ],
      "execution_count": 57,
      "outputs": [
        {
          "output_type": "display_data",
          "data": {
            "text/html": [
              "<div>\n",
              "<style scoped>\n",
              "    .dataframe tbody tr th:only-of-type {\n",
              "        vertical-align: middle;\n",
              "    }\n",
              "\n",
              "    .dataframe tbody tr th {\n",
              "        vertical-align: top;\n",
              "    }\n",
              "\n",
              "    .dataframe thead th {\n",
              "        text-align: right;\n",
              "    }\n",
              "</style>\n",
              "<table border=\"1\" class=\"dataframe\">\n",
              "  <thead>\n",
              "    <tr style=\"text-align: right;\">\n",
              "      <th></th>\n",
              "      <th>commentLength</th>\n",
              "      <th>commentBody</th>\n",
              "    </tr>\n",
              "  </thead>\n",
              "  <tbody>\n",
              "    <tr>\n",
              "      <th>48395</th>\n",
              "      <td>10</td>\n",
              "      <td>Am I the only one who doesn’t get 29D? Help!</td>\n",
              "    </tr>\n",
              "    <tr>\n",
              "      <th>48396</th>\n",
              "      <td>26</td>\n",
              "      <td>Thought answer to 39 down — Proceed well enoug...</td>\n",
              "    </tr>\n",
              "    <tr>\n",
              "      <th>48397</th>\n",
              "      <td>20</td>\n",
              "      <td>Though the theme answers were quite easy, as w...</td>\n",
              "    </tr>\n",
              "    <tr>\n",
              "      <th>48398</th>\n",
              "      <td>52</td>\n",
              "      <td>The issue with 39D could have been completely ...</td>\n",
              "    </tr>\n",
              "    <tr>\n",
              "      <th>48399</th>\n",
              "      <td>36</td>\n",
              "      <td>Alex&lt;br/&gt;&lt;br/&gt;I really enjoyed this puzzle. &lt;b...</td>\n",
              "    </tr>\n",
              "    <tr>\n",
              "      <th>...</th>\n",
              "      <td>...</td>\n",
              "      <td>...</td>\n",
              "    </tr>\n",
              "    <tr>\n",
              "      <th>203982</th>\n",
              "      <td>4</td>\n",
              "      <td>One word: Wade Boggs</td>\n",
              "    </tr>\n",
              "    <tr>\n",
              "      <th>203983</th>\n",
              "      <td>66</td>\n",
              "      <td>I feel like I just lost my right to claim I'm ...</td>\n",
              "    </tr>\n",
              "    <tr>\n",
              "      <th>203984</th>\n",
              "      <td>241</td>\n",
              "      <td>It's not only steroids, it's the glitz and noi...</td>\n",
              "    </tr>\n",
              "    <tr>\n",
              "      <th>203985</th>\n",
              "      <td>41</td>\n",
              "      <td>Bill,&lt;br/&gt;&lt;br/&gt;I know. I grew up watching Wade...</td>\n",
              "    </tr>\n",
              "    <tr>\n",
              "      <th>203986</th>\n",
              "      <td>67</td>\n",
              "      <td>While I’m sure Barbaro wasn’t too put out by C...</td>\n",
              "    </tr>\n",
              "  </tbody>\n",
              "</table>\n",
              "<p>123692 rows × 2 columns</p>\n",
              "</div>"
            ],
            "text/plain": [
              "        commentLength                                        commentBody\n",
              "48395              10      Am I the only one who doesn’t get 29D? Help! \n",
              "48396              26  Thought answer to 39 down — Proceed well enoug...\n",
              "48397              20  Though the theme answers were quite easy, as w...\n",
              "48398              52  The issue with 39D could have been completely ...\n",
              "48399              36  Alex<br/><br/>I really enjoyed this puzzle. <b...\n",
              "...               ...                                                ...\n",
              "203982              4                               One word: Wade Boggs\n",
              "203983             66  I feel like I just lost my right to claim I'm ...\n",
              "203984            241  It's not only steroids, it's the glitz and noi...\n",
              "203985             41  Bill,<br/><br/>I know. I grew up watching Wade...\n",
              "203986             67  While I’m sure Barbaro wasn’t too put out by C...\n",
              "\n",
              "[123692 rows x 2 columns]"
            ]
          },
          "metadata": {}
        },
        {
          "output_type": "stream",
          "name": "stdout",
          "text": [
            "commentLength description: \n"
          ]
        },
        {
          "output_type": "display_data",
          "data": {
            "text/plain": [
              "count    123692.000000\n",
              "mean         66.098333\n",
              "std          59.213225\n",
              "min           1.000000\n",
              "25%          23.000000\n",
              "50%          47.000000\n",
              "75%          89.000000\n",
              "max         305.000000\n",
              "Name: commentLength, dtype: float64"
            ]
          },
          "metadata": {}
        },
        {
          "output_type": "display_data",
          "data": {
            "text/plain": [
              "14     1686\n",
              "13     1679\n",
              "15     1675\n",
              "20     1666\n",
              "16     1659\n",
              "       ... \n",
              "290       1\n",
              "296       1\n",
              "300       1\n",
              "303       1\n",
              "305       1\n",
              "Name: commentLength, Length: 297, dtype: int64"
            ]
          },
          "metadata": {}
        },
        {
          "output_type": "display_data",
          "data": {
            "image/png": "[encoded data removed]",
            "text/plain": [
              "<Figure size 432x288 with 1 Axes>"
            ]
          },
          "metadata": {
            "needs_background": "light"
          }
        }
      ]
    },
    {
      "cell_type": "code",
      "metadata": {
        "colab": {
          "base_uri": "https://localhost:8080/",
          "height": 0
        },
        "id": "CEn1qSwEHnOF",
        "outputId": "7e8c872c-ea8c-4dd1-eb1c-b6fc64d09e5e"
      },
      "source": [
        "quick_look(df, 'recommendations', (0, 100))"
      ],
      "execution_count": 58,
      "outputs": [
        {
          "output_type": "stream",
          "name": "stdout",
          "text": [
            "recommendations description: \n"
          ]
        },
        {
          "output_type": "display_data",
          "data": {
            "text/plain": [
              "count    123692.000000\n",
              "mean         19.421620\n",
              "std          99.624274\n",
              "min           0.000000\n",
              "25%           1.000000\n",
              "50%           4.000000\n",
              "75%          11.000000\n",
              "max        8713.000000\n",
              "Name: recommendations, dtype: float64"
            ]
          },
          "metadata": {}
        },
        {
          "output_type": "display_data",
          "data": {
            "text/plain": [
              "0       19672\n",
              "1       15767\n",
              "2       12280\n",
              "3        9728\n",
              "4        7863\n",
              "        ...  \n",
              "2144        1\n",
              "481         1\n",
              "673         1\n",
              "801         1\n",
              "2783        1\n",
              "Name: recommendations, Length: 955, dtype: int64"
            ]
          },
          "metadata": {}
        },
        {
          "output_type": "display_data",
          "data": {
            "image/png": "[encoded data removed]",
            "text/plain": [
              "<Figure size 432x288 with 1 Axes>"
            ]
          },
          "metadata": {
            "needs_background": "light"
          }
        }
      ]
    },
    {
      "cell_type": "code",
      "metadata": {
        "id": "V4sxAhdGbwie"
      },
      "source": [
        "# VIZ: plot comment length against number of recommendations"
      ],
      "execution_count": 59,
      "outputs": []
    },
    {
      "cell_type": "code",
      "metadata": {
        "colab": {
          "base_uri": "https://localhost:8080/",
          "height": 0
        },
        "id": "NoCom2GeHnOG",
        "outputId": "15468822-4794-4406-a5d6-93dad0a3f02e"
      },
      "source": [
        "#feature engineer recommendations into highly recommended\n",
        "recommendations_threshold = df['recommendations'].quantile(0.9)\n",
        "df['highly_recommended'] = df['recommendations'].apply(lambda x: True if x > recommendations_threshold else False)\n",
        "df['recommended'] = df['recommendations'].apply(lambda x: True if x > 0 else False)\n",
        "if print_detail:\n",
        "    display(df['recommended'].value_counts())\n",
        "    display(df['highly_recommended'].value_counts())"
      ],
      "execution_count": 60,
      "outputs": [
        {
          "output_type": "display_data",
          "data": {
            "text/plain": [
              "True     104020\n",
              "False     19672\n",
              "Name: recommended, dtype: int64"
            ]
          },
          "metadata": {}
        },
        {
          "output_type": "display_data",
          "data": {
            "text/plain": [
              "False    111710\n",
              "True      11982\n",
              "Name: highly_recommended, dtype: int64"
            ]
          },
          "metadata": {}
        }
      ]
    },
    {
      "cell_type": "code",
      "metadata": {
        "colab": {
          "base_uri": "https://localhost:8080/",
          "height": 0
        },
        "id": "GMhWXy2-HnOG",
        "outputId": "fb13deb8-7623-4666-ac8d-17ed6c2b771d"
      },
      "source": [
        "#reply count\n",
        "quick_look(df, 'replyCount', (1, 10), 20)"
      ],
      "execution_count": 61,
      "outputs": [
        {
          "output_type": "stream",
          "name": "stdout",
          "text": [
            "replyCount description: \n"
          ]
        },
        {
          "output_type": "display_data",
          "data": {
            "text/plain": [
              "count    123692.000000\n",
              "mean          0.420270\n",
              "std           2.955607\n",
              "min           0.000000\n",
              "25%           0.000000\n",
              "50%           0.000000\n",
              "75%           0.000000\n",
              "max         668.000000\n",
              "Name: replyCount, dtype: float64"
            ]
          },
          "metadata": {}
        },
        {
          "output_type": "display_data",
          "data": {
            "text/plain": [
              "0      100609\n",
              "1       13339\n",
              "2        4596\n",
              "3        2060\n",
              "4        1040\n",
              "5         643\n",
              "6         372\n",
              "7         243\n",
              "8         183\n",
              "9         125\n",
              "10         98\n",
              "11         78\n",
              "12         52\n",
              "13         43\n",
              "14         28\n",
              "15         26\n",
              "17         22\n",
              "16         13\n",
              "18         13\n",
              "22         10\n",
              "21         10\n",
              "23         10\n",
              "20          9\n",
              "19          7\n",
              "25          6\n",
              "24          5\n",
              "29          5\n",
              "30          5\n",
              "36          4\n",
              "28          3\n",
              "31          3\n",
              "26          3\n",
              "32          2\n",
              "54          2\n",
              "45          2\n",
              "37          2\n",
              "35          2\n",
              "55          2\n",
              "33          1\n",
              "208         1\n",
              "89          1\n",
              "52          1\n",
              "130         1\n",
              "113         1\n",
              "46          1\n",
              "69          1\n",
              "42          1\n",
              "105         1\n",
              "41          1\n",
              "40          1\n",
              "39          1\n",
              "38          1\n",
              "668         1\n",
              "530         1\n",
              "61          1\n",
              "Name: replyCount, dtype: int64"
            ]
          },
          "metadata": {}
        },
        {
          "output_type": "display_data",
          "data": {
            "image/png": "[encoded data removed]",
            "text/plain": [
              "<Figure size 432x288 with 1 Axes>"
            ]
          },
          "metadata": {
            "needs_background": "light"
          }
        }
      ]
    },
    {
      "cell_type": "code",
      "metadata": {
        "id": "RQGC_6Dob5rW"
      },
      "source": [
        "#VIZ plot comment length against reply count"
      ],
      "execution_count": 62,
      "outputs": []
    },
    {
      "cell_type": "code",
      "metadata": {
        "colab": {
          "base_uri": "https://localhost:8080/",
          "height": 0
        },
        "id": "ors5JujnHnOG",
        "outputId": "a0c6dd18-6952-45fa-e9d4-60849bd6fe1a"
      },
      "source": [
        "#feature engineering reply count into categorical\n",
        "\n",
        "df['replied_to'] = df['replyCount'].apply(lambda x: True if x > 0 else False)\n",
        "df['highly_replied_to'] = df['replyCount'].apply(lambda x: True if x > 5 else False)\n",
        "\n",
        "if print_detail:\n",
        "    display(df['replied_to'].value_counts())\n",
        "    display(df['highly_replied_to'].value_counts())"
      ],
      "execution_count": 63,
      "outputs": [
        {
          "output_type": "display_data",
          "data": {
            "text/plain": [
              "False    100609\n",
              "True      23083\n",
              "Name: replied_to, dtype: int64"
            ]
          },
          "metadata": {}
        },
        {
          "output_type": "display_data",
          "data": {
            "text/plain": [
              "False    122287\n",
              "True       1405\n",
              "Name: highly_replied_to, dtype: int64"
            ]
          },
          "metadata": {}
        }
      ]
    },
    {
      "cell_type": "code",
      "metadata": {
        "colab": {
          "base_uri": "https://localhost:8080/",
          "height": 0
        },
        "id": "1A5Rw7phHnOH",
        "outputId": "bcebd49c-8730-4e09-bd18-026e4bc59692"
      },
      "source": [
        "df.loc[df['replyCount'] < 0]"
      ],
      "execution_count": 64,
      "outputs": [
        {
          "output_type": "execute_result",
          "data": {
            "text/html": [
              "<div>\n",
              "<style scoped>\n",
              "    .dataframe tbody tr th:only-of-type {\n",
              "        vertical-align: middle;\n",
              "    }\n",
              "\n",
              "    .dataframe tbody tr th {\n",
              "        vertical-align: top;\n",
              "    }\n",
              "\n",
              "    .dataframe thead th {\n",
              "        text-align: right;\n",
              "    }\n",
              "</style>\n",
              "<table border=\"1\" class=\"dataframe\">\n",
              "  <thead>\n",
              "    <tr style=\"text-align: right;\">\n",
              "      <th></th>\n",
              "      <th>articleID</th>\n",
              "      <th>articleWordCount_x</th>\n",
              "      <th>commentBody</th>\n",
              "      <th>commentID</th>\n",
              "      <th>commentType</th>\n",
              "      <th>depth</th>\n",
              "      <th>editorsSelection</th>\n",
              "      <th>newDesk_x</th>\n",
              "      <th>recommendations</th>\n",
              "      <th>replyCount</th>\n",
              "      <th>timespeople</th>\n",
              "      <th>trusted</th>\n",
              "      <th>documentType</th>\n",
              "      <th>headline</th>\n",
              "      <th>pubDate</th>\n",
              "      <th>article_comment_total</th>\n",
              "      <th>comment_length</th>\n",
              "      <th>article_reply_total</th>\n",
              "      <th>article_rec_total</th>\n",
              "      <th>highly_commented</th>\n",
              "      <th>high_total_recommendations</th>\n",
              "      <th>high_total_reply</th>\n",
              "      <th>depth_total</th>\n",
              "      <th>depth_ratio</th>\n",
              "      <th>commentLength</th>\n",
              "      <th>highly_recommended</th>\n",
              "      <th>recommended</th>\n",
              "      <th>replied_to</th>\n",
              "      <th>highly_replied_to</th>\n",
              "    </tr>\n",
              "  </thead>\n",
              "  <tbody>\n",
              "  </tbody>\n",
              "</table>\n",
              "</div>"
            ],
            "text/plain": [
              "Empty DataFrame\n",
              "Columns: [articleID, articleWordCount_x, commentBody, commentID, commentType, depth, editorsSelection, newDesk_x, recommendations, replyCount, timespeople, trusted, documentType, headline, pubDate, article_comment_total, comment_length, article_reply_total, article_rec_total, highly_commented, high_total_recommendations, high_total_reply, depth_total, depth_ratio, commentLength, highly_recommended, recommended, replied_to, highly_replied_to]\n",
              "Index: []"
            ]
          },
          "metadata": {},
          "execution_count": 64
        }
      ]
    },
    {
      "cell_type": "code",
      "metadata": {
        "colab": {
          "base_uri": "https://localhost:8080/",
          "height": 0
        },
        "id": "zQsNGAVFHnOH",
        "outputId": "6a0a0aeb-3c7b-4cd5-c36d-cb10fa7267b5"
      },
      "source": [
        "#depth\n",
        "quick_look(df, 'depth', (1, 5))"
      ],
      "execution_count": 65,
      "outputs": [
        {
          "output_type": "stream",
          "name": "stdout",
          "text": [
            "depth description: \n"
          ]
        },
        {
          "output_type": "display_data",
          "data": {
            "text/plain": [
              "count    123692.000000\n",
              "mean          1.323877\n",
              "std           0.503636\n",
              "min           1.000000\n",
              "25%           1.000000\n",
              "50%           1.000000\n",
              "75%           2.000000\n",
              "max           4.000000\n",
              "Name: depth, dtype: float64"
            ]
          },
          "metadata": {}
        },
        {
          "output_type": "display_data",
          "data": {
            "text/plain": [
              "1.0    85768\n",
              "2.0    35794\n",
              "3.0     2123\n",
              "4.0        7\n",
              "Name: depth, dtype: int64"
            ]
          },
          "metadata": {}
        },
        {
          "output_type": "display_data",
          "data": {
            "image/png": "[encoded data removed]",
            "text/plain": [
              "<Figure size 432x288 with 1 Axes>"
            ]
          },
          "metadata": {
            "needs_background": "light"
          }
        }
      ]
    },
    {
      "cell_type": "code",
      "metadata": {
        "colab": {
          "base_uri": "https://localhost:8080/",
          "height": 0
        },
        "id": "d0T8ag_uHnOI",
        "outputId": "7edd4047-a711-47cd-952a-2a97975eb34d"
      },
      "source": [
        "#editor selected\n",
        "quick_look(df, 'editorsSelection', (0, 100))"
      ],
      "execution_count": 66,
      "outputs": [
        {
          "output_type": "stream",
          "name": "stdout",
          "text": [
            "editorsSelection description: \n"
          ]
        },
        {
          "output_type": "display_data",
          "data": {
            "text/plain": [
              "count     123692\n",
              "unique         2\n",
              "top        False\n",
              "freq      121825\n",
              "Name: editorsSelection, dtype: object"
            ]
          },
          "metadata": {}
        },
        {
          "output_type": "display_data",
          "data": {
            "text/plain": [
              "False    121825\n",
              "True       1867\n",
              "Name: editorsSelection, dtype: int64"
            ]
          },
          "metadata": {}
        },
        {
          "output_type": "stream",
          "name": "stderr",
          "text": [
            "<string>:6: RuntimeWarning:\n",
            "\n",
            "Converting input from bool to <class 'numpy.uint8'> for compatibility.\n",
            "\n"
          ]
        },
        {
          "output_type": "display_data",
          "data": {
            "image/png": "[encoded data removed]",
            "text/plain": [
              "<Figure size 432x288 with 1 Axes>"
            ]
          },
          "metadata": {
            "needs_background": "light"
          }
        }
      ]
    },
    {
      "cell_type": "code",
      "metadata": {
        "colab": {
          "base_uri": "https://localhost:8080/",
          "height": 0
        },
        "id": "ZQ2rjPtdHnOI",
        "outputId": "41abd487-2772-4fa1-bf7a-a296d014860b"
      },
      "source": [
        "#timespeople\n",
        "quick_look(df, 'timespeople', (0, 100))"
      ],
      "execution_count": 67,
      "outputs": [
        {
          "output_type": "stream",
          "name": "stdout",
          "text": [
            "timespeople description: \n"
          ]
        },
        {
          "output_type": "display_data",
          "data": {
            "text/plain": [
              "count    123692.000000\n",
              "mean          0.915726\n",
              "std           0.277799\n",
              "min           0.000000\n",
              "25%           1.000000\n",
              "50%           1.000000\n",
              "75%           1.000000\n",
              "max           1.000000\n",
              "Name: timespeople, dtype: float64"
            ]
          },
          "metadata": {}
        },
        {
          "output_type": "display_data",
          "data": {
            "text/plain": [
              "1    113268\n",
              "0     10424\n",
              "Name: timespeople, dtype: int64"
            ]
          },
          "metadata": {}
        },
        {
          "output_type": "display_data",
          "data": {
            "image/png": "[encoded data removed]",
            "text/plain": [
              "<Figure size 432x288 with 1 Axes>"
            ]
          },
          "metadata": {
            "needs_background": "light"
          }
        }
      ]
    },
    {
      "cell_type": "code",
      "metadata": {
        "colab": {
          "base_uri": "https://localhost:8080/",
          "height": 0
        },
        "id": "4NslU8jVHnOI",
        "outputId": "517d7e6e-a312-4ff7-bf99-45d1386b05ee"
      },
      "source": [
        "#trusted\n",
        "quick_look(df, 'trusted', (0, 100))"
      ],
      "execution_count": 68,
      "outputs": [
        {
          "output_type": "stream",
          "name": "stdout",
          "text": [
            "trusted description: \n"
          ]
        },
        {
          "output_type": "display_data",
          "data": {
            "text/plain": [
              "count    123692.000000\n",
              "mean          0.033082\n",
              "std           0.178852\n",
              "min           0.000000\n",
              "25%           0.000000\n",
              "50%           0.000000\n",
              "75%           0.000000\n",
              "max           1.000000\n",
              "Name: trusted, dtype: float64"
            ]
          },
          "metadata": {}
        },
        {
          "output_type": "display_data",
          "data": {
            "text/plain": [
              "0    119600\n",
              "1      4092\n",
              "Name: trusted, dtype: int64"
            ]
          },
          "metadata": {}
        },
        {
          "output_type": "display_data",
          "data": {
            "image/png": "[encoded data removed]",
            "text/plain": [
              "<Figure size 432x288 with 1 Axes>"
            ]
          },
          "metadata": {
            "needs_background": "light"
          }
        }
      ]
    },
    {
      "cell_type": "code",
      "metadata": {
        "id": "4n-oaLAdcLiI"
      },
      "source": [
        "#VIZ plot visualization of all, highly recommended, and highly replied comments\n",
        "ys = [df, df.loc[df['highly_recommended'] == True], df.loc[df['highly_replied_to'] == True]]\n"
      ],
      "execution_count": 69,
      "outputs": []
    },
    {
      "cell_type": "markdown",
      "metadata": {
        "id": "P-YE54DmHnOI"
      },
      "source": [
        "### Feature Engineering Abuse Flag"
      ]
    },
    {
      "cell_type": "code",
      "metadata": {
        "id": "4qlNQ3TPHnOJ"
      },
      "source": [
        "# using this function to detect if we have any abusive comments\n",
        "\n",
        "# def get_top_hs_class(sonar_obj, comment):\n",
        "#     '''accepts a HateSonar Sonar object and a string comment (unprocessed) and returns the class with \n",
        "#     the highest confidence score.\n",
        "#     Class options are: hate speech, offensive language, neither'''\n",
        "#     results = sonar_obj.ping(text=comment)\n",
        "\n",
        "#     # hs_conf = results['classes']['class_name' == 'hate_speech']['confidence']\n",
        "#     # off_conf = results['classes']['class_name' == 'offensive_language']['confidence']\n",
        "#     # none_conf = results['classes']['class_name' == 'neither']['confidence']\n",
        "\n",
        "#     return results['top_class']"
      ],
      "execution_count": 70,
      "outputs": []
    },
    {
      "cell_type": "code",
      "metadata": {
        "id": "Xo1smKpkHnOJ"
      },
      "source": [
        "# sonar = Sonar()\n",
        "# df['hateSonar_result'] = df['commentBody'].apply(lambda x: get_top_hs_class(sonar, x))"
      ],
      "execution_count": 71,
      "outputs": []
    },
    {
      "cell_type": "code",
      "metadata": {
        "id": "gl-4T5vdHnOJ"
      },
      "source": [
        "# pd.set_option('display.max_colwidth', 0)\n",
        "\n",
        "# # display(df['hateSonar_result'].value_counts())\n",
        "\n",
        "# # display(df['commentBody'].loc[df['hateSonar_result'] == 'hate_speech'])\n",
        "# # display(df['commentBody'].loc[df['hateSonar_result'] == 'offensive_language'])"
      ],
      "execution_count": 72,
      "outputs": []
    },
    {
      "cell_type": "code",
      "metadata": {
        "id": "-J_ffkESHnOK"
      },
      "source": [
        "# # using this function to detect if we have any abusive comments\n",
        "\n",
        "# def bool_top_hs_class(sonar_obj, comment):\n",
        "#     '''accepts a HateSonar Sonar object and a string comment (unprocessed) and runs the hateSonar program.\n",
        "#     If the comment is more likely than not to be either hate speech or offensive language, the program will \n",
        "#     Class options are: hate speech, offensive language, neither'''\n",
        "    \n",
        "#     #likelihood that speech is NOT hate speech must be lower than this value to be flagged\n",
        "#     threshold = 0.03\n",
        "    \n",
        "#     #run hateSonar\n",
        "#     results = sonar_obj.ping(text=comment)\n",
        "\n",
        "#     #initially save top result as the label\n",
        "#     label = results['top_class']\n",
        "\n",
        "#     #if the initial label is hate speech or offensive language\n",
        "#     if label == 'neither':\n",
        "#         label = False\n",
        "#     elif results['classes']['class_name' == 'neither']['confidence'] > threshold:\n",
        "#         label = False\n",
        "#     else:\n",
        "#         label = True\n",
        "        \n",
        "#     return label"
      ],
      "execution_count": 73,
      "outputs": []
    },
    {
      "cell_type": "code",
      "metadata": {
        "id": "sYm1-tYBHnOL"
      },
      "source": [
        "# df['hateSonar_abuse_flag'] = df['commentBody'].apply(lambda x: bool_top_hs_class(sonar, x))"
      ],
      "execution_count": 74,
      "outputs": []
    },
    {
      "cell_type": "code",
      "metadata": {
        "id": "pfrwIntrHnOM"
      },
      "source": [
        "# df['hateSonar_abuse_flag'].value_counts()"
      ],
      "execution_count": 75,
      "outputs": []
    },
    {
      "cell_type": "code",
      "metadata": {
        "id": "rYq9XOzJHnOM"
      },
      "source": [
        "# df['commentBody'].loc[df['hateSonar_abuse_flag'] == True]"
      ],
      "execution_count": 76,
      "outputs": []
    },
    {
      "cell_type": "code",
      "metadata": {
        "id": "jEEttPohHnOM"
      },
      "source": [
        "# df_sections = df.groupby(by='newDesk_x').sum()\n",
        "# df_sections['hateSonar_abuse_flag']"
      ],
      "execution_count": 77,
      "outputs": []
    },
    {
      "cell_type": "code",
      "metadata": {
        "id": "2iPSnJFUHnON"
      },
      "source": [
        "# df.columns"
      ],
      "execution_count": 78,
      "outputs": []
    },
    {
      "cell_type": "markdown",
      "metadata": {
        "id": "O35eYjCwHnON"
      },
      "source": [
        "Limitations: hate sonar detects problematic speech where there isn't any. It flags good-faith discussions of race, faith, sex/gender, suicide, and other topics sensitive topics. It also (understandably) struggles with quotes and sarcasm. \n",
        "It could also be missing problematic speech.\n",
        "An interesting takeaway from this is that context is incredibly important for training hate speech detection tools. Hate speech in the comments of New York Times articles is likely to look very different from objectionable speech on Twitter at large, for example. "
      ]
    },
    {
      "cell_type": "markdown",
      "metadata": {
        "id": "4AMw8HYkHnOQ"
      },
      "source": [
        "## Data Preprocessing"
      ]
    },
    {
      "cell_type": "code",
      "metadata": {
        "id": "CeJ-phs2HnOR"
      },
      "source": [
        "from io import StringIO\n",
        "from html.parser import HTMLParser\n",
        "\n",
        "class MLStripper(HTMLParser):\n",
        "    def __init__(self):\n",
        "        super().__init__()\n",
        "        self.reset()\n",
        "        self.strict = False\n",
        "        self.convert_charrefs= True\n",
        "        self.text = StringIO()\n",
        "    def handle_data(self, d):\n",
        "        self.text.write(d)\n",
        "    def get_data(self):\n",
        "        return self.text.getvalue()\n",
        "\n",
        "def strip_tags(html):\n",
        "    s = MLStripper()\n",
        "    s.feed(html)\n",
        "    return s.get_data()"
      ],
      "execution_count": 79,
      "outputs": []
    },
    {
      "cell_type": "code",
      "metadata": {
        "id": "EyodmT1hHnOR"
      },
      "source": [
        "#test run for processing a single string - want to functionalize\n",
        "#integers = []\n",
        "\n",
        "# def lower_and_sw_filter(comment_str):\n",
        "#     ''' this function returns a string with all the characters converted to lowercase\n",
        "#     and all stopwords and punctuation removed'''\n",
        "    \n",
        "#     #strip html tags\n",
        "#     comment_str = strip_tags(comment_str)\n",
        "    \n",
        "#     #lowercase\n",
        "#     comment_str = comment_str.lower()\n",
        "\n",
        "#     #tokenize\n",
        "#     tokenizer = RegexpTokenizer(r'[a-zA-Z0-9]+')\n",
        "\n",
        "#     comment_str = tokenizer.tokenize(comment_str)\n",
        "\n",
        "#     #stopwords\n",
        "\n",
        "#     filtered = list(filter(lambda x: x.lower() not in stopwords_set, comment_str))\n",
        "\n",
        "#     #lemmatize\n",
        "\n",
        "#     lemmatizer = WordNetLemmatizer()\n",
        "#     lemma = []\n",
        "#     for word in filtered:\n",
        "# #         #print(word)\n",
        "# #         if word.isdigit():\n",
        "# #             int_list.append(word)\n",
        "        \n",
        "#         lemmatized_word = lemmatizer.lemmatize(word)\n",
        "#         lemma.append(lemmatized_word)\n",
        "    \n",
        "#     lemma = ' '.join(lemma)\n",
        "    \n",
        "#     return lemma"
      ],
      "execution_count": 80,
      "outputs": []
    },
    {
      "cell_type": "code",
      "metadata": {
        "id": "05jujITOq1W_"
      },
      "source": [
        "#test run for processing a single string - want to functionalize\n",
        "#integers = []\n",
        "\n",
        "corpus = []\n",
        "\n",
        "def lower_and_sw_filter(comment_str, corpus_list):\n",
        "    ''' this function returns a string with all the characters converted to lowercase\n",
        "    and all stopwords and punctuation removed'''\n",
        "    \n",
        "    #strip html tags\n",
        "    comment_str = strip_tags(comment_str)\n",
        "    \n",
        "    #lowercase\n",
        "    comment_str = comment_str.lower()\n",
        "\n",
        "    #tokenize\n",
        "    tokenizer = RegexpTokenizer(r'[a-zA-Z0-9]+')\n",
        "\n",
        "    comment_str = tokenizer.tokenize(comment_str)\n",
        "\n",
        "    #stopwords\n",
        "\n",
        "    filtered = list(filter(lambda x: x.lower() not in stopwords_set, comment_str))\n",
        "\n",
        "    #lemmatize\n",
        "\n",
        "    lemmatizer = WordNetLemmatizer()\n",
        "    lemma = []\n",
        "    for word in filtered:\n",
        "#         #print(word)\n",
        "#         if word.isdigit():\n",
        "#             int_list.append(word)\n",
        "        \n",
        "        lemmatized_word = lemmatizer.lemmatize(word)\n",
        "        lemma.append(lemmatized_word)\n",
        "    corpus_list = corpus_list + lemma\n",
        "    lemma = ' '.join(lemma)\n",
        "    \n",
        "    return lemma"
      ],
      "execution_count": 81,
      "outputs": []
    },
    {
      "cell_type": "code",
      "metadata": {
        "colab": {
          "base_uri": "https://localhost:8080/",
          "height": 0
        },
        "id": "wQNqUGePHnOS",
        "outputId": "4d07610c-6566-4c60-afb7-886f69c8ff60"
      },
      "source": [
        "df['processed_comment'] = df['commentBody'].apply(lambda x: lower_and_sw_filter(x, corpus))\n",
        "df.drop('commentBody', axis=1, inplace=True)\n",
        "df.columns"
      ],
      "execution_count": 82,
      "outputs": [
        {
          "output_type": "execute_result",
          "data": {
            "text/plain": [
              "Index(['articleID', 'articleWordCount_x', 'commentID', 'commentType', 'depth',\n",
              "       'editorsSelection', 'newDesk_x', 'recommendations', 'replyCount',\n",
              "       'timespeople', 'trusted', 'documentType', 'headline', 'pubDate',\n",
              "       'article_comment_total', 'comment_length', 'article_reply_total',\n",
              "       'article_rec_total', 'highly_commented', 'high_total_recommendations',\n",
              "       'high_total_reply', 'depth_total', 'depth_ratio', 'commentLength',\n",
              "       'highly_recommended', 'recommended', 'replied_to', 'highly_replied_to',\n",
              "       'processed_comment'],\n",
              "      dtype='object')"
            ]
          },
          "metadata": {},
          "execution_count": 82
        }
      ]
    },
    {
      "cell_type": "code",
      "metadata": {
        "id": "xi2V6ybZaQYG"
      },
      "source": [
        "# from collections import Counter\n",
        "\n",
        "# # corpus = []\n",
        "# # for each in df['processed_comment']:\n",
        "# #   corpus = corpus + each.split()\n",
        "# counted = Counter(corpus)\n",
        "\n",
        "# word_freq = pd.DataFrame(counted.items(),columns=['word','frequency']).sort_values(by='frequency',ascending=False)\n",
        "\n",
        "# word_freq.head(10)"
      ],
      "execution_count": 83,
      "outputs": []
    },
    {
      "cell_type": "markdown",
      "metadata": {
        "id": "c339Q_e_lp1e"
      },
      "source": [
        "### EDA Conclusions"
      ]
    },
    {
      "cell_type": "markdown",
      "metadata": {
        "id": "23ECTY5VHnOS"
      },
      "source": [
        "## Modeling "
      ]
    },
    {
      "cell_type": "markdown",
      "metadata": {
        "id": "l6n6KSSdHnOS"
      },
      "source": [
        "### Additional preprocessing for modeling"
      ]
    },
    {
      "cell_type": "markdown",
      "metadata": {
        "id": "ifYPkZIfmm9X"
      },
      "source": [
        "Initially, I had hoped to use only the processed text data to make predictions about the number of recommendations the comment would earn. Given the difficulties I encountered with running models with any meaningful amount of data, I chose to add in some additional relevant features in hopes of helping the model. Below is my final selection of columns for the model."
      ]
    },
    {
      "cell_type": "code",
      "metadata": {
        "colab": {
          "base_uri": "https://localhost:8080/",
          "height": 260
        },
        "id": "CUqzdjHLHnOS",
        "outputId": "170da2a5-ef77-4961-a43e-39dab87a868a"
      },
      "source": [
        "display(df.columns)\n",
        "\n",
        "keep = ['articleWordCount_x', 'commentType', 'depth',\n",
        "       'editorsSelection', 'newDesk_x', 'replyCount',\n",
        "       'timespeople', 'trusted', 'documentType', \n",
        "       'article_comment_total', 'article_reply_total', \n",
        "        'commentLength', 'highly_recommended', \n",
        "        'processed_comment']\n",
        "\n",
        "df = reverse_drop(df, keep)\n",
        "df.columns"
      ],
      "execution_count": 84,
      "outputs": [
        {
          "output_type": "display_data",
          "data": {
            "text/plain": [
              "Index(['articleID', 'articleWordCount_x', 'commentID', 'commentType', 'depth',\n",
              "       'editorsSelection', 'newDesk_x', 'recommendations', 'replyCount',\n",
              "       'timespeople', 'trusted', 'documentType', 'headline', 'pubDate',\n",
              "       'article_comment_total', 'comment_length', 'article_reply_total',\n",
              "       'article_rec_total', 'highly_commented', 'high_total_recommendations',\n",
              "       'high_total_reply', 'depth_total', 'depth_ratio', 'commentLength',\n",
              "       'highly_recommended', 'recommended', 'replied_to', 'highly_replied_to',\n",
              "       'processed_comment'],\n",
              "      dtype='object')"
            ]
          },
          "metadata": {}
        },
        {
          "output_type": "execute_result",
          "data": {
            "text/plain": [
              "Index(['articleWordCount_x', 'commentType', 'depth', 'editorsSelection',\n",
              "       'newDesk_x', 'replyCount', 'timespeople', 'trusted', 'documentType',\n",
              "       'article_comment_total', 'article_reply_total', 'commentLength',\n",
              "       'highly_recommended', 'processed_comment'],\n",
              "      dtype='object')"
            ]
          },
          "metadata": {},
          "execution_count": 84
        }
      ]
    },
    {
      "cell_type": "markdown",
      "metadata": {
        "id": "KrqBKBYCnG5o"
      },
      "source": [
        "I then sorted the columns by type for preprocessing."
      ]
    },
    {
      "cell_type": "code",
      "metadata": {
        "colab": {
          "base_uri": "https://localhost:8080/",
          "height": 0
        },
        "id": "ofPIT7qOE3gH",
        "outputId": "a93ededb-ffa0-4343-d610-596b13ddb162"
      },
      "source": [
        "df.info()\n",
        "\n",
        "continuous = ['articleWordCount_x', 'replyCount', 'article_comment_total', 'article_reply_total', 'commentLength']\n",
        "\n",
        "categorical = ['commentType', 'depth', 'newDesk_x', 'documentType']\n",
        "\n",
        "boolean = ['timespeople', 'trusted', 'editorsSelection']"
      ],
      "execution_count": 85,
      "outputs": [
        {
          "output_type": "stream",
          "name": "stdout",
          "text": [
            "<class 'pandas.core.frame.DataFrame'>\n",
            "Int64Index: 123692 entries, 48395 to 203986\n",
            "Data columns (total 14 columns):\n",
            " #   Column                 Non-Null Count   Dtype  \n",
            "---  ------                 --------------   -----  \n",
            " 0   articleWordCount_x     123692 non-null  float64\n",
            " 1   commentType            123692 non-null  object \n",
            " 2   depth                  123692 non-null  float64\n",
            " 3   editorsSelection       123692 non-null  bool   \n",
            " 4   newDesk_x              123692 non-null  object \n",
            " 5   replyCount             123692 non-null  int64  \n",
            " 6   timespeople            123692 non-null  int64  \n",
            " 7   trusted                123692 non-null  int64  \n",
            " 8   documentType           123692 non-null  object \n",
            " 9   article_comment_total  123692 non-null  int64  \n",
            " 10  article_reply_total    123692 non-null  int64  \n",
            " 11  commentLength          123692 non-null  int64  \n",
            " 12  highly_recommended     123692 non-null  bool   \n",
            " 13  processed_comment      123692 non-null  object \n",
            "dtypes: bool(2), float64(2), int64(6), object(4)\n",
            "memory usage: 12.5+ MB\n"
          ]
        }
      ]
    },
    {
      "cell_type": "code",
      "metadata": {
        "colab": {
          "base_uri": "https://localhost:8080/",
          "height": 0
        },
        "id": "u71ID0C1Gl9i",
        "outputId": "cbfbbe0f-9534-4fcd-f823-38b1216a6000"
      },
      "source": [
        "# boolean preprocessing\n",
        "for each in boolean:\n",
        "  print(df[each].unique())\n",
        "  df[each] = df[each].astype(bool)\n",
        "\n",
        "df[boolean].info()"
      ],
      "execution_count": 86,
      "outputs": [
        {
          "output_type": "stream",
          "name": "stdout",
          "text": [
            "[1 0]\n",
            "[0 1]\n",
            "[False  True]\n",
            "<class 'pandas.core.frame.DataFrame'>\n",
            "Int64Index: 123692 entries, 48395 to 203986\n",
            "Data columns (total 3 columns):\n",
            " #   Column            Non-Null Count   Dtype\n",
            "---  ------            --------------   -----\n",
            " 0   timespeople       123692 non-null  bool \n",
            " 1   trusted           123692 non-null  bool \n",
            " 2   editorsSelection  123692 non-null  bool \n",
            "dtypes: bool(3)\n",
            "memory usage: 1.3 MB\n"
          ]
        }
      ]
    },
    {
      "cell_type": "markdown",
      "metadata": {
        "id": "dgDiLd2WnL-7"
      },
      "source": [
        "I one-hot-encoded the categorical variables as is standard."
      ]
    },
    {
      "cell_type": "code",
      "metadata": {
        "colab": {
          "base_uri": "https://localhost:8080/",
          "height": 0
        },
        "id": "I7ICQgxFHX0K",
        "outputId": "63365b64-ad1f-41ec-ff5a-7bf7209a2de5"
      },
      "source": [
        "#categorical preprocessing\n",
        "df[categorical].info()\n",
        "df['depth'] = df['depth'].astype(object)\n",
        "\n",
        "ohe = pd.get_dummies(df[categorical], prefix = categorical)\n",
        "\n",
        "df = df.join(ohe)"
      ],
      "execution_count": 87,
      "outputs": [
        {
          "output_type": "stream",
          "name": "stdout",
          "text": [
            "<class 'pandas.core.frame.DataFrame'>\n",
            "Int64Index: 123692 entries, 48395 to 203986\n",
            "Data columns (total 4 columns):\n",
            " #   Column        Non-Null Count   Dtype  \n",
            "---  ------        --------------   -----  \n",
            " 0   commentType   123692 non-null  object \n",
            " 1   depth         123692 non-null  float64\n",
            " 2   newDesk_x     123692 non-null  object \n",
            " 3   documentType  123692 non-null  object \n",
            "dtypes: float64(1), object(3)\n",
            "memory usage: 4.7+ MB\n"
          ]
        }
      ]
    },
    {
      "cell_type": "markdown",
      "metadata": {
        "id": "VcuHYkHJnTLl"
      },
      "source": [
        "And I used a Standard Scaler on the continuous data."
      ]
    },
    {
      "cell_type": "code",
      "metadata": {
        "id": "72rir1O9HaGt"
      },
      "source": [
        "#continuous preprocessing\n",
        "from sklearn.preprocessing import StandardScaler\n",
        "\n",
        "scaler = StandardScaler()\n",
        "\n",
        "for each in continuous:\n",
        "\n",
        "  temp = np.array(df[each])\n",
        "  temp = temp.reshape(-1, 1)\n",
        "  scaler.fit(temp)\n",
        "  df[each] = scaler.transform(temp)\n",
        "\n"
      ],
      "execution_count": 88,
      "outputs": []
    },
    {
      "cell_type": "markdown",
      "metadata": {
        "id": "Y9izPrrDY591"
      },
      "source": [
        "### Predicting Recommendations"
      ]
    },
    {
      "cell_type": "markdown",
      "metadata": {
        "id": "59ApfmgxHnOT"
      },
      "source": [
        "I split the data in to training and testing data, with my engineered 'highly recommended' variable as the outcome. I chose to use this variable as the outcome because it was most impactful in terms of the business case. To be able to detect which comments would fall in the top 90th percentile of comments would have been a pretty powerful affirmation of my business case. Had it been successful, I would have also tried to predicted highly replied articles and editor selected articles as well. "
      ]
    },
    {
      "cell_type": "code",
      "metadata": {
        "id": "P0XFNL6THnOT"
      },
      "source": [
        "X_train, X_test, y_train, y_test = train_test_split(df.drop('highly_recommended', axis=1), \n",
        "                                                    df['highly_recommended'], \n",
        "                                                    random_state=714)"
      ],
      "execution_count": 89,
      "outputs": []
    },
    {
      "cell_type": "markdown",
      "metadata": {
        "id": "aDxpn1H0HnOT"
      },
      "source": [
        "I used a TF-IDF vectorizer to vectorize and transform the text data in a single step. This was the site of some of my major data size issues. I found that the vectorizer couldn't handle too much data, and was forced to limit both the number of rows and columns. I was extremely hesitant to lose data, so I spent quite a bit of time ascertaining the maximum number of viable rows and columns for this function. "
      ]
    },
    {
      "cell_type": "code",
      "metadata": {
        "id": "U2Rpy71QHnOT"
      },
      "source": [
        "def tfidfify(train_text, test_text, tfidf=None):\n",
        "    if not tfidf:\n",
        "        tfidf = TfidfVectorizer(stop_words='english', dtype=np.float32, max_features = 10000)\n",
        "    tfidf.fit(train_text)\n",
        "    train_processed = tfidf.transform(train_text)\n",
        "    test_processed = tfidf.transform(test_text)\n",
        "\n",
        "    columns = tfidf.get_feature_names()\n",
        "    return (\n",
        "        pd.DataFrame(train_processed.toarray()),\n",
        "        pd.DataFrame(test_processed.toarray()),\n",
        "        columns\n",
        "    )"
      ],
      "execution_count": 90,
      "outputs": []
    },
    {
      "cell_type": "code",
      "metadata": {
        "colab": {
          "base_uri": "https://localhost:8080/",
          "height": 87
        },
        "id": "FBhB7VNnHnOU",
        "outputId": "b73928a8-53e6-48cb-9664-423328da8177"
      },
      "source": [
        "vect = TfidfVectorizer(stop_words='english', dtype=np.float32, max_features = 30000)\n",
        "train_processed, test_processed, feat_names = tfidfify(X_train['processed_comment'], X_test['processed_comment'], vect)\n",
        "\n",
        "print('Training Data shape:')\n",
        "display(train_processed.shape)\n",
        "print('Testing Data shape:')\n",
        "display(test_processed.shape)"
      ],
      "execution_count": 91,
      "outputs": [
        {
          "output_type": "stream",
          "name": "stdout",
          "text": [
            "Training Data shape:\n"
          ]
        },
        {
          "output_type": "display_data",
          "data": {
            "text/plain": [
              "(92769, 30000)"
            ]
          },
          "metadata": {}
        },
        {
          "output_type": "stream",
          "name": "stdout",
          "text": [
            "Testing Data shape:\n"
          ]
        },
        {
          "output_type": "display_data",
          "data": {
            "text/plain": [
              "(30923, 30000)"
            ]
          },
          "metadata": {}
        }
      ]
    },
    {
      "cell_type": "markdown",
      "metadata": {
        "id": "7Z22Z-uoodun"
      },
      "source": [
        "When I experienced issues with the TF-IDF vectorizer, I thought that separating the vectorizing and transforming steps might lighten the processing load. Ultimately, this ended up being irrelevant as the size of the data became an issue with the modeling itself. I also compared the two processing methods in the models, and got identical results."
      ]
    },
    {
      "cell_type": "code",
      "metadata": {
        "id": "MwdZVsbtHnOU"
      },
      "source": [
        "text_processing = Pipeline([\n",
        "    ('vect', CountVectorizer(max_features=30000)),\n",
        "    ('tfidf', TfidfTransformer())\n",
        "])"
      ],
      "execution_count": 92,
      "outputs": []
    },
    {
      "cell_type": "code",
      "metadata": {
        "colab": {
          "base_uri": "https://localhost:8080/",
          "height": 87
        },
        "id": "SYZXwuWg3g4j",
        "outputId": "9b141d40-b1d0-446c-f97d-08504ab3b960"
      },
      "source": [
        "text_processing.fit(X_train['processed_comment'])\n",
        "\n",
        "processed_train = text_processing.transform(X_train['processed_comment'])\n",
        "processed_test = text_processing.transform(X_test['processed_comment'])\n",
        "\n",
        "print('Training Data shape:')\n",
        "display(processed_train.shape)\n",
        "print('Testing Data shape:')\n",
        "display(processed_test.shape)"
      ],
      "execution_count": 93,
      "outputs": [
        {
          "output_type": "stream",
          "name": "stdout",
          "text": [
            "Training Data shape:\n"
          ]
        },
        {
          "output_type": "display_data",
          "data": {
            "text/plain": [
              "(92769, 30000)"
            ]
          },
          "metadata": {}
        },
        {
          "output_type": "stream",
          "name": "stdout",
          "text": [
            "Testing Data shape:\n"
          ]
        },
        {
          "output_type": "display_data",
          "data": {
            "text/plain": [
              "(30923, 30000)"
            ]
          },
          "metadata": {}
        }
      ]
    },
    {
      "cell_type": "markdown",
      "metadata": {
        "id": "xA2edqJFo3Xy"
      },
      "source": [
        "I also considered using PCA to decompose the data and remove some dimensionality, in hopes of reducing the required processing cost. However, the threshold for the amount of data that the PCA function could handle was similar to the amount of un-decomposed data that the functions could handle, which resulted in Colab crashing at the PCA function rather than the modelling function. "
      ]
    },
    {
      "cell_type": "code",
      "metadata": {
        "id": "giTub_5DJy4X"
      },
      "source": [
        "# from sklearn.decomposition import PCA\n",
        "\n",
        "# pca = PCA(n_components = 10000)\n",
        "# pca.fit_transform(train_processed)\n",
        "# print(np.sum(pca.explained_variance_ratio_))"
      ],
      "execution_count": 94,
      "outputs": []
    },
    {
      "cell_type": "code",
      "metadata": {
        "id": "JZLZRkyVm2Zh"
      },
      "source": [
        "def run_model(model, x_train = processed_train, x_test=processed_test, y_train=y_train, y_test=y_test):\n",
        "  '''This function accepts a model and runs it, along with the classification report. It comes with default\n",
        "  testing and training data specified, but allows for the specification of different data as well'''\n",
        "  model.fit(x_train.toarray(), y_train.values.ravel())\n",
        "\n",
        "  y_hat_test = model.predict(processed_test)\n",
        "  print(classification_report(y_test, y_hat_test))"
      ],
      "execution_count": 95,
      "outputs": []
    },
    {
      "cell_type": "code",
      "metadata": {
        "id": "xA5ITiuqZJgI"
      },
      "source": [
        "#initial models\n",
        "logreg = LogisticRegression(class_weight = 'balanced', max_iter=500)\n",
        "rforest = RandomForestClassifier(class_weight= 'balanced', n_estimators = 3)"
      ],
      "execution_count": 96,
      "outputs": []
    },
    {
      "cell_type": "code",
      "metadata": {
        "colab": {
          "base_uri": "https://localhost:8080/",
          "height": 0
        },
        "id": "9Q5tvZtGo1r-",
        "outputId": "cb0905d1-d2e5-43ac-9e0b-240b49533d5b"
      },
      "source": [
        "run_model(logreg)"
      ],
      "execution_count": 97,
      "outputs": [
        {
          "output_type": "stream",
          "name": "stdout",
          "text": [
            "              precision    recall  f1-score   support\n",
            "\n",
            "       False       0.93      0.74      0.82     27990\n",
            "        True       0.16      0.47      0.24      2933\n",
            "\n",
            "    accuracy                           0.71     30923\n",
            "   macro avg       0.54      0.61      0.53     30923\n",
            "weighted avg       0.86      0.71      0.77     30923\n",
            "\n"
          ]
        }
      ]
    },
    {
      "cell_type": "code",
      "metadata": {
        "colab": {
          "base_uri": "https://localhost:8080/",
          "height": 0
        },
        "id": "B6bZyNQXSk3m",
        "outputId": "724d3b04-bccd-42aa-cc15-7c81e75d092b"
      },
      "source": [
        "#attempting the logistic regression model without balanced classes\n",
        "logreg1 = LogisticRegression(max_iter=500)\n",
        "run_model(logreg1)"
      ],
      "execution_count": 98,
      "outputs": [
        {
          "output_type": "stream",
          "name": "stdout",
          "text": [
            "              precision    recall  f1-score   support\n",
            "\n",
            "       False       0.91      1.00      0.95     27990\n",
            "        True       0.39      0.00      0.01      2933\n",
            "\n",
            "    accuracy                           0.90     30923\n",
            "   macro avg       0.65      0.50      0.48     30923\n",
            "weighted avg       0.86      0.90      0.86     30923\n",
            "\n"
          ]
        }
      ]
    },
    {
      "cell_type": "markdown",
      "metadata": {
        "id": "DcPvstvwqFDl"
      },
      "source": [
        "At the recommendation of a Medium article, I also attempted to use a label encoder for my categorical variables instead of a one-hot-encoder. There was no improvement in the model's performance, which is understandable as the categorical variables are only a handful out of the final 30,000. "
      ]
    },
    {
      "cell_type": "code",
      "metadata": {
        "colab": {
          "base_uri": "https://localhost:8080/",
          "height": 0
        },
        "id": "gdNFFmd2VWxa",
        "outputId": "76341fbc-2aba-4066-a882-acc1dea7cc0d"
      },
      "source": [
        "# Label Encode instead of dummy variables\n",
        "\n",
        "mappings = []\n",
        "\n",
        "from sklearn.preprocessing import LabelEncoder\n",
        "\n",
        "label_encoder = LabelEncoder()\n",
        "\n",
        "label_df = df.copy(deep=True)\n",
        "for i, col in enumerate(label_df):\n",
        "    if col == 'processed_comment':\n",
        "      print(\"skipping text var\")\n",
        "    elif label_df[col].dtype == 'object':\n",
        "        label_df[col] = label_encoder.fit_transform(np.array(label_df[col].astype(str)).reshape((-1,)))\n",
        "        mappings.append(dict(zip(label_encoder.classes_, range(1, len(label_encoder.classes_)+1))))"
      ],
      "execution_count": 99,
      "outputs": [
        {
          "output_type": "stream",
          "name": "stdout",
          "text": [
            "skipping text var\n"
          ]
        }
      ]
    },
    {
      "cell_type": "markdown",
      "metadata": {
        "id": "vp052BzRqZ18"
      },
      "source": [
        "In order to test my one-hot-encoding versus label encoding hypothesis, I re-split and re-processed the data."
      ]
    },
    {
      "cell_type": "code",
      "metadata": {
        "id": "b29kK2UfXMk2"
      },
      "source": [
        "X_train, X_test, y_train, y_test = train_test_split(label_df.drop('highly_recommended', axis=1), \n",
        "                                                    label_df['highly_recommended'], \n",
        "                                                    random_state=714)"
      ],
      "execution_count": 100,
      "outputs": []
    },
    {
      "cell_type": "code",
      "metadata": {
        "colab": {
          "base_uri": "https://localhost:8080/",
          "height": 87
        },
        "id": "9U1bNYjaXFCJ",
        "outputId": "fff8af31-aa14-4b55-8c0e-22c780717b13"
      },
      "source": [
        "text_processing.fit(X_train['processed_comment'])\n",
        "\n",
        "processed_train_label = text_processing.transform(X_train['processed_comment'])\n",
        "processed_test_label = text_processing.transform(X_test['processed_comment'])\n",
        "\n",
        "print('Training Data shape:')\n",
        "display(processed_train_label.shape)\n",
        "print('Testing Data shape:')\n",
        "display(processed_test_label.shape)"
      ],
      "execution_count": 101,
      "outputs": [
        {
          "output_type": "stream",
          "name": "stdout",
          "text": [
            "Training Data shape:\n"
          ]
        },
        {
          "output_type": "display_data",
          "data": {
            "text/plain": [
              "(92769, 30000)"
            ]
          },
          "metadata": {}
        },
        {
          "output_type": "stream",
          "name": "stdout",
          "text": [
            "Testing Data shape:\n"
          ]
        },
        {
          "output_type": "display_data",
          "data": {
            "text/plain": [
              "(30923, 30000)"
            ]
          },
          "metadata": {}
        }
      ]
    },
    {
      "cell_type": "code",
      "metadata": {
        "id": "HBUd35rDXb4L"
      },
      "source": [
        "run_model(logreg, x_train=processed_train_label, x_test = processed_test_label)"
      ],
      "execution_count": null,
      "outputs": []
    },
    {
      "cell_type": "code",
      "metadata": {
        "id": "wbyjZOs4POrA"
      },
      "source": [
        "run_model(rforest)"
      ],
      "execution_count": null,
      "outputs": []
    },
    {
      "cell_type": "code",
      "metadata": {
        "id": "IN3_rbOg8DlF"
      },
      "source": [
        "# from sklearn.model_selection import GridSearchCV\n",
        "\n",
        "# grid_params = {\n",
        "#     'criterion' : ['gini', 'entropy'],\n",
        "#     'n_estimators' : [5, 10],\n",
        "#     'max_features' : [10000, 20000]\n",
        "# }\n",
        "\n",
        "# forest_search = RandomForestClassifier(class_weight = 'balanced')\n",
        "# rforest = GridSearchCV(forest_search, grid_params, cv = 5)\n",
        "\n",
        "# run_model(rforest)"
      ],
      "execution_count": null,
      "outputs": []
    },
    {
      "cell_type": "code",
      "metadata": {
        "id": "CquMgQKKUFlu"
      },
      "source": [
        "# from sklearn.tree import DecisionTreeClassifier\n",
        "\n",
        "# tree = DecisionTreeClassifier(class_weight='balanced')\n",
        "\n",
        "# run_model(tree)"
      ],
      "execution_count": null,
      "outputs": []
    },
    {
      "cell_type": "markdown",
      "metadata": {
        "id": "RY9NSYscHnOU"
      },
      "source": [
        "## Evaluation"
      ]
    },
    {
      "cell_type": "markdown",
      "metadata": {
        "id": "fpaM69RF382b"
      },
      "source": [
        "Although my results are less than ideal, I wanted to take a moment to explain the process for this project. My original goal was to use many more data points (potentially up to 1 million) and and unrestricted number of TF-IDF columns. That goal quickly proved unrealistic, as even fitting the TF-IDF model to that number of data points would have demanded over 1 TB of RAM."
      ]
    },
    {
      "cell_type": "markdown",
      "metadata": {
        "id": "hrowNqCS4dHJ"
      },
      "source": [
        "In addition to the size restrictions on the data mentioned previously, I was also limited by the processing power at my disposal. With the data at the current size, I was unable to run additional models due to the amount of RAM they would have required to process a model of that size. Given that I was already severely limiting the quality of the data, I did not want to whittle down the data further in order to run models on an ineffective data set. I had hoped to develop models using: support vector machines, naive Bayes, and XGBoost - none of which were able to work with this dataset with the given RAM. Even attempts to reduce the dimensionality of the data failed, as I was unable to fit a PCA decomposer with the limited processing power."
      ]
    },
    {
      "cell_type": "markdown",
      "metadata": {
        "id": "NEQJaGXTcgDr"
      },
      "source": [
        "\n",
        "| model name | precision | recall | accuracy |\n",
        "---|---|---|---|\n",
        "| logistic regression | 94/16 | 74/47 | 71% |\n",
        "| random forest |  91/12 | 98/3 | 89% |\n"
      ]
    },
    {
      "cell_type": "markdown",
      "metadata": {
        "id": "v9RE4t26d1of"
      },
      "source": [
        "Attempted Models:\n",
        "\n",
        "\n",
        "*   Support Vector Machine\n",
        "*   Decision Tree Classifier\n",
        "*   Naive Bayes\n",
        "*   Grid Search (for Random Forest or Decision Tree)\n",
        "\n",
        "Each of these models used too much RAM or computation time to be effective.\n",
        "\n"
      ]
    },
    {
      "cell_type": "markdown",
      "metadata": {
        "id": "rp8QjigyHnOV"
      },
      "source": [
        "## Conclusions"
      ]
    },
    {
      "cell_type": "code",
      "metadata": {
        "id": "Hsq0rE0lHnOV"
      },
      "source": [
        ""
      ],
      "execution_count": null,
      "outputs": []
    }
  ]
}